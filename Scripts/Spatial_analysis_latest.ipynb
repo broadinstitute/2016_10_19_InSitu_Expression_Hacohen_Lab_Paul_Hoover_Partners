{
 "cells": [
  {
   "cell_type": "code",
   "execution_count": 37,
   "metadata": {},
   "outputs": [],
   "source": [
    "\n",
    "import os\n",
    "import pandas as pd\n",
    "import numpy as np\n",
    "import plotnine as gg\n",
    "from plotnine import *\n",
    "import matplotlib.pyplot as plt"
   ]
  },
  {
   "cell_type": "code",
   "execution_count": 38,
   "metadata": {},
   "outputs": [
    {
     "data": {
      "text/plain": [
       "'/Users/habbasi/Documents/Broad/Broad_collaborative_projects /Assay_Dev_projects/Tissue_projects/2016_10_19_InSitu_Expression_Hacohen_Lab_Paul_Hoover_Partners/Scripts'"
      ]
     },
     "execution_count": 38,
     "metadata": {},
     "output_type": "execute_result"
    }
   ],
   "source": [
    "\n",
    "os.getcwd()"
   ]
  },
  {
   "cell_type": "markdown",
   "metadata": {},
   "source": [
    "## loading of data"
   ]
  },
  {
   "cell_type": "code",
   "execution_count": 39,
   "metadata": {},
   "outputs": [
    {
     "data": {
      "text/html": [
       "<div>\n",
       "<style scoped>\n",
       "    .dataframe tbody tr th:only-of-type {\n",
       "        vertical-align: middle;\n",
       "    }\n",
       "\n",
       "    .dataframe tbody tr th {\n",
       "        vertical-align: top;\n",
       "    }\n",
       "\n",
       "    .dataframe thead th {\n",
       "        text-align: right;\n",
       "    }\n",
       "</style>\n",
       "<table border=\"1\" class=\"dataframe\">\n",
       "  <thead>\n",
       "    <tr style=\"text-align: right;\">\n",
       "      <th></th>\n",
       "      <th>Image Location</th>\n",
       "      <th>Analysis Region</th>\n",
       "      <th>Analysis Inputs</th>\n",
       "      <th>Object Id</th>\n",
       "      <th>XMin</th>\n",
       "      <th>XMax</th>\n",
       "      <th>YMin</th>\n",
       "      <th>YMax</th>\n",
       "      <th>Opal 520 Copies</th>\n",
       "      <th>Opal 520 Area (µm²)</th>\n",
       "      <th>...</th>\n",
       "      <th>Opal 690 Copies</th>\n",
       "      <th>Opal 690 Area (µm²)</th>\n",
       "      <th>Opal 690 Classification</th>\n",
       "      <th>Opal 690 Cell Intensity</th>\n",
       "      <th>Opal 690 Avg Intensity</th>\n",
       "      <th>Cell Area (µm²)</th>\n",
       "      <th>Cytoplasm Area (µm²)</th>\n",
       "      <th>Nucleus Area (µm²)</th>\n",
       "      <th>Nucleus Perimeter (µm)</th>\n",
       "      <th>Nucleus Roundness</th>\n",
       "    </tr>\n",
       "  </thead>\n",
       "  <tbody>\n",
       "    <tr>\n",
       "      <th>0</th>\n",
       "      <td>\\\\172.20.47.181\\data\\CTC_Lab\\Polaris\\2020-01(J...</td>\n",
       "      <td>outline</td>\n",
       "      <td>Class List:;Classifier:;Classifier Output Type...</td>\n",
       "      <td>10</td>\n",
       "      <td>7239</td>\n",
       "      <td>7261</td>\n",
       "      <td>418</td>\n",
       "      <td>433</td>\n",
       "      <td>9</td>\n",
       "      <td>4.919379</td>\n",
       "      <td>...</td>\n",
       "      <td>117</td>\n",
       "      <td>25.334800</td>\n",
       "      <td>4</td>\n",
       "      <td>43.079090</td>\n",
       "      <td>1.700392</td>\n",
       "      <td>65.67371</td>\n",
       "      <td>46.24216</td>\n",
       "      <td>19.43155</td>\n",
       "      <td>18.84620</td>\n",
       "      <td>0.843177</td>\n",
       "    </tr>\n",
       "    <tr>\n",
       "      <th>1</th>\n",
       "      <td>\\\\172.20.47.181\\data\\CTC_Lab\\Polaris\\2020-01(J...</td>\n",
       "      <td>outline</td>\n",
       "      <td>Class List:;Classifier:;Classifier Output Type...</td>\n",
       "      <td>112</td>\n",
       "      <td>7012</td>\n",
       "      <td>7035</td>\n",
       "      <td>624</td>\n",
       "      <td>646</td>\n",
       "      <td>7</td>\n",
       "      <td>3.197596</td>\n",
       "      <td>...</td>\n",
       "      <td>70</td>\n",
       "      <td>25.334800</td>\n",
       "      <td>4</td>\n",
       "      <td>25.940230</td>\n",
       "      <td>1.023897</td>\n",
       "      <td>92.23836</td>\n",
       "      <td>64.68983</td>\n",
       "      <td>27.54852</td>\n",
       "      <td>22.81382</td>\n",
       "      <td>0.793136</td>\n",
       "    </tr>\n",
       "    <tr>\n",
       "      <th>2</th>\n",
       "      <td>\\\\172.20.47.181\\data\\CTC_Lab\\Polaris\\2020-01(J...</td>\n",
       "      <td>outline</td>\n",
       "      <td>Class List:;Classifier:;Classifier Output Type...</td>\n",
       "      <td>131</td>\n",
       "      <td>6945</td>\n",
       "      <td>6965</td>\n",
       "      <td>656</td>\n",
       "      <td>675</td>\n",
       "      <td>2</td>\n",
       "      <td>0.737907</td>\n",
       "      <td>...</td>\n",
       "      <td>90</td>\n",
       "      <td>23.121080</td>\n",
       "      <td>4</td>\n",
       "      <td>33.045590</td>\n",
       "      <td>1.429241</td>\n",
       "      <td>59.77045</td>\n",
       "      <td>43.04456</td>\n",
       "      <td>16.72589</td>\n",
       "      <td>16.36643</td>\n",
       "      <td>0.725469</td>\n",
       "    </tr>\n",
       "    <tr>\n",
       "      <th>3</th>\n",
       "      <td>\\\\172.20.47.181\\data\\CTC_Lab\\Polaris\\2020-01(J...</td>\n",
       "      <td>outline</td>\n",
       "      <td>Class List:;Classifier:;Classifier Output Type...</td>\n",
       "      <td>251</td>\n",
       "      <td>7234</td>\n",
       "      <td>7253</td>\n",
       "      <td>815</td>\n",
       "      <td>836</td>\n",
       "      <td>8</td>\n",
       "      <td>4.673410</td>\n",
       "      <td>...</td>\n",
       "      <td>26</td>\n",
       "      <td>13.774260</td>\n",
       "      <td>4</td>\n",
       "      <td>9.252905</td>\n",
       "      <td>0.671753</td>\n",
       "      <td>72.56084</td>\n",
       "      <td>43.29053</td>\n",
       "      <td>29.27030</td>\n",
       "      <td>22.81382</td>\n",
       "      <td>0.736006</td>\n",
       "    </tr>\n",
       "    <tr>\n",
       "      <th>4</th>\n",
       "      <td>\\\\172.20.47.181\\data\\CTC_Lab\\Polaris\\2020-01(J...</td>\n",
       "      <td>outline</td>\n",
       "      <td>Class List:;Classifier:;Classifier Output Type...</td>\n",
       "      <td>269</td>\n",
       "      <td>6583</td>\n",
       "      <td>6610</td>\n",
       "      <td>828</td>\n",
       "      <td>854</td>\n",
       "      <td>1</td>\n",
       "      <td>0.245969</td>\n",
       "      <td>...</td>\n",
       "      <td>1</td>\n",
       "      <td>0.491938</td>\n",
       "      <td>1</td>\n",
       "      <td>0.210680</td>\n",
       "      <td>0.428265</td>\n",
       "      <td>114.37560</td>\n",
       "      <td>58.29464</td>\n",
       "      <td>56.08092</td>\n",
       "      <td>32.23692</td>\n",
       "      <td>0.795500</td>\n",
       "    </tr>\n",
       "  </tbody>\n",
       "</table>\n",
       "<p>5 rows × 33 columns</p>\n",
       "</div>"
      ],
      "text/plain": [
       "                                      Image Location Analysis Region  \\\n",
       "0  \\\\172.20.47.181\\data\\CTC_Lab\\Polaris\\2020-01(J...         outline   \n",
       "1  \\\\172.20.47.181\\data\\CTC_Lab\\Polaris\\2020-01(J...         outline   \n",
       "2  \\\\172.20.47.181\\data\\CTC_Lab\\Polaris\\2020-01(J...         outline   \n",
       "3  \\\\172.20.47.181\\data\\CTC_Lab\\Polaris\\2020-01(J...         outline   \n",
       "4  \\\\172.20.47.181\\data\\CTC_Lab\\Polaris\\2020-01(J...         outline   \n",
       "\n",
       "                                     Analysis Inputs  Object Id  XMin  XMax  \\\n",
       "0  Class List:;Classifier:;Classifier Output Type...         10  7239  7261   \n",
       "1  Class List:;Classifier:;Classifier Output Type...        112  7012  7035   \n",
       "2  Class List:;Classifier:;Classifier Output Type...        131  6945  6965   \n",
       "3  Class List:;Classifier:;Classifier Output Type...        251  7234  7253   \n",
       "4  Class List:;Classifier:;Classifier Output Type...        269  6583  6610   \n",
       "\n",
       "   YMin  YMax  Opal 520 Copies  Opal 520 Area (µm²)  ...  Opal 690 Copies  \\\n",
       "0   418   433                9             4.919379  ...              117   \n",
       "1   624   646                7             3.197596  ...               70   \n",
       "2   656   675                2             0.737907  ...               90   \n",
       "3   815   836                8             4.673410  ...               26   \n",
       "4   828   854                1             0.245969  ...                1   \n",
       "\n",
       "   Opal 690 Area (µm²)  Opal 690 Classification  Opal 690 Cell Intensity  \\\n",
       "0            25.334800                        4                43.079090   \n",
       "1            25.334800                        4                25.940230   \n",
       "2            23.121080                        4                33.045590   \n",
       "3            13.774260                        4                 9.252905   \n",
       "4             0.491938                        1                 0.210680   \n",
       "\n",
       "   Opal 690 Avg Intensity  Cell Area (µm²)  Cytoplasm Area (µm²)  \\\n",
       "0                1.700392         65.67371              46.24216   \n",
       "1                1.023897         92.23836              64.68983   \n",
       "2                1.429241         59.77045              43.04456   \n",
       "3                0.671753         72.56084              43.29053   \n",
       "4                0.428265        114.37560              58.29464   \n",
       "\n",
       "   Nucleus Area (µm²)  Nucleus Perimeter (µm)  Nucleus Roundness  \n",
       "0            19.43155                18.84620           0.843177  \n",
       "1            27.54852                22.81382           0.793136  \n",
       "2            16.72589                16.36643           0.725469  \n",
       "3            29.27030                22.81382           0.736006  \n",
       "4            56.08092                32.23692           0.795500  \n",
       "\n",
       "[5 rows x 33 columns]"
      ]
     },
     "execution_count": 39,
     "metadata": {},
     "output_type": "execute_result"
    }
   ],
   "source": [
    "data = pd.read_csv('../data/ExpPHa04_4_CD300E-NOTCH3-CSF1R-PDGFRB.tif_1501_job2985.object_results_CLEANED.csv')\n",
    "data.head()\n"
   ]
  },
  {
   "cell_type": "markdown",
   "metadata": {},
   "source": [
    "### Renaming of Column names"
   ]
  },
  {
   "cell_type": "code",
   "execution_count": 40,
   "metadata": {},
   "outputs": [
    {
     "data": {
      "text/plain": [
       "Index(['Image_Location', 'Analysis_Region', 'Analysis_Inputs', 'Object_Id',\n",
       "       'XMin', 'XMax', 'YMin', 'YMax', 'Opal_520_Copies',\n",
       "       'Opal_520_Area_(µm²)', 'Opal_520_Classification',\n",
       "       'Opal_520_Cell_Intensity', 'Opal_520_Avg_Intensity', 'Opal_570_Copies',\n",
       "       'Opal_570_Area_(µm²)', 'Opal_570_Classification',\n",
       "       'Opal_570_Cell_Intensity', 'Opal_570_Avg_Intensity', 'Opal_620_Copies',\n",
       "       'Opal_620_Area_(µm²)', 'Opal_620_Classification',\n",
       "       'Opal_620_Cell_Intensity', 'Opal_620_Avg_Intensity', 'Opal_690_Copies',\n",
       "       'Opal_690_Area_(µm²)', 'Opal_690_Classification',\n",
       "       'Opal_690_Cell_Intensity', 'Opal_690_Avg_Intensity', 'Cell_Area_(µm²)',\n",
       "       'Cytoplasm_Area_(µm²)', 'Nucleus_Area_(µm²)', 'Nucleus_Perimeter_(µm)',\n",
       "       'Nucleus_Roundness'],\n",
       "      dtype='object')"
      ]
     },
     "execution_count": 40,
     "metadata": {},
     "output_type": "execute_result"
    }
   ],
   "source": [
    "\n",
    "data.columns = [col.replace(' ', '_') for col in data.columns]\n",
    "data.columns\n"
   ]
  },
  {
   "cell_type": "markdown",
   "metadata": {},
   "source": [
    "## Function to Calculate Centroids of the rectangular bounding boxes"
   ]
  },
  {
   "cell_type": "markdown",
   "metadata": {},
   "source": [
    "### Note:\n",
    "### 1st step: calculating center of detected objects by calculating center of bounding boxes"
   ]
  },
  {
   "cell_type": "code",
   "execution_count": 41,
   "metadata": {},
   "outputs": [],
   "source": [
    "# Use the height and width to calculate the area\n",
    "def X_centroid(row):\n",
    "    X = int(row['XMin'] + row['XMax'])/2\n",
    "\n",
    "    return int(X)\n",
    "\n",
    "def Y_centroid(row):\n",
    "    Y = int(row['YMin'] + row['YMax'])/2\n",
    "    return int(Y)\n",
    "\n",
    "data['X'] = data.apply(X_centroid, axis=1)\n",
    "data['Y'] = data.apply(Y_centroid, axis=1)\n"
   ]
  },
  {
   "cell_type": "markdown",
   "metadata": {},
   "source": [
    "### Plotting of coordinates"
   ]
  },
  {
   "cell_type": "code",
   "execution_count": 42,
   "metadata": {},
   "outputs": [
    {
     "data": {
      "image/png": "[encoded data removed]",
      "text/plain": [
       "<Figure size 800x400 with 1 Axes>"
      ]
     },
     "metadata": {
      "needs_background": "light"
     },
     "output_type": "display_data"
    }
   ],
   "source": [
    "x = np.array(data.X)\n",
    "y = np.array(data.Y)\n",
    "\n",
    "\n",
    "w=8\n",
    "h=4\n",
    "d=100\n",
    "plt.figure(figsize=(w, h), dpi=d)\n",
    "plt.plot(x, y, 'bo', markersize=2)\n",
    "\n",
    "plt.savefig(\"../Figures/tissue.png\")\n",
    "\n"
   ]
  },
  {
   "cell_type": "markdown",
   "metadata": {},
   "source": [
    "### Calculating distances"
   ]
  },
  {
   "cell_type": "code",
   "execution_count": 43,
   "metadata": {},
   "outputs": [],
   "source": [
    "def classification(row):\n",
    "    \n",
    "    if (row['Opal_620_Classification'] == 0) & (row['Opal_690_Classification'] < 2):\n",
    "        return 'UNCLASSIFIED'\n",
    "    elif (row['Opal_620_Classification'] == 0) & (row['Opal_690_Classification'] > 1):\n",
    "        return 'FIBROBLAST'\n",
    "    elif (row['Opal_620_Classification'] == 1) & (row['Opal_690_Classification'] <= 2):\n",
    "        return 'UNCLASSIFIED'\n",
    "    elif (row['Opal_620_Classification'] == 1) & (row['Opal_690_Classification'] > 2):\n",
    "        return 'FIBROBLAST'\n",
    "    elif (row['Opal_620_Classification'] == 2) & (row['Opal_690_Classification'] == 0):\n",
    "        return 'MYELOID'\n",
    "    elif (row['Opal_620_Classification'] == 2) & (row['Opal_690_Classification'] == 0):\n",
    "        return 'MYELOID'\n",
    "    elif (row['Opal_620_Classification'] == 2) & (row['Opal_690_Classification'] == 1):\n",
    "        return 'UNCLASSIFIED'\n",
    "    elif (row['Opal_620_Classification'] == 2) & (row['Opal_690_Classification'] == 2):\n",
    "        return 'MIXED'\n",
    "    elif (row['Opal_620_Classification'] == 2) & (row['Opal_690_Classification'] == 3):\n",
    "        return 'MIXED'\n",
    "    elif (row['Opal_620_Classification'] == 2) & (row['Opal_690_Classification'] == 4):\n",
    "        return 'FIBROBLAST'\n",
    "    elif (row['Opal_620_Classification'] == 3) & (row['Opal_690_Classification'] < 2):\n",
    "        return 'MYELOID'\n",
    "    elif (row['Opal_620_Classification'] == 3) & (row['Opal_690_Classification'] < 2):\n",
    "        return 'MYELOID'\n",
    "    elif (row['Opal_620_Classification'] == 3) & (row['Opal_690_Classification'] > 1):\n",
    "        return 'MIXED'\n",
    "    elif (row['Opal_620_Classification'] == 4) & (row['Opal_690_Classification'] < 3):\n",
    "        return 'MYELOID'\n",
    "    elif (row['Opal_620_Classification'] == 4) & (row['Opal_690_Classification'] > 2):\n",
    "        return 'MIXED'\n",
    "    else:\n",
    "        return 'NA'\n",
    "    \n",
    "    "
   ]
  },
  {
   "cell_type": "code",
   "execution_count": 44,
   "metadata": {},
   "outputs": [
    {
     "data": {
      "text/plain": [
       "(989, 36)"
      ]
     },
     "execution_count": 44,
     "metadata": {},
     "output_type": "execute_result"
    }
   ],
   "source": [
    "\n",
    "\n",
    "data['Classification'] = data.apply(classification, axis=1)\n",
    "\n",
    "data.head()\n",
    "\n",
    "data.shape\n"
   ]
  },
  {
   "cell_type": "markdown",
   "metadata": {},
   "source": [
    "### Plotting"
   ]
  },
  {
   "cell_type": "code",
   "execution_count": 45,
   "metadata": {},
   "outputs": [
    {
     "name": "stderr",
     "output_type": "stream",
     "text": [
      "/Library/Frameworks/Python.framework/Versions/3.8/lib/python3.8/site-packages/plotnine/ggplot.py:727: PlotnineWarning:\n",
      "\n",
      "Saving 6.4 x 4.8 in image.\n",
      "\n",
      "/Library/Frameworks/Python.framework/Versions/3.8/lib/python3.8/site-packages/plotnine/ggplot.py:730: PlotnineWarning:\n",
      "\n",
      "Filename: ../Figures/cell_classification.png\n",
      "\n"
     ]
    },
    {
     "data": {
      "image/png": "[encoded data removed]",
      "text/plain": [
       "<Figure size 640x480 with 1 Axes>"
      ]
     },
     "metadata": {},
     "output_type": "display_data"
    },
    {
     "data": {
      "text/plain": [
       "<ggplot: (359651636)>"
      ]
     },
     "execution_count": 45,
     "metadata": {},
     "output_type": "execute_result"
    }
   ],
   "source": [
    "p = gg.ggplot(data, gg.aes(x='X', y='Y', color= 'Classification')) + \\\n",
    "    gg.geom_point(size = 0.5) + \\\n",
    "    gg.xlab(\"X\") + \\\n",
    "    gg.ylab(\"Y\") + \\\n",
    "    gg.ggtitle(\"Distribution of Cell types in a tissue space\") + \\\n",
    "    gg.scale_colour_manual(name= \"Cell types\", \n",
    "                           labels=['FIBROBLAST', 'MIXED', 'UNCLASSIFIED', 'MYELOID'], \n",
    "                           values = [\"#33a02c\", \"#636363\", \"#fdae6b\", \"#1f78b4\"])\n",
    "   \n",
    "\n",
    "\n",
    "    \n",
    "\n",
    "ggsave(filename='cell_classification.png', plot = p, \n",
    "       path = '../Figures/')\n",
    "p \n",
    "\n"
   ]
  },
  {
   "cell_type": "code",
   "execution_count": 46,
   "metadata": {},
   "outputs": [
    {
     "data": {
      "image/png": "[encoded data removed]",
      "text/plain": [
       "<Figure size 640x480 with 1 Axes>"
      ]
     },
     "metadata": {},
     "output_type": "display_data"
    },
    {
     "data": {
      "text/plain": [
       "<ggplot: (355841015)>"
      ]
     },
     "execution_count": 46,
     "metadata": {},
     "output_type": "execute_result"
    }
   ],
   "source": [
    "p = (\n",
    "    ggplot(data)\n",
    "    + geom_bar(aes(x='Classification', fill = 'Classification',  color= 'Classification'))\n",
    "    + coord_flip()\n",
    "    + theme_classic() +\n",
    "    gg.ggtitle(\"Total Count of Cell types in a tissue \"))\n",
    "# ggsave(filename='Total_Count_Celltypes.png', plot = p, \n",
    "#        path = '/Users/habbasi/Desktop/012120_Halo_outputs/Figures')\n",
    "p"
   ]
  },
  {
   "cell_type": "code",
   "execution_count": 47,
   "metadata": {},
   "outputs": [
    {
     "name": "stdout",
     "output_type": "stream",
     "text": [
      "Requirement already satisfied: psutil in /Library/Frameworks/Python.framework/Versions/3.8/lib/python3.8/site-packages (5.6.7)\n",
      "\u001b[33mWARNING: You are using pip version 19.3.1; however, version 20.0.2 is available.\n",
      "You should consider upgrading via the 'pip install --upgrade pip' command.\u001b[0m\n",
      "Note: you may need to restart the kernel to use updated packages.\n"
     ]
    }
   ],
   "source": [
    "pip install psutil"
   ]
  },
  {
   "cell_type": "code",
   "execution_count": 52,
   "metadata": {},
   "outputs": [
    {
     "data": {
      "application/vnd.plotly.v1+json": {
       "config": {
        "plotlyServerURL": "https://plot.ly"
       },
       "data": [
        {
         "domain": {
          "x": [
           0,
           1
          ],
          "y": [
           0,
           1
          ]
         },
         "labels": [
          "FIBROBLAST",
          "MIXED",
          "UNCLASSIFIED",
          "MYELOID"
         ],
         "marker": {
          "colors": [
           "#d7191c",
           "#a6d96a",
           "#6a51a3",
           "#41b6c4"
          ],
          "line": {
           "color": "#FFF",
           "width": 2
          }
         },
         "name": "Count of Cell types",
         "showlegend": false,
         "textinfo": "label+percent",
         "type": "pie",
         "values": [
          494,
          216,
          212,
          67
         ]
        }
       ],
       "layout": {
        "autosize": false,
        "height": 600,
        "template": {
         "data": {
          "bar": [
           {
            "error_x": {
             "color": "#2a3f5f"
            },
            "error_y": {
             "color": "#2a3f5f"
            },
            "marker": {
             "line": {
              "color": "#E5ECF6",
              "width": 0.5
             }
            },
            "type": "bar"
           }
          ],
          "barpolar": [
           {
            "marker": {
             "line": {
              "color": "#E5ECF6",
              "width": 0.5
             }
            },
            "type": "barpolar"
           }
          ],
          "carpet": [
           {
            "aaxis": {
             "endlinecolor": "#2a3f5f",
             "gridcolor": "white",
             "linecolor": "white",
             "minorgridcolor": "white",
             "startlinecolor": "#2a3f5f"
            },
            "baxis": {
             "endlinecolor": "#2a3f5f",
             "gridcolor": "white",
             "linecolor": "white",
             "minorgridcolor": "white",
             "startlinecolor": "#2a3f5f"
            },
            "type": "carpet"
           }
          ],
          "choropleth": [
           {
            "colorbar": {
             "outlinewidth": 0,
             "ticks": ""
            },
            "type": "choropleth"
           }
          ],
          "contour": [
           {
            "colorbar": {
             "outlinewidth": 0,
             "ticks": ""
            },
            "colorscale": [
             [
              0,
              "#0d0887"
             ],
             [
              0.1111111111111111,
              "#46039f"
             ],
             [
              0.2222222222222222,
              "#7201a8"
             ],
             [
              0.3333333333333333,
              "#9c179e"
             ],
             [
              0.4444444444444444,
              "#bd3786"
             ],
             [
              0.5555555555555556,
              "#d8576b"
             ],
             [
              0.6666666666666666,
              "#ed7953"
             ],
             [
              0.7777777777777778,
              "#fb9f3a"
             ],
             [
              0.8888888888888888,
              "#fdca26"
             ],
             [
              1,
              "#f0f921"
             ]
            ],
            "type": "contour"
           }
          ],
          "contourcarpet": [
           {
            "colorbar": {
             "outlinewidth": 0,
             "ticks": ""
            },
            "type": "contourcarpet"
           }
          ],
          "heatmap": [
           {
            "colorbar": {
             "outlinewidth": 0,
             "ticks": ""
            },
            "colorscale": [
             [
              0,
              "#0d0887"
             ],
             [
              0.1111111111111111,
              "#46039f"
             ],
             [
              0.2222222222222222,
              "#7201a8"
             ],
             [
              0.3333333333333333,
              "#9c179e"
             ],
             [
              0.4444444444444444,
              "#bd3786"
             ],
             [
              0.5555555555555556,
              "#d8576b"
             ],
             [
              0.6666666666666666,
              "#ed7953"
             ],
             [
              0.7777777777777778,
              "#fb9f3a"
             ],
             [
              0.8888888888888888,
              "#fdca26"
             ],
             [
              1,
              "#f0f921"
             ]
            ],
            "type": "heatmap"
           }
          ],
          "heatmapgl": [
           {
            "colorbar": {
             "outlinewidth": 0,
             "ticks": ""
            },
            "colorscale": [
             [
              0,
              "#0d0887"
             ],
             [
              0.1111111111111111,
              "#46039f"
             ],
             [
              0.2222222222222222,
              "#7201a8"
             ],
             [
              0.3333333333333333,
              "#9c179e"
             ],
             [
              0.4444444444444444,
              "#bd3786"
             ],
             [
              0.5555555555555556,
              "#d8576b"
             ],
             [
              0.6666666666666666,
              "#ed7953"
             ],
             [
              0.7777777777777778,
              "#fb9f3a"
             ],
             [
              0.8888888888888888,
              "#fdca26"
             ],
             [
              1,
              "#f0f921"
             ]
            ],
            "type": "heatmapgl"
           }
          ],
          "histogram": [
           {
            "marker": {
             "colorbar": {
              "outlinewidth": 0,
              "ticks": ""
             }
            },
            "type": "histogram"
           }
          ],
          "histogram2d": [
           {
            "colorbar": {
             "outlinewidth": 0,
             "ticks": ""
            },
            "colorscale": [
             [
              0,
              "#0d0887"
             ],
             [
              0.1111111111111111,
              "#46039f"
             ],
             [
              0.2222222222222222,
              "#7201a8"
             ],
             [
              0.3333333333333333,
              "#9c179e"
             ],
             [
              0.4444444444444444,
              "#bd3786"
             ],
             [
              0.5555555555555556,
              "#d8576b"
             ],
             [
              0.6666666666666666,
              "#ed7953"
             ],
             [
              0.7777777777777778,
              "#fb9f3a"
             ],
             [
              0.8888888888888888,
              "#fdca26"
             ],
             [
              1,
              "#f0f921"
             ]
            ],
            "type": "histogram2d"
           }
          ],
          "histogram2dcontour": [
           {
            "colorbar": {
             "outlinewidth": 0,
             "ticks": ""
            },
            "colorscale": [
             [
              0,
              "#0d0887"
             ],
             [
              0.1111111111111111,
              "#46039f"
             ],
             [
              0.2222222222222222,
              "#7201a8"
             ],
             [
              0.3333333333333333,
              "#9c179e"
             ],
             [
              0.4444444444444444,
              "#bd3786"
             ],
             [
              0.5555555555555556,
              "#d8576b"
             ],
             [
              0.6666666666666666,
              "#ed7953"
             ],
             [
              0.7777777777777778,
              "#fb9f3a"
             ],
             [
              0.8888888888888888,
              "#fdca26"
             ],
             [
              1,
              "#f0f921"
             ]
            ],
            "type": "histogram2dcontour"
           }
          ],
          "mesh3d": [
           {
            "colorbar": {
             "outlinewidth": 0,
             "ticks": ""
            },
            "type": "mesh3d"
           }
          ],
          "parcoords": [
           {
            "line": {
             "colorbar": {
              "outlinewidth": 0,
              "ticks": ""
             }
            },
            "type": "parcoords"
           }
          ],
          "pie": [
           {
            "automargin": true,
            "type": "pie"
           }
          ],
          "scatter": [
           {
            "marker": {
             "colorbar": {
              "outlinewidth": 0,
              "ticks": ""
             }
            },
            "type": "scatter"
           }
          ],
          "scatter3d": [
           {
            "line": {
             "colorbar": {
              "outlinewidth": 0,
              "ticks": ""
             }
            },
            "marker": {
             "colorbar": {
              "outlinewidth": 0,
              "ticks": ""
             }
            },
            "type": "scatter3d"
           }
          ],
          "scattercarpet": [
           {
            "marker": {
             "colorbar": {
              "outlinewidth": 0,
              "ticks": ""
             }
            },
            "type": "scattercarpet"
           }
          ],
          "scattergeo": [
           {
            "marker": {
             "colorbar": {
              "outlinewidth": 0,
              "ticks": ""
             }
            },
            "type": "scattergeo"
           }
          ],
          "scattergl": [
           {
            "marker": {
             "colorbar": {
              "outlinewidth": 0,
              "ticks": ""
             }
            },
            "type": "scattergl"
           }
          ],
          "scattermapbox": [
           {
            "marker": {
             "colorbar": {
              "outlinewidth": 0,
              "ticks": ""
             }
            },
            "type": "scattermapbox"
           }
          ],
          "scatterpolar": [
           {
            "marker": {
             "colorbar": {
              "outlinewidth": 0,
              "ticks": ""
             }
            },
            "type": "scatterpolar"
           }
          ],
          "scatterpolargl": [
           {
            "marker": {
             "colorbar": {
              "outlinewidth": 0,
              "ticks": ""
             }
            },
            "type": "scatterpolargl"
           }
          ],
          "scatterternary": [
           {
            "marker": {
             "colorbar": {
              "outlinewidth": 0,
              "ticks": ""
             }
            },
            "type": "scatterternary"
           }
          ],
          "surface": [
           {
            "colorbar": {
             "outlinewidth": 0,
             "ticks": ""
            },
            "colorscale": [
             [
              0,
              "#0d0887"
             ],
             [
              0.1111111111111111,
              "#46039f"
             ],
             [
              0.2222222222222222,
              "#7201a8"
             ],
             [
              0.3333333333333333,
              "#9c179e"
             ],
             [
              0.4444444444444444,
              "#bd3786"
             ],
             [
              0.5555555555555556,
              "#d8576b"
             ],
             [
              0.6666666666666666,
              "#ed7953"
             ],
             [
              0.7777777777777778,
              "#fb9f3a"
             ],
             [
              0.8888888888888888,
              "#fdca26"
             ],
             [
              1,
              "#f0f921"
             ]
            ],
            "type": "surface"
           }
          ],
          "table": [
           {
            "cells": {
             "fill": {
              "color": "#EBF0F8"
             },
             "line": {
              "color": "white"
             }
            },
            "header": {
             "fill": {
              "color": "#C8D4E3"
             },
             "line": {
              "color": "white"
             }
            },
            "type": "table"
           }
          ]
         },
         "layout": {
          "annotationdefaults": {
           "arrowcolor": "#2a3f5f",
           "arrowhead": 0,
           "arrowwidth": 1
          },
          "coloraxis": {
           "colorbar": {
            "outlinewidth": 0,
            "ticks": ""
           }
          },
          "colorscale": {
           "diverging": [
            [
             0,
             "#8e0152"
            ],
            [
             0.1,
             "#c51b7d"
            ],
            [
             0.2,
             "#de77ae"
            ],
            [
             0.3,
             "#f1b6da"
            ],
            [
             0.4,
             "#fde0ef"
            ],
            [
             0.5,
             "#f7f7f7"
            ],
            [
             0.6,
             "#e6f5d0"
            ],
            [
             0.7,
             "#b8e186"
            ],
            [
             0.8,
             "#7fbc41"
            ],
            [
             0.9,
             "#4d9221"
            ],
            [
             1,
             "#276419"
            ]
           ],
           "sequential": [
            [
             0,
             "#0d0887"
            ],
            [
             0.1111111111111111,
             "#46039f"
            ],
            [
             0.2222222222222222,
             "#7201a8"
            ],
            [
             0.3333333333333333,
             "#9c179e"
            ],
            [
             0.4444444444444444,
             "#bd3786"
            ],
            [
             0.5555555555555556,
             "#d8576b"
            ],
            [
             0.6666666666666666,
             "#ed7953"
            ],
            [
             0.7777777777777778,
             "#fb9f3a"
            ],
            [
             0.8888888888888888,
             "#fdca26"
            ],
            [
             1,
             "#f0f921"
            ]
           ],
           "sequentialminus": [
            [
             0,
             "#0d0887"
            ],
            [
             0.1111111111111111,
             "#46039f"
            ],
            [
             0.2222222222222222,
             "#7201a8"
            ],
            [
             0.3333333333333333,
             "#9c179e"
            ],
            [
             0.4444444444444444,
             "#bd3786"
            ],
            [
             0.5555555555555556,
             "#d8576b"
            ],
            [
             0.6666666666666666,
             "#ed7953"
            ],
            [
             0.7777777777777778,
             "#fb9f3a"
            ],
            [
             0.8888888888888888,
             "#fdca26"
            ],
            [
             1,
             "#f0f921"
            ]
           ]
          },
          "colorway": [
           "#636efa",
           "#EF553B",
           "#00cc96",
           "#ab63fa",
           "#FFA15A",
           "#19d3f3",
           "#FF6692",
           "#B6E880",
           "#FF97FF",
           "#FECB52"
          ],
          "font": {
           "color": "#2a3f5f"
          },
          "geo": {
           "bgcolor": "white",
           "lakecolor": "white",
           "landcolor": "#E5ECF6",
           "showlakes": true,
           "showland": true,
           "subunitcolor": "white"
          },
          "hoverlabel": {
           "align": "left"
          },
          "hovermode": "closest",
          "mapbox": {
           "style": "light"
          },
          "paper_bgcolor": "white",
          "plot_bgcolor": "#E5ECF6",
          "polar": {
           "angularaxis": {
            "gridcolor": "white",
            "linecolor": "white",
            "ticks": ""
           },
           "bgcolor": "#E5ECF6",
           "radialaxis": {
            "gridcolor": "white",
            "linecolor": "white",
            "ticks": ""
           }
          },
          "scene": {
           "xaxis": {
            "backgroundcolor": "#E5ECF6",
            "gridcolor": "white",
            "gridwidth": 2,
            "linecolor": "white",
            "showbackground": true,
            "ticks": "",
            "zerolinecolor": "white"
           },
           "yaxis": {
            "backgroundcolor": "#E5ECF6",
            "gridcolor": "white",
            "gridwidth": 2,
            "linecolor": "white",
            "showbackground": true,
            "ticks": "",
            "zerolinecolor": "white"
           },
           "zaxis": {
            "backgroundcolor": "#E5ECF6",
            "gridcolor": "white",
            "gridwidth": 2,
            "linecolor": "white",
            "showbackground": true,
            "ticks": "",
            "zerolinecolor": "white"
           }
          },
          "shapedefaults": {
           "line": {
            "color": "#2a3f5f"
           }
          },
          "ternary": {
           "aaxis": {
            "gridcolor": "white",
            "linecolor": "white",
            "ticks": ""
           },
           "baxis": {
            "gridcolor": "white",
            "linecolor": "white",
            "ticks": ""
           },
           "bgcolor": "#E5ECF6",
           "caxis": {
            "gridcolor": "white",
            "linecolor": "white",
            "ticks": ""
           }
          },
          "title": {
           "x": 0.05
          },
          "xaxis": {
           "automargin": true,
           "gridcolor": "white",
           "linecolor": "white",
           "ticks": "",
           "title": {
            "standoff": 15
           },
           "zerolinecolor": "white",
           "zerolinewidth": 2
          },
          "yaxis": {
           "automargin": true,
           "gridcolor": "white",
           "linecolor": "white",
           "ticks": "",
           "title": {
            "standoff": 15
           },
           "zerolinecolor": "white",
           "zerolinewidth": 2
          }
         }
        },
        "title": {
         "text": "Frequency distribution of Cells"
        },
        "width": 1000
       }
      },
      "text/html": [
       "<div>\n",
       "        \n",
       "        \n",
       "            <div id=\"a9f468a9-cfa2-4ab9-8acf-27aa15edfbd4\" class=\"plotly-graph-div\" style=\"height:600px; width:1000px;\"></div>\n",
       "            <script type=\"text/javascript\">\n",
       "                require([\"plotly\"], function(Plotly) {\n",
       "                    window.PLOTLYENV=window.PLOTLYENV || {};\n",
       "                    \n",
       "                if (document.getElementById(\"a9f468a9-cfa2-4ab9-8acf-27aa15edfbd4\")) {\n",
       "                    Plotly.newPlot(\n",
       "                        'a9f468a9-cfa2-4ab9-8acf-27aa15edfbd4',\n",
       "                        [{\"domain\": {\"x\": [0.0, 1], \"y\": [0.0, 1]}, \"labels\": [\"FIBROBLAST\", \"MIXED\", \"UNCLASSIFIED\", \"MYELOID\"], \"marker\": {\"colors\": [\"#d7191c\", \"#a6d96a\", \"#6a51a3\", \"#41b6c4\"], \"line\": {\"color\": \"#FFF\", \"width\": 2}}, \"name\": \"Count of Cell types\", \"showlegend\": false, \"textinfo\": \"label+percent\", \"type\": \"pie\", \"values\": [494, 216, 212, 67]}],\n",
       "                        {\"autosize\": false, \"height\": 600, \"template\": {\"data\": {\"bar\": [{\"error_x\": {\"color\": \"#2a3f5f\"}, \"error_y\": {\"color\": \"#2a3f5f\"}, \"marker\": {\"line\": {\"color\": \"#E5ECF6\", \"width\": 0.5}}, \"type\": \"bar\"}], \"barpolar\": [{\"marker\": {\"line\": {\"color\": \"#E5ECF6\", \"width\": 0.5}}, \"type\": \"barpolar\"}], \"carpet\": [{\"aaxis\": {\"endlinecolor\": \"#2a3f5f\", \"gridcolor\": \"white\", \"linecolor\": \"white\", \"minorgridcolor\": \"white\", \"startlinecolor\": \"#2a3f5f\"}, \"baxis\": {\"endlinecolor\": \"#2a3f5f\", \"gridcolor\": \"white\", \"linecolor\": \"white\", \"minorgridcolor\": \"white\", \"startlinecolor\": \"#2a3f5f\"}, \"type\": \"carpet\"}], \"choropleth\": [{\"colorbar\": {\"outlinewidth\": 0, \"ticks\": \"\"}, \"type\": \"choropleth\"}], \"contour\": [{\"colorbar\": {\"outlinewidth\": 0, \"ticks\": \"\"}, \"colorscale\": [[0.0, \"#0d0887\"], [0.1111111111111111, \"#46039f\"], [0.2222222222222222, \"#7201a8\"], [0.3333333333333333, \"#9c179e\"], [0.4444444444444444, \"#bd3786\"], [0.5555555555555556, \"#d8576b\"], [0.6666666666666666, \"#ed7953\"], [0.7777777777777778, \"#fb9f3a\"], [0.8888888888888888, \"#fdca26\"], [1.0, \"#f0f921\"]], \"type\": \"contour\"}], \"contourcarpet\": [{\"colorbar\": {\"outlinewidth\": 0, \"ticks\": \"\"}, \"type\": \"contourcarpet\"}], \"heatmap\": [{\"colorbar\": {\"outlinewidth\": 0, \"ticks\": \"\"}, \"colorscale\": [[0.0, \"#0d0887\"], [0.1111111111111111, \"#46039f\"], [0.2222222222222222, \"#7201a8\"], [0.3333333333333333, \"#9c179e\"], [0.4444444444444444, \"#bd3786\"], [0.5555555555555556, \"#d8576b\"], [0.6666666666666666, \"#ed7953\"], [0.7777777777777778, \"#fb9f3a\"], [0.8888888888888888, \"#fdca26\"], [1.0, \"#f0f921\"]], \"type\": \"heatmap\"}], \"heatmapgl\": [{\"colorbar\": {\"outlinewidth\": 0, \"ticks\": \"\"}, \"colorscale\": [[0.0, \"#0d0887\"], [0.1111111111111111, \"#46039f\"], [0.2222222222222222, \"#7201a8\"], [0.3333333333333333, \"#9c179e\"], [0.4444444444444444, \"#bd3786\"], [0.5555555555555556, \"#d8576b\"], [0.6666666666666666, \"#ed7953\"], [0.7777777777777778, \"#fb9f3a\"], [0.8888888888888888, \"#fdca26\"], [1.0, \"#f0f921\"]], \"type\": \"heatmapgl\"}], \"histogram\": [{\"marker\": {\"colorbar\": {\"outlinewidth\": 0, \"ticks\": \"\"}}, \"type\": \"histogram\"}], \"histogram2d\": [{\"colorbar\": {\"outlinewidth\": 0, \"ticks\": \"\"}, \"colorscale\": [[0.0, \"#0d0887\"], [0.1111111111111111, \"#46039f\"], [0.2222222222222222, \"#7201a8\"], [0.3333333333333333, \"#9c179e\"], [0.4444444444444444, \"#bd3786\"], [0.5555555555555556, \"#d8576b\"], [0.6666666666666666, \"#ed7953\"], [0.7777777777777778, \"#fb9f3a\"], [0.8888888888888888, \"#fdca26\"], [1.0, \"#f0f921\"]], \"type\": \"histogram2d\"}], \"histogram2dcontour\": [{\"colorbar\": {\"outlinewidth\": 0, \"ticks\": \"\"}, \"colorscale\": [[0.0, \"#0d0887\"], [0.1111111111111111, \"#46039f\"], [0.2222222222222222, \"#7201a8\"], [0.3333333333333333, \"#9c179e\"], [0.4444444444444444, \"#bd3786\"], [0.5555555555555556, \"#d8576b\"], [0.6666666666666666, \"#ed7953\"], [0.7777777777777778, \"#fb9f3a\"], [0.8888888888888888, \"#fdca26\"], [1.0, \"#f0f921\"]], \"type\": \"histogram2dcontour\"}], \"mesh3d\": [{\"colorbar\": {\"outlinewidth\": 0, \"ticks\": \"\"}, \"type\": \"mesh3d\"}], \"parcoords\": [{\"line\": {\"colorbar\": {\"outlinewidth\": 0, \"ticks\": \"\"}}, \"type\": \"parcoords\"}], \"pie\": [{\"automargin\": true, \"type\": \"pie\"}], \"scatter\": [{\"marker\": {\"colorbar\": {\"outlinewidth\": 0, \"ticks\": \"\"}}, \"type\": \"scatter\"}], \"scatter3d\": [{\"line\": {\"colorbar\": {\"outlinewidth\": 0, \"ticks\": \"\"}}, \"marker\": {\"colorbar\": {\"outlinewidth\": 0, \"ticks\": \"\"}}, \"type\": \"scatter3d\"}], \"scattercarpet\": [{\"marker\": {\"colorbar\": {\"outlinewidth\": 0, \"ticks\": \"\"}}, \"type\": \"scattercarpet\"}], \"scattergeo\": [{\"marker\": {\"colorbar\": {\"outlinewidth\": 0, \"ticks\": \"\"}}, \"type\": \"scattergeo\"}], \"scattergl\": [{\"marker\": {\"colorbar\": {\"outlinewidth\": 0, \"ticks\": \"\"}}, \"type\": \"scattergl\"}], \"scattermapbox\": [{\"marker\": {\"colorbar\": {\"outlinewidth\": 0, \"ticks\": \"\"}}, \"type\": \"scattermapbox\"}], \"scatterpolar\": [{\"marker\": {\"colorbar\": {\"outlinewidth\": 0, \"ticks\": \"\"}}, \"type\": \"scatterpolar\"}], \"scatterpolargl\": [{\"marker\": {\"colorbar\": {\"outlinewidth\": 0, \"ticks\": \"\"}}, \"type\": \"scatterpolargl\"}], \"scatterternary\": [{\"marker\": {\"colorbar\": {\"outlinewidth\": 0, \"ticks\": \"\"}}, \"type\": \"scatterternary\"}], \"surface\": [{\"colorbar\": {\"outlinewidth\": 0, \"ticks\": \"\"}, \"colorscale\": [[0.0, \"#0d0887\"], [0.1111111111111111, \"#46039f\"], [0.2222222222222222, \"#7201a8\"], [0.3333333333333333, \"#9c179e\"], [0.4444444444444444, \"#bd3786\"], [0.5555555555555556, \"#d8576b\"], [0.6666666666666666, \"#ed7953\"], [0.7777777777777778, \"#fb9f3a\"], [0.8888888888888888, \"#fdca26\"], [1.0, \"#f0f921\"]], \"type\": \"surface\"}], \"table\": [{\"cells\": {\"fill\": {\"color\": \"#EBF0F8\"}, \"line\": {\"color\": \"white\"}}, \"header\": {\"fill\": {\"color\": \"#C8D4E3\"}, \"line\": {\"color\": \"white\"}}, \"type\": \"table\"}]}, \"layout\": {\"annotationdefaults\": {\"arrowcolor\": \"#2a3f5f\", \"arrowhead\": 0, \"arrowwidth\": 1}, \"coloraxis\": {\"colorbar\": {\"outlinewidth\": 0, \"ticks\": \"\"}}, \"colorscale\": {\"diverging\": [[0, \"#8e0152\"], [0.1, \"#c51b7d\"], [0.2, \"#de77ae\"], [0.3, \"#f1b6da\"], [0.4, \"#fde0ef\"], [0.5, \"#f7f7f7\"], [0.6, \"#e6f5d0\"], [0.7, \"#b8e186\"], [0.8, \"#7fbc41\"], [0.9, \"#4d9221\"], [1, \"#276419\"]], \"sequential\": [[0.0, \"#0d0887\"], [0.1111111111111111, \"#46039f\"], [0.2222222222222222, \"#7201a8\"], [0.3333333333333333, \"#9c179e\"], [0.4444444444444444, \"#bd3786\"], [0.5555555555555556, \"#d8576b\"], [0.6666666666666666, \"#ed7953\"], [0.7777777777777778, \"#fb9f3a\"], [0.8888888888888888, \"#fdca26\"], [1.0, \"#f0f921\"]], \"sequentialminus\": [[0.0, \"#0d0887\"], [0.1111111111111111, \"#46039f\"], [0.2222222222222222, \"#7201a8\"], [0.3333333333333333, \"#9c179e\"], [0.4444444444444444, \"#bd3786\"], [0.5555555555555556, \"#d8576b\"], [0.6666666666666666, \"#ed7953\"], [0.7777777777777778, \"#fb9f3a\"], [0.8888888888888888, \"#fdca26\"], [1.0, \"#f0f921\"]]}, \"colorway\": [\"#636efa\", \"#EF553B\", \"#00cc96\", \"#ab63fa\", \"#FFA15A\", \"#19d3f3\", \"#FF6692\", \"#B6E880\", \"#FF97FF\", \"#FECB52\"], \"font\": {\"color\": \"#2a3f5f\"}, \"geo\": {\"bgcolor\": \"white\", \"lakecolor\": \"white\", \"landcolor\": \"#E5ECF6\", \"showlakes\": true, \"showland\": true, \"subunitcolor\": \"white\"}, \"hoverlabel\": {\"align\": \"left\"}, \"hovermode\": \"closest\", \"mapbox\": {\"style\": \"light\"}, \"paper_bgcolor\": \"white\", \"plot_bgcolor\": \"#E5ECF6\", \"polar\": {\"angularaxis\": {\"gridcolor\": \"white\", \"linecolor\": \"white\", \"ticks\": \"\"}, \"bgcolor\": \"#E5ECF6\", \"radialaxis\": {\"gridcolor\": \"white\", \"linecolor\": \"white\", \"ticks\": \"\"}}, \"scene\": {\"xaxis\": {\"backgroundcolor\": \"#E5ECF6\", \"gridcolor\": \"white\", \"gridwidth\": 2, \"linecolor\": \"white\", \"showbackground\": true, \"ticks\": \"\", \"zerolinecolor\": \"white\"}, \"yaxis\": {\"backgroundcolor\": \"#E5ECF6\", \"gridcolor\": \"white\", \"gridwidth\": 2, \"linecolor\": \"white\", \"showbackground\": true, \"ticks\": \"\", \"zerolinecolor\": \"white\"}, \"zaxis\": {\"backgroundcolor\": \"#E5ECF6\", \"gridcolor\": \"white\", \"gridwidth\": 2, \"linecolor\": \"white\", \"showbackground\": true, \"ticks\": \"\", \"zerolinecolor\": \"white\"}}, \"shapedefaults\": {\"line\": {\"color\": \"#2a3f5f\"}}, \"ternary\": {\"aaxis\": {\"gridcolor\": \"white\", \"linecolor\": \"white\", \"ticks\": \"\"}, \"baxis\": {\"gridcolor\": \"white\", \"linecolor\": \"white\", \"ticks\": \"\"}, \"bgcolor\": \"#E5ECF6\", \"caxis\": {\"gridcolor\": \"white\", \"linecolor\": \"white\", \"ticks\": \"\"}}, \"title\": {\"x\": 0.05}, \"xaxis\": {\"automargin\": true, \"gridcolor\": \"white\", \"linecolor\": \"white\", \"ticks\": \"\", \"title\": {\"standoff\": 15}, \"zerolinecolor\": \"white\", \"zerolinewidth\": 2}, \"yaxis\": {\"automargin\": true, \"gridcolor\": \"white\", \"linecolor\": \"white\", \"ticks\": \"\", \"title\": {\"standoff\": 15}, \"zerolinecolor\": \"white\", \"zerolinewidth\": 2}}}, \"title\": {\"text\": \"Frequency distribution of Cells\"}, \"width\": 1000},\n",
       "                        {\"responsive\": true}\n",
       "                    ).then(function(){\n",
       "                            \n",
       "var gd = document.getElementById('a9f468a9-cfa2-4ab9-8acf-27aa15edfbd4');\n",
       "var x = new MutationObserver(function (mutations, observer) {{\n",
       "        var display = window.getComputedStyle(gd).display;\n",
       "        if (!display || display === 'none') {{\n",
       "            console.log([gd, 'removed!']);\n",
       "            Plotly.purge(gd);\n",
       "            observer.disconnect();\n",
       "        }}\n",
       "}});\n",
       "\n",
       "// Listen for the removal of the full notebook cells\n",
       "var notebookContainer = gd.closest('#notebook-container');\n",
       "if (notebookContainer) {{\n",
       "    x.observe(notebookContainer, {childList: true});\n",
       "}}\n",
       "\n",
       "// Listen for the clearing of the current output cell\n",
       "var outputEl = gd.closest('.output');\n",
       "if (outputEl) {{\n",
       "    x.observe(outputEl, {childList: true});\n",
       "}}\n",
       "\n",
       "                        })\n",
       "                };\n",
       "                });\n",
       "            </script>\n",
       "        </div>"
      ]
     },
     "metadata": {},
     "output_type": "display_data"
    }
   ],
   "source": [
    "import plotly\n",
    "import plotly.graph_objs as go\n",
    "from plotly import tools\n",
    "import psutil\n",
    "\n",
    "colors = ['#d7191c','#a6d96a', '#6a51a3', '#41b6c4']\n",
    "labels = data['Classification'].unique()\n",
    "values = data['Classification'].value_counts(dropna=False)\n",
    "\n",
    "g = go.Pie(labels=labels, values=values, marker=dict(colors=colors\n",
    "                                                            , line=dict(color='#FFF', width=2)), \n",
    "                                                            domain={'x': [0.0, 1], 'y': [0.0, 1]}\n",
    "                                                            , showlegend=False, name='Count of Cell types', textinfo='label+percent')\n",
    "\n",
    "layout = go.Layout(height = 600,\n",
    "                   width = 1000,\n",
    "                   autosize = False,\n",
    "                   title = 'Frequency distribution of Cells')\n",
    "fig = go.Figure(data = g, layout = layout)\n",
    "\n",
    "fig\n",
    "#py.iplot(fig, filename='pie_chart')\n",
    "\n"
   ]
  },
  {
   "cell_type": "markdown",
   "metadata": {},
   "source": [
    "## Calculating Distances between cells"
   ]
  },
  {
   "cell_type": "code",
   "execution_count": 13,
   "metadata": {},
   "outputs": [
    {
     "data": {
      "text/html": [
       "<div>\n",
       "<style scoped>\n",
       "    .dataframe tbody tr th:only-of-type {\n",
       "        vertical-align: middle;\n",
       "    }\n",
       "\n",
       "    .dataframe tbody tr th {\n",
       "        vertical-align: top;\n",
       "    }\n",
       "\n",
       "    .dataframe thead th {\n",
       "        text-align: right;\n",
       "    }\n",
       "</style>\n",
       "<table border=\"1\" class=\"dataframe\">\n",
       "  <thead>\n",
       "    <tr style=\"text-align: right;\">\n",
       "      <th></th>\n",
       "      <th>objID_1</th>\n",
       "      <th>objID_2</th>\n",
       "      <th>cord_1</th>\n",
       "      <th>cord_2</th>\n",
       "      <th>idx_1</th>\n",
       "      <th>idx_2</th>\n",
       "      <th>Distance</th>\n",
       "    </tr>\n",
       "  </thead>\n",
       "  <tbody>\n",
       "    <tr>\n",
       "      <th>0</th>\n",
       "      <td>0</td>\n",
       "      <td>0</td>\n",
       "      <td>(7250, 425)</td>\n",
       "      <td>(7250, 425)</td>\n",
       "      <td>FIBROBLAST</td>\n",
       "      <td>FIBROBLAST</td>\n",
       "      <td>0.000000</td>\n",
       "    </tr>\n",
       "    <tr>\n",
       "      <th>1</th>\n",
       "      <td>0</td>\n",
       "      <td>1</td>\n",
       "      <td>(7250, 425)</td>\n",
       "      <td>(7023, 635)</td>\n",
       "      <td>FIBROBLAST</td>\n",
       "      <td>FIBROBLAST</td>\n",
       "      <td>153.368068</td>\n",
       "    </tr>\n",
       "    <tr>\n",
       "      <th>2</th>\n",
       "      <td>0</td>\n",
       "      <td>2</td>\n",
       "      <td>(7250, 425)</td>\n",
       "      <td>(6955, 665)</td>\n",
       "      <td>FIBROBLAST</td>\n",
       "      <td>FIBROBLAST</td>\n",
       "      <td>188.608745</td>\n",
       "    </tr>\n",
       "    <tr>\n",
       "      <th>3</th>\n",
       "      <td>0</td>\n",
       "      <td>3</td>\n",
       "      <td>(7250, 425)</td>\n",
       "      <td>(7243, 825)</td>\n",
       "      <td>FIBROBLAST</td>\n",
       "      <td>MIXED</td>\n",
       "      <td>198.411400</td>\n",
       "    </tr>\n",
       "    <tr>\n",
       "      <th>4</th>\n",
       "      <td>0</td>\n",
       "      <td>4</td>\n",
       "      <td>(7250, 425)</td>\n",
       "      <td>(6596, 841)</td>\n",
       "      <td>FIBROBLAST</td>\n",
       "      <td>UNCLASSIFIED</td>\n",
       "      <td>384.410268</td>\n",
       "    </tr>\n",
       "  </tbody>\n",
       "</table>\n",
       "</div>"
      ],
      "text/plain": [
       "   objID_1  objID_2       cord_1       cord_2       idx_1         idx_2  \\\n",
       "0        0        0  (7250, 425)  (7250, 425)  FIBROBLAST    FIBROBLAST   \n",
       "1        0        1  (7250, 425)  (7023, 635)  FIBROBLAST    FIBROBLAST   \n",
       "2        0        2  (7250, 425)  (6955, 665)  FIBROBLAST    FIBROBLAST   \n",
       "3        0        3  (7250, 425)  (7243, 825)  FIBROBLAST         MIXED   \n",
       "4        0        4  (7250, 425)  (6596, 841)  FIBROBLAST  UNCLASSIFIED   \n",
       "\n",
       "     Distance  \n",
       "0    0.000000  \n",
       "1  153.368068  \n",
       "2  188.608745  \n",
       "3  198.411400  \n",
       "4  384.410268  "
      ]
     },
     "execution_count": 13,
     "metadata": {},
     "output_type": "execute_result"
    }
   ],
   "source": [
    "import math\n",
    "\n",
    "combinations = []\n",
    "for i in data['Classification']:\n",
    "    for j in data['Classification']:\n",
    "        comb = [i, j]\n",
    "        combinations.append(comb)\n",
    "\n",
    "\n",
    "X = list(data.X)       \n",
    "Y = list(data.Y)\n",
    "\n",
    "distance = []  \n",
    "for i in range(0, len(X)):\n",
    "    for j in range(0, len(X)):\n",
    "        dist = math.sqrt((X[j] - X[i])**2 + ((Y[j] - Y[i])**2)) * 0.495952562137432\n",
    "        distance.append(dist)\n",
    "\n",
    "       \n",
    "coordinates = []        \n",
    "for i in zip(data.X, data.Y):\n",
    "    for j in zip(data.X, data.Y):\n",
    "        cor = [i, j]\n",
    "        coordinates.append(cor)\n",
    "        \n",
    "obj = []        \n",
    "for i in range(0, len(data.Object_Id)):\n",
    "    for j in range(0, len(data.Object_Id)):\n",
    "        com_obj = [i, j]\n",
    "        obj.append(com_obj)\n",
    "        \n",
    "\n",
    "obj_id = pd.DataFrame(obj, columns=['objID_1', 'objID_2'])\n",
    "dist = pd.DataFrame(distance, columns=['Distance'])\n",
    "meta = pd.DataFrame(combinations, columns=['idx_1', 'idx_2'])\n",
    "cord = pd.DataFrame(coordinates, columns=['cord_1', 'cord_2'])\n",
    "\n",
    "final = pd.concat([obj_id, cord, meta, dist], axis =1)\n",
    "\n",
    "final.head()       \n",
    "        "
   ]
  },
  {
   "cell_type": "markdown",
   "metadata": {},
   "source": [
    "### Sorting distances of FIBROBLAST and MYLEOID cells only"
   ]
  },
  {
   "cell_type": "code",
   "execution_count": 14,
   "metadata": {},
   "outputs": [],
   "source": [
    "# def sorting_rows(row):\n",
    "#     if (row['idx_1'] == 'FIBROBLAST') & (row['idx_2'] == 'MYELOID'):\n",
    "#         return \"TRUE\"\n",
    "#     else:\n",
    "#         return \"FALSE\"\n",
    "    \n",
    "# final['Sorted'] = final.apply(sorting_rows, axis=1)\n"
   ]
  },
  {
   "cell_type": "code",
   "execution_count": 15,
   "metadata": {},
   "outputs": [],
   "source": [
    "def sorting_rows(row):\n",
    "    if (row['idx_1'] == 'FIBROBLAST') & (row['idx_2'] == 'MYELOID'):\n",
    "        return \"FIBROBLAST_MYELOID\"\n",
    "    elif (row['idx_1'] == 'FIBROBLAST') & (row['idx_2'] == 'MIXED'):\n",
    "        return \"FIBROBLAST_MIXED\"\n",
    "    elif (row['idx_1'] == 'FIBROBLAST') & (row['idx_2'] == 'UNCLASSIFIED'):\n",
    "        return \"FIBROBLAST_UNCLASSIFIED\"\n",
    "    elif (row['idx_1'] == 'MYELOID') & (row['idx_2'] == 'MIXED'):\n",
    "        return \"MYELOID_MIXED\"\n",
    "    elif (row['idx_1'] == 'MYELOID') & (row['idx_2'] == 'UNCLASSIFIED'):\n",
    "        return \"MYELOID_UNCLASSIFIED\"\n",
    "    elif (row['idx_1'] == 'MIXED') & (row['idx_2'] == 'UNCLASSIFIED'):\n",
    "        return \"MIXED_UNCLASSIFIED\"\n",
    "    else:\n",
    "        return \"FALSE\"\n",
    "    \n",
    "    \n",
    "final['Sorted'] = final.apply(sorting_rows, axis=1)"
   ]
  },
  {
   "cell_type": "code",
   "execution_count": 16,
   "metadata": {},
   "outputs": [],
   "source": [
    "\n",
    "\n",
    "final[['X1', 'Y1']] = pd.DataFrame(final['cord_1'].tolist(), index=final.index) \n",
    "final[['X2', 'Y2']] = pd.DataFrame(final['cord_2'].tolist(), index=final.index) \n",
    "\n",
    "f = final.loc[final['Sorted'] != 'FALSE']  # excluding similar pair-wise distances"
   ]
  },
  {
   "cell_type": "markdown",
   "metadata": {},
   "source": [
    "## Histogram of Distances between Fibroblast and Myleoid"
   ]
  },
  {
   "cell_type": "code",
   "execution_count": 17,
   "metadata": {},
   "outputs": [],
   "source": [
    "from adjustText import adjust_text"
   ]
  },
  {
   "cell_type": "code",
   "execution_count": 57,
   "metadata": {},
   "outputs": [
    {
     "name": "stderr",
     "output_type": "stream",
     "text": [
      "/Library/Frameworks/Python.framework/Versions/3.8/lib/python3.8/site-packages/plotnine/ggplot.py:727: PlotnineWarning:\n",
      "\n",
      "Saving 6.4 x 4.8 in image.\n",
      "\n",
      "/Library/Frameworks/Python.framework/Versions/3.8/lib/python3.8/site-packages/plotnine/ggplot.py:730: PlotnineWarning:\n",
      "\n",
      "Filename: ../Figures/Distance_FibroblastvsMyeloid.png\n",
      "\n",
      "/Library/Frameworks/Python.framework/Versions/3.8/lib/python3.8/site-packages/plotnine/stats/stat_bin.py:93: PlotnineWarning:\n",
      "\n",
      "'stat_bin()' using 'bins = 44'. Pick better value with 'binwidth'.\n",
      "\n",
      "/Library/Frameworks/Python.framework/Versions/3.8/lib/python3.8/site-packages/plotnine/stats/stat_bin.py:93: PlotnineWarning:\n",
      "\n",
      "'stat_bin()' using 'bins = 44'. Pick better value with 'binwidth'.\n",
      "\n"
     ]
    },
    {
     "data": {
      "image/png": "[encoded data removed]",
      "text/plain": [
       "<Figure size 640x480 with 1 Axes>"
      ]
     },
     "metadata": {},
     "output_type": "display_data"
    },
    {
     "data": {
      "text/plain": [
       "<ggplot: (360348871)>"
      ]
     },
     "execution_count": 57,
     "metadata": {},
     "output_type": "execute_result"
    }
   ],
   "source": [
    "f = final.loc[final['Sorted'] == 'FIBROBLAST_MYELOID'] \n",
    "\n",
    "\n",
    "\n",
    "\n",
    "avg_dist = f['Distance'].mean()\n",
    "\n",
    "\n",
    "\n",
    "g = ggplot(f, aes(x='Distance')) + \\\n",
    "geom_histogram(aes(y='stat(density)'), color= '#018571', fill= '#80cdc1', alpha=.2) + \\\n",
    "geom_density() + \\\n",
    "geom_vline(f, aes(xintercept='avg_dist'), color = '#ca0020') + \\\n",
    "labs(title='Fibroblast vs Myeloid cells')\n",
    " \n",
    "\n",
    "\n",
    "\n",
    "ggsave(filename='Distance_FibroblastvsMyeloid.png', plot = g, \n",
    "       path = '../Figures/')\n",
    "g"
   ]
  },
  {
   "cell_type": "code",
   "execution_count": 75,
   "metadata": {},
   "outputs": [
    {
     "name": "stderr",
     "output_type": "stream",
     "text": [
      "/Library/Frameworks/Python.framework/Versions/3.8/lib/python3.8/site-packages/plotnine/stats/stat_bin.py:93: PlotnineWarning:\n",
      "\n",
      "'stat_bin()' using 'bins = 151'. Pick better value with 'binwidth'.\n",
      "\n"
     ]
    },
    {
     "data": {
      "image/png": "[encoded data removed]",
      "text/plain": [
       "<Figure size 640x480 with 7 Axes>"
      ]
     },
     "metadata": {},
     "output_type": "display_data"
    },
    {
     "name": "stdout",
     "output_type": "stream",
     "text": [
      "<ggplot: (362627446)>\n"
     ]
    }
   ],
   "source": [
    "\n",
    "\n",
    "\n",
    "# g = ggplot(final, aes(x='Distance')) + \\\n",
    "# geom_histogram(aes(y='stat(density)'), color= '#018571', fill= '#80cdc1', alpha=.2) + \\\n",
    "# geom_density() \n",
    "    \n",
    "# print(g + facet_wrap('~ Sorted', nrow=4))\n",
    "\n",
    "    \n",
    "    \n",
    "    \n",
    "    \n",
    "  "
   ]
  },
  {
   "cell_type": "code",
   "execution_count": 58,
   "metadata": {},
   "outputs": [
    {
     "data": {
      "image/png": "[encoded data removed]",
      "text/plain": [
       "<Figure size 640x480 with 1 Axes>"
      ]
     },
     "metadata": {},
     "output_type": "display_data"
    },
    {
     "name": "stdout",
     "output_type": "stream",
     "text": [
      "<ggplot: (350505855)>\n"
     ]
    }
   ],
   "source": [
    "\n",
    "p = gg.ggplot(f) + \\\n",
    "    gg.geom_point(gg.aes(x='X1', y='Y1'), size = 0.5, color = \"#9ecae1\") + \\\n",
    "    gg.xlab(\"X\") + \\\n",
    "    gg.ylab(\"Y\") + \\\n",
    "    gg.ggtitle(\"Distribution of Cell types in a tissue space\") + \\\n",
    "    gg.geom_point(gg.aes(x='X2', y='Y2'), size = 0.5, color = \"#de2d26\")\n",
    "   \n",
    "\n",
    "\n",
    "    \n",
    "\n",
    "#ggsave(filename='cell_classification.png', plot = p, \n",
    "       #path = '/Users/habbasi/Desktop/012120_Halo_outputs/Figures')\n",
    "\n"
   ]
  },
  {
   "cell_type": "code",
   "execution_count": 58,
   "metadata": {},
   "outputs": [
    {
     "name": "stderr",
     "output_type": "stream",
     "text": [
      "/Library/Frameworks/Python.framework/Versions/3.8/lib/python3.8/site-packages/plotnine/ggplot.py:727: PlotnineWarning:\n",
      "\n",
      "Saving 6.4 x 4.8 in image.\n",
      "\n",
      "/Library/Frameworks/Python.framework/Versions/3.8/lib/python3.8/site-packages/plotnine/ggplot.py:730: PlotnineWarning:\n",
      "\n",
      "Filename: ../Figures/15.png\n",
      "\n",
      "/Library/Frameworks/Python.framework/Versions/3.8/lib/python3.8/site-packages/plotnine/ggplot.py:727: PlotnineWarning:\n",
      "\n",
      "Saving 6.4 x 4.8 in image.\n",
      "\n",
      "/Library/Frameworks/Python.framework/Versions/3.8/lib/python3.8/site-packages/plotnine/ggplot.py:730: PlotnineWarning:\n",
      "\n",
      "Filename: ../Figures/25.png\n",
      "\n",
      "/Library/Frameworks/Python.framework/Versions/3.8/lib/python3.8/site-packages/plotnine/ggplot.py:727: PlotnineWarning:\n",
      "\n",
      "Saving 6.4 x 4.8 in image.\n",
      "\n",
      "/Library/Frameworks/Python.framework/Versions/3.8/lib/python3.8/site-packages/plotnine/ggplot.py:730: PlotnineWarning:\n",
      "\n",
      "Filename: ../Figures/50.png\n",
      "\n",
      "/Library/Frameworks/Python.framework/Versions/3.8/lib/python3.8/site-packages/plotnine/ggplot.py:727: PlotnineWarning:\n",
      "\n",
      "Saving 6.4 x 4.8 in image.\n",
      "\n",
      "/Library/Frameworks/Python.framework/Versions/3.8/lib/python3.8/site-packages/plotnine/ggplot.py:730: PlotnineWarning:\n",
      "\n",
      "Filename: ../Figures/100.png\n",
      "\n",
      "/Library/Frameworks/Python.framework/Versions/3.8/lib/python3.8/site-packages/plotnine/ggplot.py:727: PlotnineWarning:\n",
      "\n",
      "Saving 6.4 x 4.8 in image.\n",
      "\n",
      "/Library/Frameworks/Python.framework/Versions/3.8/lib/python3.8/site-packages/plotnine/ggplot.py:730: PlotnineWarning:\n",
      "\n",
      "Filename: ../Figures/250.png\n",
      "\n",
      "/Library/Frameworks/Python.framework/Versions/3.8/lib/python3.8/site-packages/plotnine/ggplot.py:727: PlotnineWarning:\n",
      "\n",
      "Saving 6.4 x 4.8 in image.\n",
      "\n",
      "/Library/Frameworks/Python.framework/Versions/3.8/lib/python3.8/site-packages/plotnine/ggplot.py:730: PlotnineWarning:\n",
      "\n",
      "Filename: ../Figures/500.png\n",
      "\n",
      "/Library/Frameworks/Python.framework/Versions/3.8/lib/python3.8/site-packages/plotnine/ggplot.py:727: PlotnineWarning:\n",
      "\n",
      "Saving 6.4 x 4.8 in image.\n",
      "\n",
      "/Library/Frameworks/Python.framework/Versions/3.8/lib/python3.8/site-packages/plotnine/ggplot.py:730: PlotnineWarning:\n",
      "\n",
      "Filename: ../Figures/1000.png\n",
      "\n",
      "/Library/Frameworks/Python.framework/Versions/3.8/lib/python3.8/site-packages/plotnine/ggplot.py:727: PlotnineWarning:\n",
      "\n",
      "Saving 6.4 x 4.8 in image.\n",
      "\n",
      "/Library/Frameworks/Python.framework/Versions/3.8/lib/python3.8/site-packages/plotnine/ggplot.py:730: PlotnineWarning:\n",
      "\n",
      "Filename: ../Figures/2000.png\n",
      "\n"
     ]
    }
   ],
   "source": [
    "distlist = [15, 25, 50, 100, 250, 500, 1000, 2000]\n",
    "\n",
    "for i, p in enumerate(distlist):\n",
    "    \n",
    "    f2 = f.loc[final['Distance'] <= p]\n",
    "    g = gg.ggplot(f2) + \\\n",
    "    gg.geom_point(gg.aes(x='X1', y='Y1'), size = 0.5, color = \"#9ecae1\") + \\\n",
    "    gg.xlab(\"X\") + \\\n",
    "    gg.ylab(\"Y\") + \\\n",
    "    gg.labs(title= 'Distance_' +  str(p) + 'um') + \\\n",
    "    gg.geom_point(gg.aes(x='X2', y='Y2'), size = 0.5, color = \"#de2d26\") \n",
    "    ggsave(filename=str(p)+'.png', plot = g, \n",
    "       path = '../Figures/')\n",
    "    \n",
    "   \n",
    "\n",
    "\n",
    "    \n",
    "\n",
    "\n",
    "\n",
    "\n",
    "\n"
   ]
  },
  {
   "cell_type": "code",
   "execution_count": null,
   "metadata": {},
   "outputs": [],
   "source": [
    "distlist = [15, 25, 50, 100, 250, 500, 1000, 2000]\n",
    "\n",
    "for i, p in enumerate(distlist):\n",
    "    \n",
    "    f2 = f.loc[final['Distance'] <= p]\n",
    "#     g = gg.ggplot(f2) + \\\n",
    "#     gg.geom_point(gg.aes(x='X1', y='Y1'), size = 0.5, color = \"#9ecae1\") + \\\n",
    "#     gg.xlab(\"X\") + \\\n",
    "#     gg.ylab(\"Y\") + \\\n",
    "#     gg.labs(title= 'Distance_' +  str(p) + 'um') + \\\n",
    "#     gg.geom_point(gg.aes(x='X2', y='Y2'), size = 0.5, color = \"#de2d26\") \n",
    "#     ggsave(filename=str(p)+'.png', plot = g, \n",
    "#        path = '/Users/habbasi/Desktop/')\n",
    "    "
   ]
  },
  {
   "cell_type": "code",
   "execution_count": 19,
   "metadata": {},
   "outputs": [],
   "source": [
    "# %reload_ext rpy2.ipython\n",
    "# %R -i new"
   ]
  },
  {
   "cell_type": "code",
   "execution_count": 20,
   "metadata": {},
   "outputs": [],
   "source": [
    "# from rpy2.robjects.packages import importr\n",
    "# import rpy2.robjects as ro\n",
    "\n",
    "# stats = importr('stats')\n",
    "# base = importr('base')\n",
    "# tidy = importr('tidyverse')\n",
    "# akima = importr('akima')"
   ]
  }
 ],
 "metadata": {
  "kernelspec": {
   "display_name": "Python 3",
   "language": "python",
   "name": "python3"
  },
  "language_info": {
   "codemirror_mode": {
    "name": "ipython",
    "version": 3
   },
   "file_extension": ".py",
   "mimetype": "text/x-python",
   "name": "python",
   "nbconvert_exporter": "python",
   "pygments_lexer": "ipython3",
   "version": "3.8.0"
  }
 },
 "nbformat": 4,
 "nbformat_minor": 2
}
