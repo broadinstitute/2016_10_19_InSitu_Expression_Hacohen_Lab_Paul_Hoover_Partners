{
 "cells": [
  {
   "cell_type": "code",
   "execution_count": 396,
   "metadata": {},
   "outputs": [],
   "source": [
    "\n",
    "import os\n",
    "import pandas as pd\n",
    "import numpy as np\n",
    "import glob\n",
    "import plotnine as gg\n",
    "import re\n",
    "from plotnine import *\n",
    "import matplotlib.pyplot as plt\n",
    "\n",
    "\n"
   ]
  },
  {
   "cell_type": "markdown",
   "metadata": {},
   "source": [
    "## Loading data"
   ]
  },
  {
   "cell_type": "markdown",
   "metadata": {},
   "source": [
    "### Annotations csv file"
   ]
  },
  {
   "cell_type": "code",
   "execution_count": 397,
   "metadata": {},
   "outputs": [],
   "source": [
    "\n",
    "anno = pd.read_csv('../data/ExpPHa07_1/annotations/ExpPHa07_1_a_2501.csv', skiprows=[0])\n",
    "\n",
    "skipcolumns = [0,2,4,5,6]\n",
    "\n",
    "d = (anno.drop(anno.columns[skipcolumns], axis=1)\n",
    "     .rename(columns={'/Annotation/@Name': 'Annotation',\n",
    "                      '/Annotation/#id': 'Id',\n",
    "                      '/Annotation/Regions/Region/#id': 'Region_ID',\n",
    "                      '/Annotation/Regions/Region/Vertices/V/@X': 'X',\n",
    "                      '/Annotation/Regions/Region/Vertices/V/@Y': 'Y'})\n",
    "    )\n",
    "\n",
    "\n",
    "\n",
    "d['Image_ID'] = 'ExpPHa07_1_a'\n",
    "\n",
    "d = d[['Image_ID','Region_ID','Annotation', 'X', 'Y']]\n"
   ]
  },
  {
   "cell_type": "code",
   "execution_count": 398,
   "metadata": {},
   "outputs": [
    {
     "data": {
      "text/html": [
       "<div>\n",
       "<style scoped>\n",
       "    .dataframe tbody tr th:only-of-type {\n",
       "        vertical-align: middle;\n",
       "    }\n",
       "\n",
       "    .dataframe tbody tr th {\n",
       "        vertical-align: top;\n",
       "    }\n",
       "\n",
       "    .dataframe thead th {\n",
       "        text-align: right;\n",
       "    }\n",
       "</style>\n",
       "<table border=\"1\" class=\"dataframe\">\n",
       "  <thead>\n",
       "    <tr style=\"text-align: right;\">\n",
       "      <th></th>\n",
       "      <th>Image_ID</th>\n",
       "      <th>Region_ID</th>\n",
       "      <th>Annotation</th>\n",
       "      <th>X</th>\n",
       "      <th>Y</th>\n",
       "    </tr>\n",
       "  </thead>\n",
       "  <tbody>\n",
       "    <tr>\n",
       "      <th>0</th>\n",
       "      <td>ExpPHa07_1_a</td>\n",
       "      <td>1</td>\n",
       "      <td>outline</td>\n",
       "      <td>6486</td>\n",
       "      <td>1326</td>\n",
       "    </tr>\n",
       "    <tr>\n",
       "      <th>1</th>\n",
       "      <td>ExpPHa07_1_a</td>\n",
       "      <td>1</td>\n",
       "      <td>outline</td>\n",
       "      <td>6490</td>\n",
       "      <td>1326</td>\n",
       "    </tr>\n",
       "    <tr>\n",
       "      <th>2</th>\n",
       "      <td>ExpPHa07_1_a</td>\n",
       "      <td>1</td>\n",
       "      <td>outline</td>\n",
       "      <td>6498</td>\n",
       "      <td>1330</td>\n",
       "    </tr>\n",
       "    <tr>\n",
       "      <th>3</th>\n",
       "      <td>ExpPHa07_1_a</td>\n",
       "      <td>1</td>\n",
       "      <td>outline</td>\n",
       "      <td>6506</td>\n",
       "      <td>1330</td>\n",
       "    </tr>\n",
       "    <tr>\n",
       "      <th>4</th>\n",
       "      <td>ExpPHa07_1_a</td>\n",
       "      <td>1</td>\n",
       "      <td>outline</td>\n",
       "      <td>6510</td>\n",
       "      <td>1334</td>\n",
       "    </tr>\n",
       "  </tbody>\n",
       "</table>\n",
       "</div>"
      ],
      "text/plain": [
       "       Image_ID  Region_ID Annotation     X     Y\n",
       "0  ExpPHa07_1_a          1    outline  6486  1326\n",
       "1  ExpPHa07_1_a          1    outline  6490  1326\n",
       "2  ExpPHa07_1_a          1    outline  6498  1330\n",
       "3  ExpPHa07_1_a          1    outline  6506  1330\n",
       "4  ExpPHa07_1_a          1    outline  6510  1334"
      ]
     },
     "execution_count": 398,
     "metadata": {},
     "output_type": "execute_result"
    }
   ],
   "source": [
    "d.head()"
   ]
  },
  {
   "cell_type": "markdown",
   "metadata": {},
   "source": [
    "### Tissue data csv"
   ]
  },
  {
   "cell_type": "code",
   "execution_count": 399,
   "metadata": {},
   "outputs": [],
   "source": [
    "data = pd.read_csv('../data/ExpPHa07_1/ExpPHa07_1_a.tif_2501_job2998.object_results.csv')\n",
    "\n",
    "# Renaming of column names\n",
    "\n",
    "data.columns = [col.replace(' ', '_') for col in data.columns]\n",
    "\n",
    "## Extracting tissue image names from filenames\n",
    "\n",
    "data['Image_Location'] = pd.DataFrame(data.loc[:, 'Image_Location']\n",
    "                                      .str.split('\\\\')\n",
    "                                      .str.get(9)\n",
    "                                      .str.replace('.tif', ''))\n",
    "\n",
    "data = (data\n",
    "        .rename(columns={'Image_Location': 'Image_ID'})\n",
    "        .drop(columns = ['Analysis_Region', 'Analysis_Inputs'])  \n",
    "       )\n"
   ]
  },
  {
   "cell_type": "markdown",
   "metadata": {},
   "source": [
    "### Function to Calculate Centroids of the rectangular bounding boxes"
   ]
  },
  {
   "cell_type": "markdown",
   "metadata": {},
   "source": [
    "### Note:\n",
    "### 1st step: calculating center of detected objects by calculating center of bounding boxes"
   ]
  },
  {
   "cell_type": "code",
   "execution_count": 400,
   "metadata": {},
   "outputs": [],
   "source": [
    "# Use the height and width to calculate the area\n",
    "def X_centroid(row):\n",
    "    X = int(row['XMin'] + row['XMax'])/2\n",
    "\n",
    "    return int(X)\n",
    "\n",
    "def Y_centroid(row):\n",
    "    Y = int(row['YMin'] + row['YMax'])/2\n",
    "    return int(Y)\n",
    "\n",
    "data['X'] = data.apply(X_centroid, axis=1)\n",
    "data['Y'] = data.apply(Y_centroid, axis=1)\n"
   ]
  },
  {
   "cell_type": "markdown",
   "metadata": {},
   "source": [
    "### Function of Cell Classification"
   ]
  },
  {
   "cell_type": "code",
   "execution_count": 401,
   "metadata": {},
   "outputs": [],
   "source": [
    "def classification(row):\n",
    "    \n",
    "    if (row['Opal_520_Classification'] >= 3) & (row['Opal_570_Classification'] < 2) & (row['Opal_620_Classification'] < 2) & (row['Opal_690_Classification'] < 2):\n",
    "        return 'CM0'\n",
    "    elif (row['Opal_520_Classification'] < 2) & (row['Opal_570_Classification'] >= 3) & (row['Opal_620_Classification'] < 2) & (row['Opal_690_Classification'] < 2):\n",
    "        return 'CM4'\n",
    "    elif (row['Opal_520_Classification'] == 0) & (row['Opal_570_Classification'] == 0) & (row['Opal_620_Classification'] >= 3) & (row['Opal_690_Classification'] == 0):\n",
    "        return 'all'\n",
    "    elif (row['Opal_520_Classification'] < 2) & (row['Opal_570_Classification'] < 2) & (row['Opal_620_Classification'] < 2) & (row['Opal_690_Classification'] >= 3):\n",
    "        return 'CM1'\n",
    "    else:\n",
    "        return 'NC'\n",
    "    \n",
    "    "
   ]
  },
  {
   "cell_type": "markdown",
   "metadata": {},
   "source": [
    "### Applying Classification Function"
   ]
  },
  {
   "cell_type": "code",
   "execution_count": 402,
   "metadata": {},
   "outputs": [
    {
     "data": {
      "text/plain": [
       "array(['NC', 'CM4', 'CM1', 'CM0'], dtype=object)"
      ]
     },
     "execution_count": 402,
     "metadata": {},
     "output_type": "execute_result"
    }
   ],
   "source": [
    "data['Classification'] = data.apply(classification, axis=1)\n",
    "\n",
    "data['Classification'].unique()"
   ]
  },
  {
   "cell_type": "code",
   "execution_count": 403,
   "metadata": {},
   "outputs": [
    {
     "data": {
      "text/html": [
       "<div>\n",
       "<style scoped>\n",
       "    .dataframe tbody tr th:only-of-type {\n",
       "        vertical-align: middle;\n",
       "    }\n",
       "\n",
       "    .dataframe tbody tr th {\n",
       "        vertical-align: top;\n",
       "    }\n",
       "\n",
       "    .dataframe thead th {\n",
       "        text-align: right;\n",
       "    }\n",
       "</style>\n",
       "<table border=\"1\" class=\"dataframe\">\n",
       "  <thead>\n",
       "    <tr style=\"text-align: right;\">\n",
       "      <th></th>\n",
       "      <th>Image_ID</th>\n",
       "      <th>Object_Id</th>\n",
       "      <th>XMin</th>\n",
       "      <th>XMax</th>\n",
       "      <th>YMin</th>\n",
       "      <th>YMax</th>\n",
       "      <th>Opal_520_Copies</th>\n",
       "      <th>Opal_520_Area_(µm²)</th>\n",
       "      <th>Opal_520_Classification</th>\n",
       "      <th>Opal_520_Cell_Intensity</th>\n",
       "      <th>...</th>\n",
       "      <th>Opal_690_Cell_Intensity</th>\n",
       "      <th>Opal_690_Avg_Intensity</th>\n",
       "      <th>Cell_Area_(µm²)</th>\n",
       "      <th>Cytoplasm_Area_(µm²)</th>\n",
       "      <th>Nucleus_Area_(µm²)</th>\n",
       "      <th>Nucleus_Perimeter_(µm)</th>\n",
       "      <th>Nucleus_Roundness</th>\n",
       "      <th>X</th>\n",
       "      <th>Y</th>\n",
       "      <th>Classification</th>\n",
       "    </tr>\n",
       "  </thead>\n",
       "  <tbody>\n",
       "    <tr>\n",
       "      <th>0</th>\n",
       "      <td>ExpPHa07_1_a</td>\n",
       "      <td>0</td>\n",
       "      <td>5168</td>\n",
       "      <td>5187</td>\n",
       "      <td>2800</td>\n",
       "      <td>2822</td>\n",
       "      <td>3</td>\n",
       "      <td>0.983876</td>\n",
       "      <td>1</td>\n",
       "      <td>0.303604</td>\n",
       "      <td>...</td>\n",
       "      <td>0.770519</td>\n",
       "      <td>0.104420</td>\n",
       "      <td>88.05688</td>\n",
       "      <td>63.95193</td>\n",
       "      <td>24.10496</td>\n",
       "      <td>19.83810</td>\n",
       "      <td>0.893369</td>\n",
       "      <td>5177</td>\n",
       "      <td>2811</td>\n",
       "      <td>NC</td>\n",
       "    </tr>\n",
       "    <tr>\n",
       "      <th>1</th>\n",
       "      <td>ExpPHa07_1_a</td>\n",
       "      <td>1</td>\n",
       "      <td>5138</td>\n",
       "      <td>5161</td>\n",
       "      <td>2831</td>\n",
       "      <td>2854</td>\n",
       "      <td>1</td>\n",
       "      <td>0.491938</td>\n",
       "      <td>1</td>\n",
       "      <td>0.134773</td>\n",
       "      <td>...</td>\n",
       "      <td>0.119978</td>\n",
       "      <td>0.097555</td>\n",
       "      <td>102.32310</td>\n",
       "      <td>75.26649</td>\n",
       "      <td>27.05658</td>\n",
       "      <td>21.82191</td>\n",
       "      <td>0.852763</td>\n",
       "      <td>5149</td>\n",
       "      <td>2842</td>\n",
       "      <td>NC</td>\n",
       "    </tr>\n",
       "    <tr>\n",
       "      <th>2</th>\n",
       "      <td>ExpPHa07_1_a</td>\n",
       "      <td>2</td>\n",
       "      <td>5159</td>\n",
       "      <td>5184</td>\n",
       "      <td>2848</td>\n",
       "      <td>2874</td>\n",
       "      <td>3</td>\n",
       "      <td>0.983876</td>\n",
       "      <td>1</td>\n",
       "      <td>0.300106</td>\n",
       "      <td>...</td>\n",
       "      <td>0.534836</td>\n",
       "      <td>0.135900</td>\n",
       "      <td>124.70630</td>\n",
       "      <td>85.59719</td>\n",
       "      <td>39.10906</td>\n",
       "      <td>26.78144</td>\n",
       "      <td>0.881903</td>\n",
       "      <td>5171</td>\n",
       "      <td>2861</td>\n",
       "      <td>NC</td>\n",
       "    </tr>\n",
       "    <tr>\n",
       "      <th>3</th>\n",
       "      <td>ExpPHa07_1_a</td>\n",
       "      <td>3</td>\n",
       "      <td>5112</td>\n",
       "      <td>5136</td>\n",
       "      <td>2851</td>\n",
       "      <td>2870</td>\n",
       "      <td>1</td>\n",
       "      <td>0.245969</td>\n",
       "      <td>1</td>\n",
       "      <td>0.081311</td>\n",
       "      <td>...</td>\n",
       "      <td>0.176335</td>\n",
       "      <td>0.102414</td>\n",
       "      <td>86.58107</td>\n",
       "      <td>61.00030</td>\n",
       "      <td>25.58077</td>\n",
       "      <td>21.82191</td>\n",
       "      <td>0.801114</td>\n",
       "      <td>5124</td>\n",
       "      <td>2860</td>\n",
       "      <td>NC</td>\n",
       "    </tr>\n",
       "    <tr>\n",
       "      <th>4</th>\n",
       "      <td>ExpPHa07_1_a</td>\n",
       "      <td>4</td>\n",
       "      <td>5106</td>\n",
       "      <td>5132</td>\n",
       "      <td>2869</td>\n",
       "      <td>2894</td>\n",
       "      <td>4</td>\n",
       "      <td>1.475814</td>\n",
       "      <td>2</td>\n",
       "      <td>0.559675</td>\n",
       "      <td>...</td>\n",
       "      <td>1.137887</td>\n",
       "      <td>0.144567</td>\n",
       "      <td>132.08530</td>\n",
       "      <td>82.64557</td>\n",
       "      <td>49.43976</td>\n",
       "      <td>29.75715</td>\n",
       "      <td>0.876702</td>\n",
       "      <td>5119</td>\n",
       "      <td>2881</td>\n",
       "      <td>NC</td>\n",
       "    </tr>\n",
       "  </tbody>\n",
       "</table>\n",
       "<p>5 rows × 34 columns</p>\n",
       "</div>"
      ],
      "text/plain": [
       "       Image_ID  Object_Id  XMin  XMax  YMin  YMax  Opal_520_Copies  \\\n",
       "0  ExpPHa07_1_a          0  5168  5187  2800  2822                3   \n",
       "1  ExpPHa07_1_a          1  5138  5161  2831  2854                1   \n",
       "2  ExpPHa07_1_a          2  5159  5184  2848  2874                3   \n",
       "3  ExpPHa07_1_a          3  5112  5136  2851  2870                1   \n",
       "4  ExpPHa07_1_a          4  5106  5132  2869  2894                4   \n",
       "\n",
       "   Opal_520_Area_(µm²)  Opal_520_Classification  Opal_520_Cell_Intensity  ...  \\\n",
       "0             0.983876                        1                 0.303604  ...   \n",
       "1             0.491938                        1                 0.134773  ...   \n",
       "2             0.983876                        1                 0.300106  ...   \n",
       "3             0.245969                        1                 0.081311  ...   \n",
       "4             1.475814                        2                 0.559675  ...   \n",
       "\n",
       "   Opal_690_Cell_Intensity  Opal_690_Avg_Intensity  Cell_Area_(µm²)  \\\n",
       "0                 0.770519                0.104420         88.05688   \n",
       "1                 0.119978                0.097555        102.32310   \n",
       "2                 0.534836                0.135900        124.70630   \n",
       "3                 0.176335                0.102414         86.58107   \n",
       "4                 1.137887                0.144567        132.08530   \n",
       "\n",
       "   Cytoplasm_Area_(µm²)  Nucleus_Area_(µm²)  Nucleus_Perimeter_(µm)  \\\n",
       "0              63.95193            24.10496                19.83810   \n",
       "1              75.26649            27.05658                21.82191   \n",
       "2              85.59719            39.10906                26.78144   \n",
       "3              61.00030            25.58077                21.82191   \n",
       "4              82.64557            49.43976                29.75715   \n",
       "\n",
       "   Nucleus_Roundness     X     Y  Classification  \n",
       "0           0.893369  5177  2811              NC  \n",
       "1           0.852763  5149  2842              NC  \n",
       "2           0.881903  5171  2861              NC  \n",
       "3           0.801114  5124  2860              NC  \n",
       "4           0.876702  5119  2881              NC  \n",
       "\n",
       "[5 rows x 34 columns]"
      ]
     },
     "execution_count": 403,
     "metadata": {},
     "output_type": "execute_result"
    }
   ],
   "source": [
    "data.head()"
   ]
  },
  {
   "cell_type": "markdown",
   "metadata": {},
   "source": [
    "## Creating Mask "
   ]
  },
  {
   "cell_type": "markdown",
   "metadata": {},
   "source": [
    "### Note:\n",
    "1) Annotated regions are filled using polygon function(Skimage)\n",
    "\n",
    "2) Cell coordinates were matched with masked region and separate dataframe is generated"
   ]
  },
  {
   "cell_type": "code",
   "execution_count": 404,
   "metadata": {},
   "outputs": [],
   "source": [
    "from skimage.draw import polygon\n",
    "\n",
    "\n",
    "def Intersection(data, mask): \n",
    "    return set(dt).intersection(set(mask))\n",
    "\n",
    "\n",
    "labels = ['vessels', 'gloms', 'gloms']\n",
    "ID = [4,2,3]\n",
    "\n",
    "      \n",
    "fmask = []\n",
    "          \n",
    "\n",
    "for p, j in zip(labels, ID):\n",
    "    if p == \"vessels\" and j == 4:\n",
    "        poly = d[(d.Annotation == str(p)) & (d.Region_ID == j)]\n",
    "        row, col = polygon(np.array(poly.X),\n",
    "                         np.array(poly.Y))\n",
    "        mask = [m for m in zip(row, col)]\n",
    "        dt = [t for t in zip(data.X, data.Y)]\n",
    "        d_mask = Intersection(dt,mask)\n",
    "        v = pd.DataFrame(d_mask, columns=['X', 'Y'])\n",
    "        v['mask'] = str(p)\n",
    "        v['Region_ID'] = j\n",
    "        \n",
    "    elif p == \"gloms\" and j == 2:\n",
    "        poly = d[(d.Annotation == str(p)) & (d.Region_ID == j)]\n",
    "        row, col = polygon(np.array(poly.X),\n",
    "                         np.array(poly.Y))\n",
    "        mask = [m for m in zip(row, col)]\n",
    "        dt = [t for t in zip(data.X, data.Y)]\n",
    "        d_mask = Intersection(dt,mask)\n",
    "        g1 = pd.DataFrame(d_mask, columns=['X', 'Y'])\n",
    "        g1['mask'] = str(p)\n",
    "        g1['Region_ID'] = j\n",
    "    \n",
    "    elif p == \"gloms\" and j == 3:\n",
    "        poly = d[(d.Annotation == str(p))& (d.Region_ID == j)]\n",
    "        row, col = polygon(np.array(poly.X),\n",
    "                         np.array(poly.Y))\n",
    "        mask = [m for m in zip(row, col)]\n",
    "        dt = [t for t in zip(data.X, data.Y)]\n",
    "        d_mask = Intersection(dt,mask)\n",
    "        g2 = pd.DataFrame(d_mask, columns=['X', 'Y'])\n",
    "        g2['mask'] = str(p)\n",
    "        g2['Region_ID'] = j\n",
    "        \n",
    "  \n",
    "fmask = pd.DataFrame(v.append([g1, g2]))\n",
    "\n",
    "\n",
    "\n"
   ]
  },
  {
   "cell_type": "markdown",
   "metadata": {},
   "source": [
    "### Merging of Dataframes and replacing NaN values with \"No\" for mask and Region_ID columns"
   ]
  },
  {
   "cell_type": "code",
   "execution_count": 415,
   "metadata": {},
   "outputs": [],
   "source": [
    "\n",
    "final =  data.merge(fmask,how='left', on=['X', 'Y'])\n",
    "(final['mask']\n",
    " .fillna('Out', inplace=True)\n",
    ")\n",
    "(final['Region_ID']\n",
    " .fillna('0', inplace=True)\n",
    ")"
   ]
  },
  {
   "cell_type": "code",
   "execution_count": 416,
   "metadata": {},
   "outputs": [
    {
     "data": {
      "text/plain": [
       "array(['0', 4.0, 2.0, 3.0], dtype=object)"
      ]
     },
     "execution_count": 416,
     "metadata": {},
     "output_type": "execute_result"
    }
   ],
   "source": [
    "final['Region_ID'].unique()"
   ]
  },
  {
   "cell_type": "code",
   "execution_count": 417,
   "metadata": {},
   "outputs": [],
   "source": [
    "#test.to_csv('/Users/habbasi/Desktop/test.csv')\n",
    "      "
   ]
  },
  {
   "cell_type": "code",
   "execution_count": 418,
   "metadata": {
    "scrolled": true
   },
   "outputs": [
    {
     "data": {
      "image/png": "[encoded data removed]",
      "text/plain": [
       "<Figure size 640x480 with 1 Axes>"
      ]
     },
     "metadata": {},
     "output_type": "display_data"
    },
    {
     "data": {
      "text/plain": [
       "<ggplot: (326812206)>"
      ]
     },
     "execution_count": 418,
     "metadata": {},
     "output_type": "execute_result"
    }
   ],
   "source": [
    "#f = final[final['mask'] != \"No\"]\n",
    "\n",
    "p = (\n",
    "    ggplot(final)\n",
    "    + geom_point(gg.aes(x='X', y='Y', color = 'Region_ID'), size = 0.5) \n",
    "    + xlab(\"X\") \n",
    "    + ylab(\"Y\")\n",
    "    + labs(title= 'Annotated tissue regions')\n",
    "    + scale_colour_manual(name= \"Tissue compartment\", \n",
    "                           labels=['Outside','Glomerulus_2', 'Glomerulus_3', 'Vessels_4'], \n",
    "                           values = [\"#b2df8a\",\"#e41a1c\", \"#984ea3\",\"#1f78b4\"])\n",
    "    \n",
    ")\n",
    "\n",
    "ggsave(filename='Masked_tissue_Figure1.png', plot = p, path = '../Figures/ExpPHa07_1/')\n",
    "\n",
    "p\n"
   ]
  },
  {
   "cell_type": "code",
   "execution_count": 419,
   "metadata": {},
   "outputs": [
    {
     "name": "stderr",
     "output_type": "stream",
     "text": [
      "/Library/Frameworks/Python.framework/Versions/3.8/lib/python3.8/site-packages/plotnine/ggplot.py:727: PlotnineWarning:\n",
      "\n",
      "Saving 6.4 x 4.8 in image.\n",
      "\n",
      "/Library/Frameworks/Python.framework/Versions/3.8/lib/python3.8/site-packages/plotnine/ggplot.py:730: PlotnineWarning:\n",
      "\n",
      "Filename: ../Figures/ExpPHa07_1/Annotations_Figure1.png\n",
      "\n"
     ]
    },
    {
     "data": {
      "image/png": "[encoded data removed]",
      "text/plain": [
       "<Figure size 640x480 with 1 Axes>"
      ]
     },
     "metadata": {},
     "output_type": "display_data"
    },
    {
     "data": {
      "text/plain": [
       "<ggplot: (329836520)>"
      ]
     },
     "execution_count": 419,
     "metadata": {},
     "output_type": "execute_result"
    }
   ],
   "source": [
    "\n",
    "\n",
    "p = (\n",
    "    ggplot(d)\n",
    "    + geom_point(gg.aes(x='X', y='Y', color='Annotation' ), size = 0.5) \n",
    "    + xlab(\"X\") \n",
    "    + ylab(\"Y\")\n",
    "    + labs(title= 'Annotated Tissue')\n",
    "    + scale_colour_manual(name= \"Tissue compartment\", \n",
    "                           labels=['Glomerulus', 'Outline', 'Vessels'], \n",
    "                           values = [\"#f03b20\", \"#31a354\", \"#3182bd\"])\n",
    "    \n",
    ")\n",
    "ggsave(filename='Annotations_Figure1.png', plot = p, path = '../Figures/ExpPHa07_1/')\n",
    "\n",
    "p\n",
    "\n"
   ]
  },
  {
   "cell_type": "code",
   "execution_count": 420,
   "metadata": {},
   "outputs": [
    {
     "data": {
      "text/html": [
       "<div>\n",
       "<style scoped>\n",
       "    .dataframe tbody tr th:only-of-type {\n",
       "        vertical-align: middle;\n",
       "    }\n",
       "\n",
       "    .dataframe tbody tr th {\n",
       "        vertical-align: top;\n",
       "    }\n",
       "\n",
       "    .dataframe thead th {\n",
       "        text-align: right;\n",
       "    }\n",
       "</style>\n",
       "<table border=\"1\" class=\"dataframe\">\n",
       "  <thead>\n",
       "    <tr style=\"text-align: right;\">\n",
       "      <th></th>\n",
       "      <th>Image_ID</th>\n",
       "      <th>Object_Id</th>\n",
       "      <th>XMin</th>\n",
       "      <th>XMax</th>\n",
       "      <th>YMin</th>\n",
       "      <th>YMax</th>\n",
       "      <th>Opal_520_Copies</th>\n",
       "      <th>Opal_520_Area_(µm²)</th>\n",
       "      <th>Opal_520_Classification</th>\n",
       "      <th>Opal_520_Cell_Intensity</th>\n",
       "      <th>...</th>\n",
       "      <th>Cell_Area_(µm²)</th>\n",
       "      <th>Cytoplasm_Area_(µm²)</th>\n",
       "      <th>Nucleus_Area_(µm²)</th>\n",
       "      <th>Nucleus_Perimeter_(µm)</th>\n",
       "      <th>Nucleus_Roundness</th>\n",
       "      <th>X</th>\n",
       "      <th>Y</th>\n",
       "      <th>Classification</th>\n",
       "      <th>mask</th>\n",
       "      <th>Region_ID</th>\n",
       "    </tr>\n",
       "  </thead>\n",
       "  <tbody>\n",
       "    <tr>\n",
       "      <th>0</th>\n",
       "      <td>ExpPHa07_1_a</td>\n",
       "      <td>0</td>\n",
       "      <td>5168</td>\n",
       "      <td>5187</td>\n",
       "      <td>2800</td>\n",
       "      <td>2822</td>\n",
       "      <td>3</td>\n",
       "      <td>0.983876</td>\n",
       "      <td>1</td>\n",
       "      <td>0.303604</td>\n",
       "      <td>...</td>\n",
       "      <td>88.05688</td>\n",
       "      <td>63.95193</td>\n",
       "      <td>24.10496</td>\n",
       "      <td>19.83810</td>\n",
       "      <td>0.893369</td>\n",
       "      <td>5177</td>\n",
       "      <td>2811</td>\n",
       "      <td>NC</td>\n",
       "      <td>Out</td>\n",
       "      <td>0</td>\n",
       "    </tr>\n",
       "    <tr>\n",
       "      <th>1</th>\n",
       "      <td>ExpPHa07_1_a</td>\n",
       "      <td>1</td>\n",
       "      <td>5138</td>\n",
       "      <td>5161</td>\n",
       "      <td>2831</td>\n",
       "      <td>2854</td>\n",
       "      <td>1</td>\n",
       "      <td>0.491938</td>\n",
       "      <td>1</td>\n",
       "      <td>0.134773</td>\n",
       "      <td>...</td>\n",
       "      <td>102.32310</td>\n",
       "      <td>75.26649</td>\n",
       "      <td>27.05658</td>\n",
       "      <td>21.82191</td>\n",
       "      <td>0.852763</td>\n",
       "      <td>5149</td>\n",
       "      <td>2842</td>\n",
       "      <td>NC</td>\n",
       "      <td>Out</td>\n",
       "      <td>0</td>\n",
       "    </tr>\n",
       "    <tr>\n",
       "      <th>2</th>\n",
       "      <td>ExpPHa07_1_a</td>\n",
       "      <td>2</td>\n",
       "      <td>5159</td>\n",
       "      <td>5184</td>\n",
       "      <td>2848</td>\n",
       "      <td>2874</td>\n",
       "      <td>3</td>\n",
       "      <td>0.983876</td>\n",
       "      <td>1</td>\n",
       "      <td>0.300106</td>\n",
       "      <td>...</td>\n",
       "      <td>124.70630</td>\n",
       "      <td>85.59719</td>\n",
       "      <td>39.10906</td>\n",
       "      <td>26.78144</td>\n",
       "      <td>0.881903</td>\n",
       "      <td>5171</td>\n",
       "      <td>2861</td>\n",
       "      <td>NC</td>\n",
       "      <td>Out</td>\n",
       "      <td>0</td>\n",
       "    </tr>\n",
       "    <tr>\n",
       "      <th>3</th>\n",
       "      <td>ExpPHa07_1_a</td>\n",
       "      <td>3</td>\n",
       "      <td>5112</td>\n",
       "      <td>5136</td>\n",
       "      <td>2851</td>\n",
       "      <td>2870</td>\n",
       "      <td>1</td>\n",
       "      <td>0.245969</td>\n",
       "      <td>1</td>\n",
       "      <td>0.081311</td>\n",
       "      <td>...</td>\n",
       "      <td>86.58107</td>\n",
       "      <td>61.00030</td>\n",
       "      <td>25.58077</td>\n",
       "      <td>21.82191</td>\n",
       "      <td>0.801114</td>\n",
       "      <td>5124</td>\n",
       "      <td>2860</td>\n",
       "      <td>NC</td>\n",
       "      <td>Out</td>\n",
       "      <td>0</td>\n",
       "    </tr>\n",
       "    <tr>\n",
       "      <th>4</th>\n",
       "      <td>ExpPHa07_1_a</td>\n",
       "      <td>4</td>\n",
       "      <td>5106</td>\n",
       "      <td>5132</td>\n",
       "      <td>2869</td>\n",
       "      <td>2894</td>\n",
       "      <td>4</td>\n",
       "      <td>1.475814</td>\n",
       "      <td>2</td>\n",
       "      <td>0.559675</td>\n",
       "      <td>...</td>\n",
       "      <td>132.08530</td>\n",
       "      <td>82.64557</td>\n",
       "      <td>49.43976</td>\n",
       "      <td>29.75715</td>\n",
       "      <td>0.876702</td>\n",
       "      <td>5119</td>\n",
       "      <td>2881</td>\n",
       "      <td>NC</td>\n",
       "      <td>Out</td>\n",
       "      <td>0</td>\n",
       "    </tr>\n",
       "  </tbody>\n",
       "</table>\n",
       "<p>5 rows × 36 columns</p>\n",
       "</div>"
      ],
      "text/plain": [
       "       Image_ID  Object_Id  XMin  XMax  YMin  YMax  Opal_520_Copies  \\\n",
       "0  ExpPHa07_1_a          0  5168  5187  2800  2822                3   \n",
       "1  ExpPHa07_1_a          1  5138  5161  2831  2854                1   \n",
       "2  ExpPHa07_1_a          2  5159  5184  2848  2874                3   \n",
       "3  ExpPHa07_1_a          3  5112  5136  2851  2870                1   \n",
       "4  ExpPHa07_1_a          4  5106  5132  2869  2894                4   \n",
       "\n",
       "   Opal_520_Area_(µm²)  Opal_520_Classification  Opal_520_Cell_Intensity  ...  \\\n",
       "0             0.983876                        1                 0.303604  ...   \n",
       "1             0.491938                        1                 0.134773  ...   \n",
       "2             0.983876                        1                 0.300106  ...   \n",
       "3             0.245969                        1                 0.081311  ...   \n",
       "4             1.475814                        2                 0.559675  ...   \n",
       "\n",
       "   Cell_Area_(µm²)  Cytoplasm_Area_(µm²)  Nucleus_Area_(µm²)  \\\n",
       "0         88.05688              63.95193            24.10496   \n",
       "1        102.32310              75.26649            27.05658   \n",
       "2        124.70630              85.59719            39.10906   \n",
       "3         86.58107              61.00030            25.58077   \n",
       "4        132.08530              82.64557            49.43976   \n",
       "\n",
       "   Nucleus_Perimeter_(µm)  Nucleus_Roundness     X     Y  Classification  \\\n",
       "0                19.83810           0.893369  5177  2811              NC   \n",
       "1                21.82191           0.852763  5149  2842              NC   \n",
       "2                26.78144           0.881903  5171  2861              NC   \n",
       "3                21.82191           0.801114  5124  2860              NC   \n",
       "4                29.75715           0.876702  5119  2881              NC   \n",
       "\n",
       "   mask  Region_ID  \n",
       "0   Out          0  \n",
       "1   Out          0  \n",
       "2   Out          0  \n",
       "3   Out          0  \n",
       "4   Out          0  \n",
       "\n",
       "[5 rows x 36 columns]"
      ]
     },
     "execution_count": 420,
     "metadata": {},
     "output_type": "execute_result"
    }
   ],
   "source": [
    "final.head()"
   ]
  },
  {
   "cell_type": "markdown",
   "metadata": {},
   "source": [
    "### Count of various cell types in a tissue"
   ]
  },
  {
   "cell_type": "code",
   "execution_count": 285,
   "metadata": {},
   "outputs": [
    {
     "name": "stderr",
     "output_type": "stream",
     "text": [
      "/Library/Frameworks/Python.framework/Versions/3.8/lib/python3.8/site-packages/plotnine/utils.py:634: FutureWarning:\n",
      "\n",
      "Sorting because non-concatenation axis is not aligned. A future version\n",
      "of pandas will change to not sort by default.\n",
      "\n",
      "To accept the future behavior, pass 'sort=False'.\n",
      "\n",
      "To retain the current behavior and silence the warning, pass 'sort=True'.\n",
      "\n",
      "\n"
     ]
    },
    {
     "data": {
      "image/png": "[encoded data removed]",
      "text/plain": [
       "<Figure size 640x480 with 3 Axes>"
      ]
     },
     "metadata": {},
     "output_type": "display_data"
    },
    {
     "name": "stdout",
     "output_type": "stream",
     "text": [
      "<ggplot: (322491676)>\n"
     ]
    },
    {
     "name": "stderr",
     "output_type": "stream",
     "text": [
      "/Library/Frameworks/Python.framework/Versions/3.8/lib/python3.8/site-packages/plotnine/ggplot.py:727: PlotnineWarning:\n",
      "\n",
      "Saving 6.4 x 4.8 in image.\n",
      "\n",
      "/Library/Frameworks/Python.framework/Versions/3.8/lib/python3.8/site-packages/plotnine/ggplot.py:730: PlotnineWarning:\n",
      "\n",
      "Filename: /Users/habbasi/Desktop/Cell_Count_various_compartments.png\n",
      "\n"
     ]
    }
   ],
   "source": [
    "# p = (\n",
    "#     ggplot(final)\n",
    "#     + geom_bar(aes(x='Classification', fill = 'Classification',  color= 'Classification'))\n",
    "#     + theme_classic() \n",
    "#     + labs(title= \"Tissue Specific Myleoid Cell-Subtype Count\")\n",
    "#     + geom_text(aes(label='stat(count)'), stat='count',nudge_y=0.125, va='bottom')\n",
    "   \n",
    "    \n",
    "# )\n",
    "\n",
    "\n",
    "# #print(p + facet_wrap('~ mask', nrow=2))\n",
    "    \n",
    "# p\n",
    "    \n",
    "\n",
    "#ggsave(filename='Cell_Count_Entire_tissue.png', plot = p, path = '../Figures/ExpPHa07_1/')\n",
    "\n",
    "\n",
    "p = (ggplot(final, aes(x='Classification', fill = 'Classification'))\n",
    " + geom_bar()\n",
    " + geom_text(\n",
    "     aes(label='stat(count)'),\n",
    "     stat='count',\n",
    "     nudge_x=-0.0,\n",
    "     nudge_y=2,\n",
    "     va='top',\n",
    "     size=8)\n",
    " + xlab('Cell Types')\n",
    "    \n",
    " + geom_text(\n",
    "     aes(label='stat(prop)*100', group=1),\n",
    "     stat='count',\n",
    "     nudge_x=0.15,\n",
    "     nudge_y=0.125,\n",
    "     va='bottom',\n",
    "     size=6,\n",
    "     format_string='({:.1f}%)'\n",
    ")\n",
    "\n",
    " )\n",
    "\n",
    "print(p + facet_wrap('~ mask'))\n",
    "\n",
    "\n",
    "ggsave(filename='Cell_Count_various_compartments.png', plot = p, path = '../Figures/ExpPHa07_1/')\n"
   ]
  },
  {
   "cell_type": "markdown",
   "metadata": {},
   "source": [
    "### Plotting a Pie chart for total count of cell per tissue"
   ]
  },
  {
   "cell_type": "code",
   "execution_count": 307,
   "metadata": {},
   "outputs": [],
   "source": [
    "# for i, p in enumerate(final['mask'].unique()):\n",
    "#     comp = final.loc[final['mask'] == str(p)]\n",
    "#     comp.groupby('Classification').size()\n",
    "#     colors = [\"#8856a7\", \"#de2d26\", \"#addd8e\",'#43a2ca']\n",
    "#     labels = comp['Classification'].unique()\n",
    "#     values = comp['Classification'].value_counts(dropna=False)\n",
    "#     fig = go.Pie(labels=labels, values=values, marker=dict(colors=colors, line=dict(color='#FFF', width=2)),\n",
    "#                domain={'x': [0.0, 1], 'y': [0.0, 1]}, showlegend=False, name='Count of Cell types', textinfo='label+percent')\n",
    "    \n",
    "#     layout = go.Layout(height = 600,\n",
    "#                    width = 1000,\n",
    "#                    autosize = False,\n",
    "#                    title = str(p))\n",
    "    \n",
    "#     fig = go.Figure(data = fig, layout = layout)\n",
    "    \n",
    "#     fig\n",
    "\n",
    "\n",
    "    \n",
    "\n",
    "    \n",
    "\n"
   ]
  },
  {
   "cell_type": "markdown",
   "metadata": {},
   "source": [
    "### Plotting"
   ]
  },
  {
   "cell_type": "code",
   "execution_count": 378,
   "metadata": {},
   "outputs": [
    {
     "name": "stderr",
     "output_type": "stream",
     "text": [
      "/Library/Frameworks/Python.framework/Versions/3.8/lib/python3.8/site-packages/plotnine/ggplot.py:727: PlotnineWarning:\n",
      "\n",
      "Saving 6.4 x 4.8 in image.\n",
      "\n",
      "/Library/Frameworks/Python.framework/Versions/3.8/lib/python3.8/site-packages/plotnine/ggplot.py:730: PlotnineWarning:\n",
      "\n",
      "Filename: ../Figures/ExpPHa07_1/Out.png\n",
      "\n",
      "/Library/Frameworks/Python.framework/Versions/3.8/lib/python3.8/site-packages/plotnine/ggplot.py:727: PlotnineWarning:\n",
      "\n",
      "Saving 6.4 x 4.8 in image.\n",
      "\n",
      "/Library/Frameworks/Python.framework/Versions/3.8/lib/python3.8/site-packages/plotnine/ggplot.py:730: PlotnineWarning:\n",
      "\n",
      "Filename: ../Figures/ExpPHa07_1/vessels.png\n",
      "\n",
      "/Library/Frameworks/Python.framework/Versions/3.8/lib/python3.8/site-packages/plotnine/ggplot.py:727: PlotnineWarning:\n",
      "\n",
      "Saving 6.4 x 4.8 in image.\n",
      "\n",
      "/Library/Frameworks/Python.framework/Versions/3.8/lib/python3.8/site-packages/plotnine/ggplot.py:730: PlotnineWarning:\n",
      "\n",
      "Filename: ../Figures/ExpPHa07_1/gloms.png\n",
      "\n"
     ]
    }
   ],
   "source": [
    "       \n",
    "\n",
    "for i, p in enumerate(tissuelist):\n",
    "    \n",
    "    dt = final.loc[final['mask'] == str(p)]\n",
    "    \n",
    "    g = gg.ggplot(dt, gg.aes(x='X', y='Y',color = \"Classification\")) + \\\n",
    "    gg.geom_point(size = 0.5) + \\\n",
    "    gg.xlab(\"X\") + \\\n",
    "    gg.ylab(\"Y\") #+ \\\n",
    "#     gg.scale_colour_manual(name= \"Cell types\", \n",
    "#                            labels=['CM0', 'CM1', 'CM4','NC'], \n",
    "#                            values = [\"#f03b20\", \"#31a354\", \"#3182bd\",\"#fee6ce\"]) + \\\n",
    "    gg.labs(title= 'Distribution of Cell Types_' +  str(p)) \n",
    "    ggsave(filename=str(p)+'.png', plot = g, path = '../Figures/ExpPHa07_1/')\n",
    "         \n",
    "    \n",
    "        \n",
    "\n",
    "\n",
    "\n"
   ]
  },
  {
   "cell_type": "code",
   "execution_count": 362,
   "metadata": {},
   "outputs": [],
   "source": [
    "# p = (\n",
    "#     ggplot(data)\n",
    "#     + geom_bar(aes(x='Classification', fill = 'Classification',  color= 'Classification'))\n",
    "#     + coord_flip()\n",
    "#     + theme_classic() +\n",
    "#     gg.ggtitle(\"Total Count of Cell types in a tissues \"))\n",
    "# # ggsave(filename='Total_Count_Celltypes.png', plot = p, \n",
    "# #        path = '/Users/habbasi/Desktop/012120_Halo_outputs/Figures')\n",
    "# print(p + facet_wrap('~ Image_Location', nrow=2))"
   ]
  },
  {
   "cell_type": "code",
   "execution_count": 379,
   "metadata": {},
   "outputs": [],
   "source": [
    "# import plotly\n",
    "# import plotly.graph_objs as go\n",
    "# from plotly import tools\n",
    "# import psutil\n",
    "\n",
    "# d = data.loc[data['Image_Location'] == 'ExpPHa07_1_a']\n",
    "# d.groupby('Classification').size()\n",
    "\n",
    "# colors = ['#fc9272','#ffff99', '#7fcdbb', '#beaed4', '#7fc97f']\n",
    "# labels = d['Classification'].unique()\n",
    "# values = d['Classification'].value_counts(dropna=False)\n",
    "\n",
    "# fig = go.Pie(labels=labels, values=values, marker=dict(colors=colors, line=dict(color='#FFF', width=2)),\n",
    "#                domain={'x': [0.0, 1], 'y': [0.0, 1]}, showlegend=False, name='Count of Cell types', textinfo='label+percent')\n",
    "    \n",
    "\n",
    "# layout = go.Layout(height = 600,\n",
    "#                    width = 1000,\n",
    "#                    autosize = False,\n",
    "#                    title = 'ExpPHa07_1_a')\n",
    "\n",
    "\n",
    "\n",
    "\n",
    "# fig = go.Figure(data = fig, layout = layout)\n",
    "# fig\n"
   ]
  },
  {
   "cell_type": "code",
   "execution_count": 455,
   "metadata": {},
   "outputs": [
    {
     "data": {
      "text/plain": [
       "array(['Out', 'vessels', 'gloms'], dtype=object)"
      ]
     },
     "execution_count": 455,
     "metadata": {},
     "output_type": "execute_result"
    }
   ],
   "source": [
    "final['mask'].unique()"
   ]
  },
  {
   "cell_type": "markdown",
   "metadata": {},
   "source": [
    "## Calculating Distances among cells"
   ]
  },
  {
   "cell_type": "code",
   "execution_count": 457,
   "metadata": {},
   "outputs": [
    {
     "data": {
      "text/html": [
       "<div>\n",
       "<style scoped>\n",
       "    .dataframe tbody tr th:only-of-type {\n",
       "        vertical-align: middle;\n",
       "    }\n",
       "\n",
       "    .dataframe tbody tr th {\n",
       "        vertical-align: top;\n",
       "    }\n",
       "\n",
       "    .dataframe thead th {\n",
       "        text-align: right;\n",
       "    }\n",
       "</style>\n",
       "<table border=\"1\" class=\"dataframe\">\n",
       "  <thead>\n",
       "    <tr style=\"text-align: right;\">\n",
       "      <th></th>\n",
       "      <th>objID_1</th>\n",
       "      <th>objID_2</th>\n",
       "      <th>cord_1</th>\n",
       "      <th>cord_2</th>\n",
       "      <th>idx_1</th>\n",
       "      <th>idx_2</th>\n",
       "      <th>mask_1</th>\n",
       "      <th>mask_2</th>\n",
       "      <th>RID_1</th>\n",
       "      <th>RID_2</th>\n",
       "      <th>Distance</th>\n",
       "    </tr>\n",
       "  </thead>\n",
       "  <tbody>\n",
       "    <tr>\n",
       "      <th>0</th>\n",
       "      <td>0</td>\n",
       "      <td>0</td>\n",
       "      <td>(5177, 2811)</td>\n",
       "      <td>(5177, 2811)</td>\n",
       "      <td>NC</td>\n",
       "      <td>NC</td>\n",
       "      <td>Out</td>\n",
       "      <td>Out</td>\n",
       "      <td>0</td>\n",
       "      <td>0</td>\n",
       "      <td>0.000000</td>\n",
       "    </tr>\n",
       "    <tr>\n",
       "      <th>1</th>\n",
       "      <td>0</td>\n",
       "      <td>1</td>\n",
       "      <td>(5177, 2811)</td>\n",
       "      <td>(5149, 2842)</td>\n",
       "      <td>NC</td>\n",
       "      <td>NC</td>\n",
       "      <td>Out</td>\n",
       "      <td>Out</td>\n",
       "      <td>0</td>\n",
       "      <td>0</td>\n",
       "      <td>20.717524</td>\n",
       "    </tr>\n",
       "    <tr>\n",
       "      <th>2</th>\n",
       "      <td>0</td>\n",
       "      <td>2</td>\n",
       "      <td>(5177, 2811)</td>\n",
       "      <td>(5171, 2861)</td>\n",
       "      <td>NC</td>\n",
       "      <td>NC</td>\n",
       "      <td>Out</td>\n",
       "      <td>Out</td>\n",
       "      <td>0</td>\n",
       "      <td>0</td>\n",
       "      <td>24.975533</td>\n",
       "    </tr>\n",
       "    <tr>\n",
       "      <th>3</th>\n",
       "      <td>0</td>\n",
       "      <td>3</td>\n",
       "      <td>(5177, 2811)</td>\n",
       "      <td>(5124, 2860)</td>\n",
       "      <td>NC</td>\n",
       "      <td>NC</td>\n",
       "      <td>Out</td>\n",
       "      <td>Out</td>\n",
       "      <td>0</td>\n",
       "      <td>0</td>\n",
       "      <td>35.798019</td>\n",
       "    </tr>\n",
       "    <tr>\n",
       "      <th>4</th>\n",
       "      <td>0</td>\n",
       "      <td>4</td>\n",
       "      <td>(5177, 2811)</td>\n",
       "      <td>(5119, 2881)</td>\n",
       "      <td>NC</td>\n",
       "      <td>NC</td>\n",
       "      <td>Out</td>\n",
       "      <td>Out</td>\n",
       "      <td>0</td>\n",
       "      <td>0</td>\n",
       "      <td>45.085334</td>\n",
       "    </tr>\n",
       "  </tbody>\n",
       "</table>\n",
       "</div>"
      ],
      "text/plain": [
       "   objID_1  objID_2        cord_1        cord_2 idx_1 idx_2 mask_1 mask_2  \\\n",
       "0        0        0  (5177, 2811)  (5177, 2811)    NC    NC    Out    Out   \n",
       "1        0        1  (5177, 2811)  (5149, 2842)    NC    NC    Out    Out   \n",
       "2        0        2  (5177, 2811)  (5171, 2861)    NC    NC    Out    Out   \n",
       "3        0        3  (5177, 2811)  (5124, 2860)    NC    NC    Out    Out   \n",
       "4        0        4  (5177, 2811)  (5119, 2881)    NC    NC    Out    Out   \n",
       "\n",
       "  RID_1 RID_2   Distance  \n",
       "0     0     0   0.000000  \n",
       "1     0     0  20.717524  \n",
       "2     0     0  24.975533  \n",
       "3     0     0  35.798019  \n",
       "4     0     0  45.085334  "
      ]
     },
     "execution_count": 457,
     "metadata": {},
     "output_type": "execute_result"
    }
   ],
   "source": [
    "import math\n",
    "\n",
    "df = final.loc[(final['mask'] == 'Out') & (final['Region_ID'] == '0')]\n",
    "\n",
    "Classification = []\n",
    "for i in df['Classification']:\n",
    "    for j in df['Classification']:\n",
    "        cl = [i, j]\n",
    "        Classification.append(cl)\n",
    "\n",
    "mask = []\n",
    "for i in df['mask']:\n",
    "    for j in df['mask']:\n",
    "        m = [i, j]\n",
    "        mask.append(m)\n",
    "        \n",
    "Region_ID = []\n",
    "for i in df['Region_ID']:\n",
    "    for j in df['Region_ID']:\n",
    "        r = [i, j]\n",
    "        Region_ID.append(r)\n",
    "\n",
    "\n",
    "X = list(df.X)       \n",
    "Y = list(df.Y)\n",
    "\n",
    "distance = []  \n",
    "for i in range(0, len(X)):\n",
    "    for j in range(0, len(X)):\n",
    "        dist = math.sqrt((X[j] - X[i])**2 + ((Y[j] - Y[i])**2)) * 0.495952562137432\n",
    "        distance.append(dist)\n",
    "\n",
    "       \n",
    "coordinates = []        \n",
    "for i in zip(df.X, df.Y):\n",
    "    for j in zip(df.X, df.Y):\n",
    "        cor = [i, j]\n",
    "        coordinates.append(cor)\n",
    "        \n",
    "obj = []        \n",
    "for i in range(0, len(df.Object_Id)):\n",
    "    for j in range(0, len(df.Object_Id)):\n",
    "        com_obj = [i, j]\n",
    "        obj.append(com_obj)\n",
    "        \n",
    "\n",
    "obj_id = pd.DataFrame(obj, columns=['objID_1', 'objID_2'])\n",
    "dist = pd.DataFrame(distance, columns=['Distance'])\n",
    "meta = pd.DataFrame(Classification, columns=['idx_1', 'idx_2'])\n",
    "cord = pd.DataFrame(coordinates, columns=['cord_1', 'cord_2'])\n",
    "mask = pd.DataFrame(mask, columns=['mask_1', 'mask_2'])\n",
    "RID = pd.DataFrame(Region_ID, columns=['RID_1', 'RID_2'])\n",
    "\n",
    "prf = pd.concat([obj_id, cord, meta,mask, RID, dist], axis =1)\n",
    "\n",
    "prf.head()       \n",
    "        "
   ]
  },
  {
   "cell_type": "code",
   "execution_count": 461,
   "metadata": {},
   "outputs": [
    {
     "data": {
      "text/html": [
       "<div>\n",
       "<style scoped>\n",
       "    .dataframe tbody tr th:only-of-type {\n",
       "        vertical-align: middle;\n",
       "    }\n",
       "\n",
       "    .dataframe tbody tr th {\n",
       "        vertical-align: top;\n",
       "    }\n",
       "\n",
       "    .dataframe thead th {\n",
       "        text-align: right;\n",
       "    }\n",
       "</style>\n",
       "<table border=\"1\" class=\"dataframe\">\n",
       "  <thead>\n",
       "    <tr style=\"text-align: right;\">\n",
       "      <th></th>\n",
       "      <th>objID_1</th>\n",
       "      <th>objID_2</th>\n",
       "      <th>cord_1</th>\n",
       "      <th>cord_2</th>\n",
       "      <th>idx_1</th>\n",
       "      <th>idx_2</th>\n",
       "      <th>mask_1</th>\n",
       "      <th>mask_2</th>\n",
       "      <th>RID_1</th>\n",
       "      <th>RID_2</th>\n",
       "      <th>Distance</th>\n",
       "      <th>Sorted</th>\n",
       "    </tr>\n",
       "  </thead>\n",
       "  <tbody>\n",
       "    <tr>\n",
       "      <th>0</th>\n",
       "      <td>0</td>\n",
       "      <td>0</td>\n",
       "      <td>(5177, 2811)</td>\n",
       "      <td>(5177, 2811)</td>\n",
       "      <td>NC</td>\n",
       "      <td>NC</td>\n",
       "      <td>Out</td>\n",
       "      <td>Out</td>\n",
       "      <td>0</td>\n",
       "      <td>0</td>\n",
       "      <td>0.000000</td>\n",
       "      <td>Others</td>\n",
       "    </tr>\n",
       "    <tr>\n",
       "      <th>1</th>\n",
       "      <td>0</td>\n",
       "      <td>1</td>\n",
       "      <td>(5177, 2811)</td>\n",
       "      <td>(5149, 2842)</td>\n",
       "      <td>NC</td>\n",
       "      <td>NC</td>\n",
       "      <td>Out</td>\n",
       "      <td>Out</td>\n",
       "      <td>0</td>\n",
       "      <td>0</td>\n",
       "      <td>20.717524</td>\n",
       "      <td>Others</td>\n",
       "    </tr>\n",
       "    <tr>\n",
       "      <th>2</th>\n",
       "      <td>0</td>\n",
       "      <td>2</td>\n",
       "      <td>(5177, 2811)</td>\n",
       "      <td>(5171, 2861)</td>\n",
       "      <td>NC</td>\n",
       "      <td>NC</td>\n",
       "      <td>Out</td>\n",
       "      <td>Out</td>\n",
       "      <td>0</td>\n",
       "      <td>0</td>\n",
       "      <td>24.975533</td>\n",
       "      <td>Others</td>\n",
       "    </tr>\n",
       "    <tr>\n",
       "      <th>3</th>\n",
       "      <td>0</td>\n",
       "      <td>3</td>\n",
       "      <td>(5177, 2811)</td>\n",
       "      <td>(5124, 2860)</td>\n",
       "      <td>NC</td>\n",
       "      <td>NC</td>\n",
       "      <td>Out</td>\n",
       "      <td>Out</td>\n",
       "      <td>0</td>\n",
       "      <td>0</td>\n",
       "      <td>35.798019</td>\n",
       "      <td>Others</td>\n",
       "    </tr>\n",
       "    <tr>\n",
       "      <th>4</th>\n",
       "      <td>0</td>\n",
       "      <td>4</td>\n",
       "      <td>(5177, 2811)</td>\n",
       "      <td>(5119, 2881)</td>\n",
       "      <td>NC</td>\n",
       "      <td>NC</td>\n",
       "      <td>Out</td>\n",
       "      <td>Out</td>\n",
       "      <td>0</td>\n",
       "      <td>0</td>\n",
       "      <td>45.085334</td>\n",
       "      <td>Others</td>\n",
       "    </tr>\n",
       "  </tbody>\n",
       "</table>\n",
       "</div>"
      ],
      "text/plain": [
       "   objID_1  objID_2        cord_1        cord_2 idx_1 idx_2 mask_1 mask_2  \\\n",
       "0        0        0  (5177, 2811)  (5177, 2811)    NC    NC    Out    Out   \n",
       "1        0        1  (5177, 2811)  (5149, 2842)    NC    NC    Out    Out   \n",
       "2        0        2  (5177, 2811)  (5171, 2861)    NC    NC    Out    Out   \n",
       "3        0        3  (5177, 2811)  (5124, 2860)    NC    NC    Out    Out   \n",
       "4        0        4  (5177, 2811)  (5119, 2881)    NC    NC    Out    Out   \n",
       "\n",
       "  RID_1 RID_2   Distance  Sorted  \n",
       "0     0     0   0.000000  Others  \n",
       "1     0     0  20.717524  Others  \n",
       "2     0     0  24.975533  Others  \n",
       "3     0     0  35.798019  Others  \n",
       "4     0     0  45.085334  Others  "
      ]
     },
     "execution_count": 461,
     "metadata": {},
     "output_type": "execute_result"
    }
   ],
   "source": [
    "prf.head()"
   ]
  },
  {
   "cell_type": "markdown",
   "metadata": {},
   "source": [
    "### Sorting pairwise subtypes distances"
   ]
  },
  {
   "cell_type": "code",
   "execution_count": null,
   "metadata": {},
   "outputs": [],
   "source": [
    "def sorting_rows(row):\n",
    "    if (row['idx_1'] == 'CM0') & (row['idx_2'] == 'CM1'):\n",
    "        return \"CM0_CM1\"\n",
    "    elif (row['idx_1'] == 'CM0') & (row['idx_2'] == 'CM4'):\n",
    "        return \"CM0_CM4\"\n",
    "    elif (row['idx_1'] == 'CM1') & (row['idx_2'] == 'CM4'):\n",
    "        return \"CM1_CM4\"\n",
    "    else:\n",
    "        return \"Others\"\n",
    "    \n",
    "    \n",
    "prf['Sorted'] = prf.apply(sorting_rows, axis=1)\n",
    "\n"
   ]
  },
  {
   "cell_type": "code",
   "execution_count": 462,
   "metadata": {},
   "outputs": [],
   "source": [
    "\n",
    "prf[['X1', 'Y1']] = pd.DataFrame(prf['cord_1'].tolist(), index=prf.index) \n",
    "prf[['X2', 'Y2']] = pd.DataFrame(prf['cord_2'].tolist(), index=prf.index) "
   ]
  },
  {
   "cell_type": "markdown",
   "metadata": {},
   "source": [
    "### Sorting pairwise subtypes distances"
   ]
  },
  {
   "cell_type": "markdown",
   "metadata": {},
   "source": [
    "### Sorting distances of FIBROBLAST and MYLEOID cells only"
   ]
  },
  {
   "cell_type": "code",
   "execution_count": null,
   "metadata": {},
   "outputs": [],
   "source": [
    "# def sorting_rows(row):\n",
    "#     if (row['idx_1'] == 'FIBROBLAST') & (row['idx_2'] == 'MYELOID'):\n",
    "#         return \"TRUE\"\n",
    "#     else:\n",
    "#         return \"FALSE\"\n",
    "    \n",
    "# final['Sorted'] = final.apply(sorting_rows, axis=1)\n"
   ]
  },
  {
   "cell_type": "markdown",
   "metadata": {},
   "source": [
    "## Histogram of Distances between Fibroblast and Myleoid"
   ]
  },
  {
   "cell_type": "code",
   "execution_count": 431,
   "metadata": {},
   "outputs": [],
   "source": [
    "from adjustText import adjust_text"
   ]
  },
  {
   "cell_type": "code",
   "execution_count": 454,
   "metadata": {},
   "outputs": [
    {
     "name": "stderr",
     "output_type": "stream",
     "text": [
      "/Library/Frameworks/Python.framework/Versions/3.8/lib/python3.8/site-packages/plotnine/stats/stat_bin.py:93: PlotnineWarning:\n",
      "\n",
      "'stat_bin()' using 'bins = 30'. Pick better value with 'binwidth'.\n",
      "\n"
     ]
    },
    {
     "data": {
      "image/png": "[encoded data removed]",
      "text/plain": [
       "<Figure size 640x480 with 1 Axes>"
      ]
     },
     "metadata": {},
     "output_type": "display_data"
    },
    {
     "name": "stdout",
     "output_type": "stream",
     "text": [
      "<ggplot: (558071760)>\n"
     ]
    },
    {
     "name": "stderr",
     "output_type": "stream",
     "text": [
      "/Library/Frameworks/Python.framework/Versions/3.8/lib/python3.8/site-packages/plotnine/stats/stat_bin.py:93: PlotnineWarning:\n",
      "\n",
      "'stat_bin()' using 'bins = 30'. Pick better value with 'binwidth'.\n",
      "\n"
     ]
    },
    {
     "data": {
      "image/png": "[encoded data removed]",
      "text/plain": [
       "<Figure size 640x480 with 1 Axes>"
      ]
     },
     "metadata": {},
     "output_type": "display_data"
    },
    {
     "data": {
      "text/plain": [
       "<ggplot: (579308900)>"
      ]
     },
     "execution_count": 454,
     "metadata": {},
     "output_type": "execute_result"
    }
   ],
   "source": [
    "\n",
    "# avg_dist = f['Distance'].mean()\n",
    "\n",
    "g = ggplot(prf, aes(x='Distance')) + \\\n",
    "geom_histogram(color= '#43a2ca', fill= '#43a2ca', alpha=.2) + \\\n",
    "geom_density() + \\\n",
    "labs(title='Pair-wise Cell subtypes distances [Outside, Region_ID=0]')\n",
    "\n",
    "print(g + facet_wrap('~ Sorted', scales = \"free\"))\n",
    "\n",
    "\n",
    "# g = ggplot(f, aes(x='Distance')) + \\\n",
    "# geom_histogram(aes(y='stat(density)'), color= '#018571', fill= '#80cdc1', alpha=.2) + \\\n",
    "# geom_density() + \\\n",
    "# geom_vline(f, aes(xintercept='avg_dist'), color = '#ca0020') + \\\n",
    "# labs(title='CM0_CM1')\n",
    " \n",
    "\n",
    "\n",
    "\n",
    "# ggsave(filename='Distance_FibroblastvsMyeloid.png', plot = g, \n",
    "#        path = '../Figures/')\n",
    "g"
   ]
  },
  {
   "cell_type": "code",
   "execution_count": null,
   "metadata": {},
   "outputs": [],
   "source": [
    "\n",
    "\n",
    "\n",
    "# g = ggplot(final, aes(x='Distance')) + \\\n",
    "# geom_histogram(aes(y='stat(density)'), color= '#018571', fill= '#80cdc1', alpha=.2) + \\\n",
    "# geom_density() \n",
    "    \n",
    "# print(g + facet_wrap('~ Sorted', nrow=4))\n",
    "\n",
    "    \n",
    "    \n",
    "    \n",
    "    \n",
    "  "
   ]
  },
  {
   "cell_type": "code",
   "execution_count": null,
   "metadata": {},
   "outputs": [],
   "source": [
    "\n",
    "p = gg.ggplot(f) + \\\n",
    "    gg.geom_point(gg.aes(x='X1', y='Y1'), size = 0.5, color = \"#9ecae1\") + \\\n",
    "    gg.xlab(\"X\") + \\\n",
    "    gg.ylab(\"Y\") + \\\n",
    "    gg.ggtitle(\"Distribution of Cell types in a tissue space\") + \\\n",
    "    gg.geom_point(gg.aes(x='X2', y='Y2'), size = 0.5, color = \"#de2d26\")\n",
    "   \n",
    "\n",
    "\n",
    "    \n",
    "\n",
    "#ggsave(filename='cell_classification.png', plot = p, \n",
    "       #path = '/Users/habbasi/Desktop/012120_Halo_outputs/Figures')\n",
    "\n"
   ]
  },
  {
   "cell_type": "code",
   "execution_count": null,
   "metadata": {},
   "outputs": [],
   "source": [
    "distlist = [15, 25, 50, 100, 250, 500, 1000, 2000]\n",
    "\n",
    "for i, p in enumerate(distlist):\n",
    "    \n",
    "    f2 = f.loc[final['Distance'] <= p]\n",
    "    g = gg.ggplot(f2) + \\\n",
    "    gg.geom_point(gg.aes(x='X1', y='Y1'), size = 0.5, color = \"#9ecae1\") + \\\n",
    "    gg.xlab(\"X\") + \\\n",
    "    gg.ylab(\"Y\") + \\\n",
    "    gg.labs(title= 'Distance_' +  str(p) + 'um') + \\\n",
    "    gg.geom_point(gg.aes(x='X2', y='Y2'), size = 0.5, color = \"#de2d26\") \n",
    "    ggsave(filename=str(p)+'.png', plot = g, \n",
    "       path = '../Figures/')\n",
    "    \n",
    "   \n",
    "\n",
    "\n",
    "    \n",
    "\n",
    "\n",
    "\n",
    "\n",
    "\n"
   ]
  },
  {
   "cell_type": "code",
   "execution_count": null,
   "metadata": {},
   "outputs": [],
   "source": [
    "# %reload_ext rpy2.ipython\n",
    "# %R -i new"
   ]
  },
  {
   "cell_type": "code",
   "execution_count": null,
   "metadata": {},
   "outputs": [],
   "source": [
    "# %reload_ext rpy2.ipython\n",
    "# %R -i data\n",
    "\n",
    "# from rpy2.robjects.packages import importr\n",
    "# import rpy2.robjects as ro\n",
    "\n",
    "# stats = importr('stats')\n",
    "# base = importr('base')\n",
    "# tidy = importr('tidyverse')\n",
    "# akima = importr('akima')\n",
    "\n",
    "\n",
    "# data.to_csv('../Data/data.csv')"
   ]
  },
  {
   "cell_type": "code",
   "execution_count": null,
   "metadata": {},
   "outputs": [],
   "source": [
    "# data_anno = \n",
    "\n",
    "# for i, p in enumerate(labels):\n",
    "#         poly = d[d.Annotation == str(p)]\n",
    "#         row, col = polygon(np.array(poly.X), np.array(poly.Y))\n",
    "# #         plt.plot(row, col)\n",
    "# #         plt.show()\n",
    "#         mask = [m for m in zip(row, col)]\n",
    "#         dt = [t for t in zip(data.X, data.Y)]\n",
    "#         d_mask = Intersection(dt,mask)\n",
    "#         dt_mask = pd.DataFrame(d_mask, columns=['X', 'Y'])\n",
    "#         dt_mask['Mask'] = str(p)\n",
    "#         data_anno.append(dt_mask)"
   ]
  }
 ],
 "metadata": {
  "kernelspec": {
   "display_name": "Python 3",
   "language": "python",
   "name": "python3"
  },
  "language_info": {
   "codemirror_mode": {
    "name": "ipython",
    "version": 3
   },
   "file_extension": ".py",
   "mimetype": "text/x-python",
   "name": "python",
   "nbconvert_exporter": "python",
   "pygments_lexer": "ipython3",
   "version": "3.7.6"
  }
 },
 "nbformat": 4,
 "nbformat_minor": 2
}
