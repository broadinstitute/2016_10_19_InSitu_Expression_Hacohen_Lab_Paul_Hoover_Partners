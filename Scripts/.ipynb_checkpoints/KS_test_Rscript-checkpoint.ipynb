{
 "cells": [
  {
   "cell_type": "code",
   "execution_count": 90,
   "metadata": {},
   "outputs": [],
   "source": [
    "library('tidyverse')\n",
    "library('magrittr')\n",
    "library('ggplot2')\n",
    "library('ggpubr')\n",
    "library('ggsignif')\n",
    "library('MASS')"
   ]
  },
  {
   "cell_type": "code",
   "execution_count": 98,
   "metadata": {},
   "outputs": [
    {
     "name": "stderr",
     "output_type": "stream",
     "text": [
      "Warning message:\n",
      "“Missing column names filled in: 'X1' [1]”\n",
      "Parsed with column specification:\n",
      "cols(\n",
      "  .default = col_double(),\n",
      "  Image_ID = \u001b[31mcol_character()\u001b[39m,\n",
      "  Classification = \u001b[31mcol_character()\u001b[39m,\n",
      "  Classification_1 = \u001b[31mcol_character()\u001b[39m,\n",
      "  mask = \u001b[31mcol_character()\u001b[39m,\n",
      "  Myeloid_tissue = \u001b[31mcol_character()\u001b[39m,\n",
      "  mask2 = \u001b[31mcol_character()\u001b[39m,\n",
      "  CM1_meandist = \u001b[33mcol_logical()\u001b[39m,\n",
      "  CM0_meandist = \u001b[33mcol_logical()\u001b[39m\n",
      ")\n",
      "\n",
      "See spec(...) for full column specifications.\n",
      "\n",
      "Warning message:\n",
      "“82 parsing failures.\n",
      " row          col           expected  actual                                               file\n",
      "5906 CM0_meandist 1/0/T/F/TRUE/FALSE 16.3664 '/Users/habbasi/Desktop/tissue_csv/BS11W24423.csv'\n",
      "5907 CM0_meandist 1/0/T/F/TRUE/FALSE 16.3664 '/Users/habbasi/Desktop/tissue_csv/BS11W24423.csv'\n",
      "5908 CM0_meandist 1/0/T/F/TRUE/FALSE 16.3664 '/Users/habbasi/Desktop/tissue_csv/BS11W24423.csv'\n",
      "5909 CM0_meandist 1/0/T/F/TRUE/FALSE 16.3664 '/Users/habbasi/Desktop/tissue_csv/BS11W24423.csv'\n",
      "5910 CM0_meandist 1/0/T/F/TRUE/FALSE 16.3664 '/Users/habbasi/Desktop/tissue_csv/BS11W24423.csv'\n",
      ".... ............ .................. ....... ..................................................\n",
      "See problems(...) for more details.\n",
      "”\n"
     ]
    }
   ],
   "source": [
    "path <- \"/Users/habbasi/Desktop/tissue_csv/BS11W24423.csv\"\n",
    "\n",
    "data <- data.frame(readr::read_csv(path), stringsAsFactors = F)"
   ]
  },
  {
   "cell_type": "code",
   "execution_count": 107,
   "metadata": {},
   "outputs": [
    {
     "data": {
      "text/html": [
       "<table>\n",
       "<caption>A data.frame: 6 × 55</caption>\n",
       "<thead>\n",
       "\t<tr><th></th><th scope=col>X1</th><th scope=col>Region_ID</th><th scope=col>Image_ID</th><th scope=col>Object_Id</th><th scope=col>XMin</th><th scope=col>XMax</th><th scope=col>YMin</th><th scope=col>YMax</th><th scope=col>Opal_520_Copies</th><th scope=col>Opal_520_Area_.µm..</th><th scope=col>⋯</th><th scope=col>Total_Cellcount</th><th scope=col>CM4_prop</th><th scope=col>CM1_prop</th><th scope=col>CM0_prop</th><th scope=col>Average_Distance</th><th scope=col>CM4_meandist</th><th scope=col>CM1_meandist</th><th scope=col>CM0_meandist</th><th scope=col>Density_gloms</th><th scope=col>Density_subtypes</th></tr>\n",
       "\t<tr><th></th><th scope=col>&lt;dbl&gt;</th><th scope=col>&lt;dbl&gt;</th><th scope=col>&lt;chr&gt;</th><th scope=col>&lt;dbl&gt;</th><th scope=col>&lt;dbl&gt;</th><th scope=col>&lt;dbl&gt;</th><th scope=col>&lt;dbl&gt;</th><th scope=col>&lt;dbl&gt;</th><th scope=col>&lt;dbl&gt;</th><th scope=col>&lt;dbl&gt;</th><th scope=col>⋯</th><th scope=col>&lt;dbl&gt;</th><th scope=col>&lt;dbl&gt;</th><th scope=col>&lt;dbl&gt;</th><th scope=col>&lt;dbl&gt;</th><th scope=col>&lt;dbl&gt;</th><th scope=col>&lt;dbl&gt;</th><th scope=col>&lt;lgl&gt;</th><th scope=col>&lt;lgl&gt;</th><th scope=col>&lt;dbl&gt;</th><th scope=col>&lt;dbl&gt;</th></tr>\n",
       "</thead>\n",
       "<tbody>\n",
       "\t<tr><th scope=row>1</th><td> 103</td><td> 2</td><td>BS11W24423</td><td>29258</td><td> 9796</td><td> 9820</td><td> 6828</td><td> 6845</td><td>3</td><td>1.475814</td><td>⋯</td><td>230</td><td>0.0087</td><td>0</td><td>0</td><td>23.3670</td><td> 9.3576</td><td>NA</td><td>NA</td><td>0.0013839560</td><td>0.0011214355</td></tr>\n",
       "\t<tr><th scope=row>2</th><td> 218</td><td> 2</td><td>BS11W24423</td><td>  977</td><td> 9796</td><td> 9820</td><td> 6828</td><td> 6845</td><td>3</td><td>1.475814</td><td>⋯</td><td>230</td><td>0.0087</td><td>0</td><td>0</td><td>23.3670</td><td> 9.3576</td><td>NA</td><td>NA</td><td>0.0013839560</td><td>0.0006980480</td></tr>\n",
       "\t<tr><th scope=row>3</th><td>2242</td><td>13</td><td>BS11W24423</td><td>68594</td><td>25057</td><td>25077</td><td>15346</td><td>15371</td><td>3</td><td>1.967752</td><td>⋯</td><td>421</td><td>0.0048</td><td>0</td><td>0</td><td>29.7836</td><td> 8.1795</td><td>NA</td><td>NA</td><td>0.0007560805</td><td>0.0007596895</td></tr>\n",
       "\t<tr><th scope=row>4</th><td>2395</td><td>13</td><td>BS11W24423</td><td> 2108</td><td>25057</td><td>25077</td><td>15346</td><td>15371</td><td>3</td><td>1.967752</td><td>⋯</td><td>421</td><td>0.0048</td><td>0</td><td>0</td><td>29.7836</td><td> 8.1795</td><td>NA</td><td>NA</td><td>0.0007560805</td><td>0.0007596895</td></tr>\n",
       "\t<tr><th scope=row>5</th><td>2833</td><td>15</td><td>BS11W24423</td><td>62848</td><td>23891</td><td>23911</td><td>13902</td><td>13925</td><td>2</td><td>1.721783</td><td>⋯</td><td>323</td><td>0.0062</td><td>0</td><td>0</td><td>25.2965</td><td>10.9222</td><td>NA</td><td>NA</td><td>0.0009854795</td><td>0.0009916196</td></tr>\n",
       "\t<tr><th scope=row>6</th><td>3019</td><td>15</td><td>BS11W24423</td><td> 1805</td><td>23891</td><td>23911</td><td>13902</td><td>13925</td><td>2</td><td>1.721783</td><td>⋯</td><td>323</td><td>0.0062</td><td>0</td><td>0</td><td>25.2965</td><td>10.9222</td><td>NA</td><td>NA</td><td>0.0009854795</td><td>0.0009916196</td></tr>\n",
       "</tbody>\n",
       "</table>\n"
      ],
      "text/latex": [
       "A data.frame: 6 × 55\n",
       "\\begin{tabular}{r|lllllllllllllllllllll}\n",
       "  & X1 & Region\\_ID & Image\\_ID & Object\\_Id & XMin & XMax & YMin & YMax & Opal\\_520\\_Copies & Opal\\_520\\_Area\\_.µm.. & ⋯ & Total\\_Cellcount & CM4\\_prop & CM1\\_prop & CM0\\_prop & Average\\_Distance & CM4\\_meandist & CM1\\_meandist & CM0\\_meandist & Density\\_gloms & Density\\_subtypes\\\\\n",
       "  & <dbl> & <dbl> & <chr> & <dbl> & <dbl> & <dbl> & <dbl> & <dbl> & <dbl> & <dbl> & ⋯ & <dbl> & <dbl> & <dbl> & <dbl> & <dbl> & <dbl> & <lgl> & <lgl> & <dbl> & <dbl>\\\\\n",
       "\\hline\n",
       "\t1 &  103 &  2 & BS11W24423 & 29258 &  9796 &  9820 &  6828 &  6845 & 3 & 1.475814 & ⋯ & 230 & 0.0087 & 0 & 0 & 23.3670 &  9.3576 & NA & NA & 0.0013839560 & 0.0011214355\\\\\n",
       "\t2 &  218 &  2 & BS11W24423 &   977 &  9796 &  9820 &  6828 &  6845 & 3 & 1.475814 & ⋯ & 230 & 0.0087 & 0 & 0 & 23.3670 &  9.3576 & NA & NA & 0.0013839560 & 0.0006980480\\\\\n",
       "\t3 & 2242 & 13 & BS11W24423 & 68594 & 25057 & 25077 & 15346 & 15371 & 3 & 1.967752 & ⋯ & 421 & 0.0048 & 0 & 0 & 29.7836 &  8.1795 & NA & NA & 0.0007560805 & 0.0007596895\\\\\n",
       "\t4 & 2395 & 13 & BS11W24423 &  2108 & 25057 & 25077 & 15346 & 15371 & 3 & 1.967752 & ⋯ & 421 & 0.0048 & 0 & 0 & 29.7836 &  8.1795 & NA & NA & 0.0007560805 & 0.0007596895\\\\\n",
       "\t5 & 2833 & 15 & BS11W24423 & 62848 & 23891 & 23911 & 13902 & 13925 & 2 & 1.721783 & ⋯ & 323 & 0.0062 & 0 & 0 & 25.2965 & 10.9222 & NA & NA & 0.0009854795 & 0.0009916196\\\\\n",
       "\t6 & 3019 & 15 & BS11W24423 &  1805 & 23891 & 23911 & 13902 & 13925 & 2 & 1.721783 & ⋯ & 323 & 0.0062 & 0 & 0 & 25.2965 & 10.9222 & NA & NA & 0.0009854795 & 0.0009916196\\\\\n",
       "\\end{tabular}\n"
      ],
      "text/markdown": [
       "\n",
       "A data.frame: 6 × 55\n",
       "\n",
       "| <!--/--> | X1 &lt;dbl&gt; | Region_ID &lt;dbl&gt; | Image_ID &lt;chr&gt; | Object_Id &lt;dbl&gt; | XMin &lt;dbl&gt; | XMax &lt;dbl&gt; | YMin &lt;dbl&gt; | YMax &lt;dbl&gt; | Opal_520_Copies &lt;dbl&gt; | Opal_520_Area_.µm.. &lt;dbl&gt; | ⋯ ⋯ | Total_Cellcount &lt;dbl&gt; | CM4_prop &lt;dbl&gt; | CM1_prop &lt;dbl&gt; | CM0_prop &lt;dbl&gt; | Average_Distance &lt;dbl&gt; | CM4_meandist &lt;dbl&gt; | CM1_meandist &lt;lgl&gt; | CM0_meandist &lt;lgl&gt; | Density_gloms &lt;dbl&gt; | Density_subtypes &lt;dbl&gt; |\n",
       "|---|---|---|---|---|---|---|---|---|---|---|---|---|---|---|---|---|---|---|---|---|---|\n",
       "| 1 |  103 |  2 | BS11W24423 | 29258 |  9796 |  9820 |  6828 |  6845 | 3 | 1.475814 | ⋯ | 230 | 0.0087 | 0 | 0 | 23.3670 |  9.3576 | NA | NA | 0.0013839560 | 0.0011214355 |\n",
       "| 2 |  218 |  2 | BS11W24423 |   977 |  9796 |  9820 |  6828 |  6845 | 3 | 1.475814 | ⋯ | 230 | 0.0087 | 0 | 0 | 23.3670 |  9.3576 | NA | NA | 0.0013839560 | 0.0006980480 |\n",
       "| 3 | 2242 | 13 | BS11W24423 | 68594 | 25057 | 25077 | 15346 | 15371 | 3 | 1.967752 | ⋯ | 421 | 0.0048 | 0 | 0 | 29.7836 |  8.1795 | NA | NA | 0.0007560805 | 0.0007596895 |\n",
       "| 4 | 2395 | 13 | BS11W24423 |  2108 | 25057 | 25077 | 15346 | 15371 | 3 | 1.967752 | ⋯ | 421 | 0.0048 | 0 | 0 | 29.7836 |  8.1795 | NA | NA | 0.0007560805 | 0.0007596895 |\n",
       "| 5 | 2833 | 15 | BS11W24423 | 62848 | 23891 | 23911 | 13902 | 13925 | 2 | 1.721783 | ⋯ | 323 | 0.0062 | 0 | 0 | 25.2965 | 10.9222 | NA | NA | 0.0009854795 | 0.0009916196 |\n",
       "| 6 | 3019 | 15 | BS11W24423 |  1805 | 23891 | 23911 | 13902 | 13925 | 2 | 1.721783 | ⋯ | 323 | 0.0062 | 0 | 0 | 25.2965 | 10.9222 | NA | NA | 0.0009854795 | 0.0009916196 |\n",
       "\n"
      ],
      "text/plain": [
       "  X1   Region_ID Image_ID   Object_Id XMin  XMax  YMin  YMax  Opal_520_Copies\n",
       "1  103  2        BS11W24423 29258      9796  9820  6828  6845 3              \n",
       "2  218  2        BS11W24423   977      9796  9820  6828  6845 3              \n",
       "3 2242 13        BS11W24423 68594     25057 25077 15346 15371 3              \n",
       "4 2395 13        BS11W24423  2108     25057 25077 15346 15371 3              \n",
       "5 2833 15        BS11W24423 62848     23891 23911 13902 13925 2              \n",
       "6 3019 15        BS11W24423  1805     23891 23911 13902 13925 2              \n",
       "  Opal_520_Area_.µm.. ⋯ Total_Cellcount CM4_prop CM1_prop CM0_prop\n",
       "1 1.475814            ⋯ 230             0.0087   0        0       \n",
       "2 1.475814            ⋯ 230             0.0087   0        0       \n",
       "3 1.967752            ⋯ 421             0.0048   0        0       \n",
       "4 1.967752            ⋯ 421             0.0048   0        0       \n",
       "5 1.721783            ⋯ 323             0.0062   0        0       \n",
       "6 1.721783            ⋯ 323             0.0062   0        0       \n",
       "  Average_Distance CM4_meandist CM1_meandist CM0_meandist Density_gloms\n",
       "1 23.3670           9.3576      NA           NA           0.0013839560 \n",
       "2 23.3670           9.3576      NA           NA           0.0013839560 \n",
       "3 29.7836           8.1795      NA           NA           0.0007560805 \n",
       "4 29.7836           8.1795      NA           NA           0.0007560805 \n",
       "5 25.2965          10.9222      NA           NA           0.0009854795 \n",
       "6 25.2965          10.9222      NA           NA           0.0009854795 \n",
       "  Density_subtypes\n",
       "1 0.0011214355    \n",
       "2 0.0006980480    \n",
       "3 0.0007596895    \n",
       "4 0.0007596895    \n",
       "5 0.0009916196    \n",
       "6 0.0009916196    "
      ]
     },
     "metadata": {},
     "output_type": "display_data"
    }
   ],
   "source": [
    "prf1 <- data %>% filter(Classification_1 != \"others\") %>%\n",
    "\n",
    "head(prf1)"
   ]
  },
  {
   "cell_type": "code",
   "execution_count": 101,
   "metadata": {},
   "outputs": [
    {
     "ename": "ERROR",
     "evalue": "Error in select(., Distance): unused argument (Distance)\n",
     "output_type": "error",
     "traceback": [
      "Error in select(., Distance): unused argument (Distance)\nTraceback:\n",
      "1. data %>% filter(Classification_1 == \"CM4\") %>% select(Distance) %>% \n .     as.matrix() %>% as.vector()",
      "2. withVisible(eval(quote(`_fseq`(`_lhs`)), env, env))",
      "3. eval(quote(`_fseq`(`_lhs`)), env, env)",
      "4. eval(quote(`_fseq`(`_lhs`)), env, env)",
      "5. `_fseq`(`_lhs`)",
      "6. freduce(value, `_function_list`)",
      "7. function_list[[i]](value)"
     ]
    }
   ],
   "source": [
    "\n",
    "prf <- data %>% filter(Classification_1 != \"others\") \n",
    "cm4 <- data %>% filter(Classification_1 == \"CM4\") %>% select(Distance) %>% as.matrix() %>% as.vector()\n",
    "cm1 <- data %>% filter(Classification_1 == \"CM1\") %>% select(Distance) %>% as.matrix() %>% as.vector()\n",
    "cm0 <- data %>% filter(Classification_1 == \"CM0\") %>% select(Distance) %>% as.matrix() %>% as.vector()\n",
    "\n",
    "ks.test(cm0, cm1)\n"
   ]
  },
  {
   "cell_type": "code",
   "execution_count": 71,
   "metadata": {},
   "outputs": [
    {
     "name": "stderr",
     "output_type": "stream",
     "text": [
      "Warning message in ks.test(cm0, cm4):\n",
      "“p-value will be approximate in the presence of ties”\n"
     ]
    },
    {
     "data": {
      "text/plain": [
       "\n",
       "\tTwo-sample Kolmogorov-Smirnov test\n",
       "\n",
       "data:  cm0 and cm4\n",
       "D = 0.22915, p-value = 0.0001585\n",
       "alternative hypothesis: two-sided\n"
      ]
     },
     "metadata": {},
     "output_type": "display_data"
    }
   ],
   "source": [
    " ks.test(cm0, cm4)\n"
   ]
  },
  {
   "cell_type": "code",
   "execution_count": 9,
   "metadata": {},
   "outputs": [
    {
     "name": "stderr",
     "output_type": "stream",
     "text": [
      "Warning message in ks.test(cm1, cm4):\n",
      "“p-value will be approximate in the presence of ties”\n"
     ]
    },
    {
     "data": {
      "text/plain": [
       "\n",
       "\tTwo-sample Kolmogorov-Smirnov test\n",
       "\n",
       "data:  cm1 and cm4\n",
       "D = 0.40634, p-value = 7.472e-14\n",
       "alternative hypothesis: two-sided\n"
      ]
     },
     "metadata": {},
     "output_type": "display_data"
    }
   ],
   "source": [
    "ks.test(cm1, cm4)"
   ]
  },
  {
   "cell_type": "code",
   "execution_count": 114,
   "metadata": {},
   "outputs": [
    {
     "name": "stderr",
     "output_type": "stream",
     "text": [
      "Saving 7 x 7 in image\n",
      "\n"
     ]
    }
   ],
   "source": [
    "library(repr)\n",
    "options(repr.plot.width=10, repr.plot.height=8)\n",
    "\n",
    "p <- ggplot(prf1, aes(x=Classification_1, y=Distance, fill = Classification_1)) + \n",
    "  geom_boxplot(outlier.colour=\"red\", outlier.shape=4, alpha=.5,\n",
    "                outlier.size=4) +\n",
    "  labs(x=\"Myleoid Cell Subtypes\", y = \"Absolute Distances \\n  from Glomerulus Edge (um)\") + \n",
    "  theme(axis.text=element_text(size=14),\n",
    "        axis.title=element_text(size=14,face=\"bold\")) + \n",
    "  scale_colour_manual(values = c(\"CM4\" == \"#cb181d\", \"CM1\" == \"#41b6c4\",\"CM0\" == \"#fed976\")) +\n",
    "  guides(fill=guide_legend(title='Subtypes')) + \n",
    "  theme(legend.title = element_text(color = \"blue\", size = 12),plot.title = element_text(color = \"blue\", size = 22, hjust=0.5),\n",
    "  legend.text = element_text(color = \"black\", size = 14)\n",
    "  ) \n",
    "\n",
    "\n",
    "j <- p+ geom_jitter(shape=16, position=position_jitter(0.2))\n",
    "\n",
    "q <- j +  ggtitle(\"Patient ID: BS11W24423\")\n",
    "\n",
    "\n",
    "\n",
    "ggsave(filename= 'BS11W24423_Absolute_Distance_allGlomeruli_boxplot.png', plot = q, path = \"/Users/habbasi/Desktop/\")\n",
    "\n"
   ]
  },
  {
   "cell_type": "code",
   "execution_count": null,
   "metadata": {},
   "outputs": [],
   "source": []
  }
 ],
 "metadata": {
  "kernelspec": {
   "display_name": "R",
   "language": "R",
   "name": "ir"
  },
  "language_info": {
   "codemirror_mode": "r",
   "file_extension": ".r",
   "mimetype": "text/x-r-source",
   "name": "R",
   "pygments_lexer": "r",
   "version": "3.6.1"
  }
 },
 "nbformat": 4,
 "nbformat_minor": 2
}
