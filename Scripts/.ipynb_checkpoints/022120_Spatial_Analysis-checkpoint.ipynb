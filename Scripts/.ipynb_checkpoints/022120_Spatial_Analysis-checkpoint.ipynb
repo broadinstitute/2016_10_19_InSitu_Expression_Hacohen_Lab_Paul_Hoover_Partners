{
 "cells": [
  {
   "cell_type": "code",
   "execution_count": 252,
   "metadata": {},
   "outputs": [],
   "source": [
    "\n",
    "import os\n",
    "import pandas as pd\n",
    "import numpy as np\n",
    "import glob\n",
    "import plotnine as gg\n",
    "import re\n",
    "from plotnine import *\n",
    "import fnmatch\n",
    "import matplotlib.pyplot as plt\n",
    "import seaborn as sns\n",
    "\n"
   ]
  },
  {
   "cell_type": "markdown",
   "metadata": {},
   "source": [
    "## Paths of  Data and Annotations"
   ]
  },
  {
   "cell_type": "code",
   "execution_count": 9,
   "metadata": {},
   "outputs": [],
   "source": [
    "\n",
    "def fileslist():\n",
    "    base = '../data/ExpPHa07_1/'\n",
    "    datacsvs = os.listdir('../data/ExpPHa07_1/')\n",
    "    flist = []\n",
    "    for f in datacsvs:\n",
    "        if f.endswith('csv'):\n",
    "            fpath = os.path.join(base, f)\n",
    "            flist.append(fpath)\n",
    "    return flist\n",
    "\n",
    "def annolist():\n",
    "    base = '../data/ExpPHa07_1/annotations/'\n",
    "    annocsvs = os.listdir('../data/ExpPHa07_1/annotations/')\n",
    "    annolist = []\n",
    "    for i in annocsvs:\n",
    "        if not \"job\" in i:\n",
    "            annopath = os.path.join(base, i)\n",
    "            annolist.append(annopath)\n",
    "    return annolist\n",
    "\n",
    "flist = fileslist()\n",
    "annolist = annolist()\n",
    "\n",
    "fpath = flist[3]\n",
    "annopath = annolist[2]\n"
   ]
  },
  {
   "cell_type": "markdown",
   "metadata": {},
   "source": [
    "## Loading data"
   ]
  },
  {
   "cell_type": "markdown",
   "metadata": {},
   "source": [
    "### Tissue data csv"
   ]
  },
  {
   "cell_type": "code",
   "execution_count": 10,
   "metadata": {},
   "outputs": [
    {
     "data": {
      "text/html": [
       "<div>\n",
       "<style scoped>\n",
       "    .dataframe tbody tr th:only-of-type {\n",
       "        vertical-align: middle;\n",
       "    }\n",
       "\n",
       "    .dataframe tbody tr th {\n",
       "        vertical-align: top;\n",
       "    }\n",
       "\n",
       "    .dataframe thead th {\n",
       "        text-align: right;\n",
       "    }\n",
       "</style>\n",
       "<table border=\"1\" class=\"dataframe\">\n",
       "  <thead>\n",
       "    <tr style=\"text-align: right;\">\n",
       "      <th></th>\n",
       "      <th>Image_ID</th>\n",
       "      <th>Object_Id</th>\n",
       "      <th>XMin</th>\n",
       "      <th>XMax</th>\n",
       "      <th>YMin</th>\n",
       "      <th>YMax</th>\n",
       "      <th>Opal_520_Copies</th>\n",
       "      <th>Opal_520_Area_(µm²)</th>\n",
       "      <th>Opal_520_Classification</th>\n",
       "      <th>Opal_520_Cell_Intensity</th>\n",
       "      <th>...</th>\n",
       "      <th>Opal_690_Copies</th>\n",
       "      <th>Opal_690_Area_(µm²)</th>\n",
       "      <th>Opal_690_Classification</th>\n",
       "      <th>Opal_690_Cell_Intensity</th>\n",
       "      <th>Opal_690_Avg_Intensity</th>\n",
       "      <th>Cell_Area_(µm²)</th>\n",
       "      <th>Cytoplasm_Area_(µm²)</th>\n",
       "      <th>Nucleus_Area_(µm²)</th>\n",
       "      <th>Nucleus_Perimeter_(µm)</th>\n",
       "      <th>Nucleus_Roundness</th>\n",
       "    </tr>\n",
       "  </thead>\n",
       "  <tbody>\n",
       "    <tr>\n",
       "      <th>0</th>\n",
       "      <td>ExpPHa07_1_a</td>\n",
       "      <td>0</td>\n",
       "      <td>5168</td>\n",
       "      <td>5187</td>\n",
       "      <td>2800</td>\n",
       "      <td>2822</td>\n",
       "      <td>3</td>\n",
       "      <td>0.983876</td>\n",
       "      <td>1</td>\n",
       "      <td>0.303604</td>\n",
       "      <td>...</td>\n",
       "      <td>9</td>\n",
       "      <td>7.379068</td>\n",
       "      <td>2</td>\n",
       "      <td>0.770519</td>\n",
       "      <td>0.104420</td>\n",
       "      <td>88.05688</td>\n",
       "      <td>63.95193</td>\n",
       "      <td>24.10496</td>\n",
       "      <td>19.83810</td>\n",
       "      <td>0.893369</td>\n",
       "    </tr>\n",
       "    <tr>\n",
       "      <th>1</th>\n",
       "      <td>ExpPHa07_1_a</td>\n",
       "      <td>1</td>\n",
       "      <td>5138</td>\n",
       "      <td>5161</td>\n",
       "      <td>2831</td>\n",
       "      <td>2854</td>\n",
       "      <td>1</td>\n",
       "      <td>0.491938</td>\n",
       "      <td>1</td>\n",
       "      <td>0.134773</td>\n",
       "      <td>...</td>\n",
       "      <td>4</td>\n",
       "      <td>1.229845</td>\n",
       "      <td>2</td>\n",
       "      <td>0.119978</td>\n",
       "      <td>0.097555</td>\n",
       "      <td>102.32310</td>\n",
       "      <td>75.26649</td>\n",
       "      <td>27.05658</td>\n",
       "      <td>21.82191</td>\n",
       "      <td>0.852763</td>\n",
       "    </tr>\n",
       "    <tr>\n",
       "      <th>2</th>\n",
       "      <td>ExpPHa07_1_a</td>\n",
       "      <td>2</td>\n",
       "      <td>5159</td>\n",
       "      <td>5184</td>\n",
       "      <td>2848</td>\n",
       "      <td>2874</td>\n",
       "      <td>3</td>\n",
       "      <td>0.983876</td>\n",
       "      <td>1</td>\n",
       "      <td>0.300106</td>\n",
       "      <td>...</td>\n",
       "      <td>5</td>\n",
       "      <td>3.935503</td>\n",
       "      <td>2</td>\n",
       "      <td>0.534836</td>\n",
       "      <td>0.135900</td>\n",
       "      <td>124.70630</td>\n",
       "      <td>85.59719</td>\n",
       "      <td>39.10906</td>\n",
       "      <td>26.78144</td>\n",
       "      <td>0.881903</td>\n",
       "    </tr>\n",
       "    <tr>\n",
       "      <th>3</th>\n",
       "      <td>ExpPHa07_1_a</td>\n",
       "      <td>3</td>\n",
       "      <td>5112</td>\n",
       "      <td>5136</td>\n",
       "      <td>2851</td>\n",
       "      <td>2870</td>\n",
       "      <td>1</td>\n",
       "      <td>0.245969</td>\n",
       "      <td>1</td>\n",
       "      <td>0.081311</td>\n",
       "      <td>...</td>\n",
       "      <td>2</td>\n",
       "      <td>1.721783</td>\n",
       "      <td>1</td>\n",
       "      <td>0.176335</td>\n",
       "      <td>0.102414</td>\n",
       "      <td>86.58107</td>\n",
       "      <td>61.00030</td>\n",
       "      <td>25.58077</td>\n",
       "      <td>21.82191</td>\n",
       "      <td>0.801114</td>\n",
       "    </tr>\n",
       "    <tr>\n",
       "      <th>4</th>\n",
       "      <td>ExpPHa07_1_a</td>\n",
       "      <td>4</td>\n",
       "      <td>5106</td>\n",
       "      <td>5132</td>\n",
       "      <td>2869</td>\n",
       "      <td>2894</td>\n",
       "      <td>4</td>\n",
       "      <td>1.475814</td>\n",
       "      <td>2</td>\n",
       "      <td>0.559675</td>\n",
       "      <td>...</td>\n",
       "      <td>10</td>\n",
       "      <td>7.871006</td>\n",
       "      <td>3</td>\n",
       "      <td>1.137887</td>\n",
       "      <td>0.144567</td>\n",
       "      <td>132.08530</td>\n",
       "      <td>82.64557</td>\n",
       "      <td>49.43976</td>\n",
       "      <td>29.75715</td>\n",
       "      <td>0.876702</td>\n",
       "    </tr>\n",
       "  </tbody>\n",
       "</table>\n",
       "<p>5 rows × 31 columns</p>\n",
       "</div>"
      ],
      "text/plain": [
       "       Image_ID  Object_Id  XMin  XMax  YMin  YMax  Opal_520_Copies  \\\n",
       "0  ExpPHa07_1_a          0  5168  5187  2800  2822                3   \n",
       "1  ExpPHa07_1_a          1  5138  5161  2831  2854                1   \n",
       "2  ExpPHa07_1_a          2  5159  5184  2848  2874                3   \n",
       "3  ExpPHa07_1_a          3  5112  5136  2851  2870                1   \n",
       "4  ExpPHa07_1_a          4  5106  5132  2869  2894                4   \n",
       "\n",
       "   Opal_520_Area_(µm²)  Opal_520_Classification  Opal_520_Cell_Intensity  ...  \\\n",
       "0             0.983876                        1                 0.303604  ...   \n",
       "1             0.491938                        1                 0.134773  ...   \n",
       "2             0.983876                        1                 0.300106  ...   \n",
       "3             0.245969                        1                 0.081311  ...   \n",
       "4             1.475814                        2                 0.559675  ...   \n",
       "\n",
       "   Opal_690_Copies  Opal_690_Area_(µm²)  Opal_690_Classification  \\\n",
       "0                9             7.379068                        2   \n",
       "1                4             1.229845                        2   \n",
       "2                5             3.935503                        2   \n",
       "3                2             1.721783                        1   \n",
       "4               10             7.871006                        3   \n",
       "\n",
       "   Opal_690_Cell_Intensity  Opal_690_Avg_Intensity  Cell_Area_(µm²)  \\\n",
       "0                 0.770519                0.104420         88.05688   \n",
       "1                 0.119978                0.097555        102.32310   \n",
       "2                 0.534836                0.135900        124.70630   \n",
       "3                 0.176335                0.102414         86.58107   \n",
       "4                 1.137887                0.144567        132.08530   \n",
       "\n",
       "   Cytoplasm_Area_(µm²)  Nucleus_Area_(µm²)  Nucleus_Perimeter_(µm)  \\\n",
       "0              63.95193            24.10496                19.83810   \n",
       "1              75.26649            27.05658                21.82191   \n",
       "2              85.59719            39.10906                26.78144   \n",
       "3              61.00030            25.58077                21.82191   \n",
       "4              82.64557            49.43976                29.75715   \n",
       "\n",
       "   Nucleus_Roundness  \n",
       "0           0.893369  \n",
       "1           0.852763  \n",
       "2           0.881903  \n",
       "3           0.801114  \n",
       "4           0.876702  \n",
       "\n",
       "[5 rows x 31 columns]"
      ]
     },
     "execution_count": 10,
     "metadata": {},
     "output_type": "execute_result"
    }
   ],
   "source": [
    "data = pd.read_csv(fpath)\n",
    "\n",
    "# Renaming of column names\n",
    "\n",
    "data.columns = [col.replace(' ', '_') for col in data.columns]\n",
    "\n",
    "## Extracting tissue image names from filenames\n",
    "\n",
    "data['Image_Location'] = pd.DataFrame(data.loc[:, 'Image_Location']\n",
    "                                      .str.split('\\\\')\n",
    "                                      .str.get(9)\n",
    "                                      .str.replace('.tif', ''))\n",
    "\n",
    "data = (data\n",
    "        .rename(columns={'Image_Location': 'Image_ID'})\n",
    "        .drop(columns = ['Analysis_Region', 'Analysis_Inputs'])  \n",
    "       )\n",
    "\n",
    "data.head()"
   ]
  },
  {
   "cell_type": "markdown",
   "metadata": {},
   "source": [
    "### Annotations csv file"
   ]
  },
  {
   "cell_type": "code",
   "execution_count": 11,
   "metadata": {},
   "outputs": [],
   "source": [
    "\n",
    "anno = pd.read_csv(annopath, skiprows=[0])\n",
    "\n",
    "skipcolumns = [0,2,4,5,6]\n",
    "\n",
    "d = (anno.drop(anno.columns[skipcolumns], axis=1)\n",
    "     .rename(columns={'/Annotation/@Name': 'Annotation',\n",
    "                      '/Annotation/#id': 'Id',\n",
    "                      '/Annotation/Regions/Region/#id': 'Region_ID',\n",
    "                      '/Annotation/Regions/Region/Vertices/V/@X': 'X',\n",
    "                      '/Annotation/Regions/Region/Vertices/V/@Y': 'Y'})\n",
    "    )\n",
    "\n",
    "\n",
    "\n",
    "d['Image_ID'] = data.Image_ID[0]\n",
    "\n",
    "d = d[['Image_ID','Region_ID','Annotation', 'X', 'Y']]\n"
   ]
  },
  {
   "cell_type": "markdown",
   "metadata": {},
   "source": [
    "### Making a directory for figures for each data"
   ]
  },
  {
   "cell_type": "code",
   "execution_count": 270,
   "metadata": {},
   "outputs": [
    {
     "data": {
      "text/plain": [
       "'../Figures/ExpPHa07_1_a/'"
      ]
     },
     "execution_count": 270,
     "metadata": {},
     "output_type": "execute_result"
    }
   ],
   "source": [
    "\n",
    "figpath = os.path.join(\"../Figures/\" + data.Image_ID[0] + \"/\")\n",
    "\n",
    "def makedirectory():\n",
    "    if not os.path.exists(figpath):\n",
    "        print(\"path doesnot exist\")\n",
    "        figout = os.makedirs(figpath)\n",
    "        return figout\n",
    "figout = makedirectory()\n"
   ]
  },
  {
   "cell_type": "markdown",
   "metadata": {},
   "source": [
    "### Function to Calculate Centroids of the rectangular bounding boxes"
   ]
  },
  {
   "cell_type": "markdown",
   "metadata": {},
   "source": [
    "### Note:\n",
    "### 1st step: calculating center of detected objects by calculating center of bounding boxes"
   ]
  },
  {
   "cell_type": "code",
   "execution_count": 13,
   "metadata": {},
   "outputs": [],
   "source": [
    "# Use the height and width to calculate the area\n",
    "def X_centroid(row):\n",
    "    X = int(row['XMin'] + row['XMax'])/2\n",
    "\n",
    "    return int(X)\n",
    "\n",
    "def Y_centroid(row):\n",
    "    Y = int(row['YMin'] + row['YMax'])/2\n",
    "    return int(Y)\n",
    "\n",
    "data['X'] = data.apply(X_centroid, axis=1)\n",
    "data['Y'] = data.apply(Y_centroid, axis=1)\n"
   ]
  },
  {
   "cell_type": "markdown",
   "metadata": {},
   "source": [
    "### Function of Cell Classification"
   ]
  },
  {
   "cell_type": "code",
   "execution_count": 14,
   "metadata": {},
   "outputs": [],
   "source": [
    "def classification(row):\n",
    "    \n",
    "    if (row['Opal_520_Classification'] > 2) & (row['Opal_570_Classification'] == 0) & (row['Opal_620_Classification'] == 0) & (row['Opal_690_Classification'] == 0):\n",
    "        return 'all'\n",
    "    elif (row['Opal_520_Classification'] > 2) & (row['Opal_570_Classification'] < 2) & (row['Opal_620_Classification'] > 2) & (row['Opal_690_Classification'] < 2):\n",
    "        return 'CM0'\n",
    "    elif (row['Opal_520_Classification'] > 2) & (row['Opal_570_Classification'] < 2) & (row['Opal_620_Classification'] > 2) & (row['Opal_690_Classification'] > 2):\n",
    "        return 'CM1'\n",
    "    elif (row['Opal_520_Classification'] > 2) & (row['Opal_570_Classification'] > 2) & (row['Opal_620_Classification'] < 2) & (row['Opal_690_Classification'] < 2):\n",
    "        return 'CM4'\n",
    "    elif (row['Opal_520_Classification'] > 2) & (row['Opal_570_Classification'] < 2) & (row['Opal_620_Classification'] < 2) & (row['Opal_690_Classification'] < 2):\n",
    "        return 'others'\n",
    "    else:\n",
    "        return 'NC'\n",
    "    \n",
    "    "
   ]
  },
  {
   "cell_type": "markdown",
   "metadata": {},
   "source": [
    "### Applying Classification Function"
   ]
  },
  {
   "cell_type": "code",
   "execution_count": 15,
   "metadata": {},
   "outputs": [
    {
     "data": {
      "text/plain": [
       "array(['NC', 'CM4', 'all', 'others', 'CM1'], dtype=object)"
      ]
     },
     "execution_count": 15,
     "metadata": {},
     "output_type": "execute_result"
    }
   ],
   "source": [
    "data['Classification'] = data.apply(classification, axis=1)\n",
    "\n",
    "data['Classification'].unique()\n",
    "#data.to_csv('/Users/habbasi/Desktop/test.csv')"
   ]
  },
  {
   "cell_type": "markdown",
   "metadata": {},
   "source": [
    "## Creating Mask "
   ]
  },
  {
   "cell_type": "markdown",
   "metadata": {},
   "source": [
    "### Note:\n",
    "1) Annotated regions are filled using polygon function(Skimage)\n",
    "\n",
    "2) Cell coordinates were matched with masked region and separate dataframe is generated"
   ]
  },
  {
   "cell_type": "code",
   "execution_count": 16,
   "metadata": {},
   "outputs": [],
   "source": [
    "from skimage.draw import polygon\n",
    "\n",
    "\n",
    "def Intersection(data, mask): \n",
    "    return set(dt).intersection(set(mask))\n",
    "\n",
    "fmask = []\n",
    "\n",
    "## Glomerulus Mask\n",
    "\n",
    "glom_id = d.loc[d['Annotation'] == \"gloms\"]['Region_ID'].unique().tolist()\n",
    "glom_label = ['gloms'] * len(glom_id)\n",
    "\n",
    "gf = []\n",
    "for p in glom_id:\n",
    "    poly = d[(d.Annotation == 'gloms') & (d.Region_ID == p)]\n",
    "    r, c = polygon(np.array(poly.X),\n",
    "                         np.array(poly.Y))\n",
    "    mask = [m for m in zip(r, c)]\n",
    "    dt = [t for t in zip(data.X, data.Y)]\n",
    "    d_mask = Intersection(dt,mask)\n",
    "    g = pd.DataFrame(d_mask, columns=['X', 'Y'])\n",
    "    g['mask'] = 'gloms'\n",
    "    g['Region_ID'] = p\n",
    "        \n",
    "    gf.append(g)\n",
    "gmask = pd.concat(gf)\n",
    "    \n",
    "\n",
    "\n",
    "\n",
    "## Vessels Mask\n",
    "\n",
    "vessel_id = d.loc[d['Annotation'] == \"vessels\"]['Region_ID'].unique().tolist()\n",
    "vessel_label = ['vessels'] * len(vessel_id)\n",
    "vf = []\n",
    "\n",
    "for p in vessel_id:\n",
    "   \n",
    "    poly = d[(d.Annotation == 'vessels') & (d.Region_ID == p)]\n",
    "    row, col = polygon(np.array(poly.X),\n",
    "                         np.array(poly.Y))\n",
    "    mask = [m for m in zip(row, col)]\n",
    "    dt = [t for t in zip(data.X, data.Y)]\n",
    "    d_mask = Intersection(dt,mask)\n",
    "    v = pd.DataFrame(d_mask, columns=['X', 'Y'])\n",
    "    v['mask'] = 'vessels'\n",
    "    v['Region_ID'] = p\n",
    "        \n",
    "    vf.append(v)\n",
    "vmask= pd.concat(vf)\n",
    "\n",
    "\n",
    "fmask = pd.DataFrame(gmask.append(vmask))    \n"
   ]
  },
  {
   "cell_type": "markdown",
   "metadata": {},
   "source": [
    "### Merging of Dataframes and replacing NaN values with \"Out\" for mask column  and 0 for Region_ID columns"
   ]
  },
  {
   "cell_type": "code",
   "execution_count": 17,
   "metadata": {},
   "outputs": [],
   "source": [
    "\n",
    "final =  data.merge(fmask,how='left', on=['X', 'Y'])\n",
    "(final['mask']\n",
    " .fillna('Out', inplace=True)\n",
    ")\n",
    "(final['Region_ID']\n",
    " .fillna(0, inplace=True)\n",
    ")\n",
    "\n",
    "final['Region_ID'] = final['Region_ID'].astype(int)\n"
   ]
  },
  {
   "cell_type": "code",
   "execution_count": 18,
   "metadata": {},
   "outputs": [
    {
     "data": {
      "text/plain": [
       "array(['Out', 'vessels', 'gloms'], dtype=object)"
      ]
     },
     "execution_count": 18,
     "metadata": {},
     "output_type": "execute_result"
    }
   ],
   "source": [
    "final['mask'].unique()"
   ]
  },
  {
   "cell_type": "markdown",
   "metadata": {},
   "source": [
    "### Plotting with specific tissue compartment\n",
    "      "
   ]
  },
  {
   "cell_type": "code",
   "execution_count": 21,
   "metadata": {
    "scrolled": true
   },
   "outputs": [
    {
     "name": "stderr",
     "output_type": "stream",
     "text": [
      "/Library/Frameworks/Python.framework/Versions/3.8/lib/python3.8/site-packages/plotnine/ggplot.py:727: PlotnineWarning: Saving 6.4 x 4.8 in image.\n",
      "  warn(\"Saving {0} x {1} {2} image.\".format(\n",
      "/Library/Frameworks/Python.framework/Versions/3.8/lib/python3.8/site-packages/plotnine/ggplot.py:730: PlotnineWarning: Filename: ../Figures/ExpPHa07_1_a/Masked_tissue_Figure1.png\n",
      "  warn('Filename: {}'.format(filename), PlotnineWarning)\n"
     ]
    },
    {
     "data": {
      "image/png": "[encoded data removed]",
      "text/plain": [
       "<Figure size 640x480 with 1 Axes>"
      ]
     },
     "metadata": {},
     "output_type": "display_data"
    },
    {
     "data": {
      "text/plain": [
       "<ggplot: (308261518)>"
      ]
     },
     "execution_count": 21,
     "metadata": {},
     "output_type": "execute_result"
    }
   ],
   "source": [
    "\n",
    "\n",
    "p = (\n",
    "    ggplot(final)\n",
    "    + geom_point(gg.aes(x='X', y='Y', color = 'mask'), size = 0.5) \n",
    "    + xlab(\"X\") \n",
    "    + ylab(\"Y\")\n",
    "    + labs(title= 'Annotated tissue regions')\n",
    "    + scale_colour_manual(name= \"Tissue compartment\", \n",
    "                           labels=['Outside','Glomerulus', \"Vessels\"], \n",
    "                           values = [\"#a1d99b\",\"#de2d26\", \"#43a2ca\"])\n",
    "    \n",
    ")\n",
    "\n",
    "ggsave(filename='Masked_tissue_Figure1.png', plot = p, path = figpath)\n",
    "\n",
    "p\n"
   ]
  },
  {
   "cell_type": "markdown",
   "metadata": {},
   "source": [
    "### Plotting with unique compartments"
   ]
  },
  {
   "cell_type": "code",
   "execution_count": 24,
   "metadata": {},
   "outputs": [
    {
     "name": "stderr",
     "output_type": "stream",
     "text": [
      "/Library/Frameworks/Python.framework/Versions/3.8/lib/python3.8/site-packages/plotnine/ggplot.py:727: PlotnineWarning: Saving 6.4 x 4.8 in image.\n",
      "  warn(\"Saving {0} x {1} {2} image.\".format(\n",
      "/Library/Frameworks/Python.framework/Versions/3.8/lib/python3.8/site-packages/plotnine/ggplot.py:730: PlotnineWarning: Filename: ../Figures/ExpPHa07_1_a/annotated_tissue_Figure2.png\n",
      "  warn('Filename: {}'.format(filename), PlotnineWarning)\n"
     ]
    },
    {
     "data": {
      "image/png": "[encoded data removed]",
      "text/plain": [
       "<Figure size 640x480 with 1 Axes>"
      ]
     },
     "metadata": {},
     "output_type": "display_data"
    },
    {
     "data": {
      "text/plain": [
       "<ggplot: (309147486)>"
      ]
     },
     "execution_count": 24,
     "metadata": {},
     "output_type": "execute_result"
    }
   ],
   "source": [
    "p = (\n",
    "    ggplot(d)\n",
    "    + geom_point(gg.aes(x='X', y='Y', color = 'Annotation'), size = 0.5) \n",
    "    + xlab(\"X\") \n",
    "    + ylab(\"Y\")\n",
    "    + labs(title= 'Annotated tissue regions')\n",
    "    + scale_colour_manual(name= \"Tissue compartment\", \n",
    "                           labels=['Outside','Glomerulus', \"Vessels\"], \n",
    "                           values = [\"#de2d26\",\"#a1d99b\", \"#43a2ca\"])\n",
    "    \n",
    ")\n",
    "\n",
    "\n",
    "ggsave(filename='annotated_tissue_Figure2.png', plot = p, path = figpath)\n",
    "p"
   ]
  },
  {
   "cell_type": "markdown",
   "metadata": {},
   "source": [
    "## Plotting of Region_ID"
   ]
  },
  {
   "cell_type": "markdown",
   "metadata": {},
   "source": [
    "### Note: converting \"Region_ID\" column to category"
   ]
  },
  {
   "cell_type": "code",
   "execution_count": 25,
   "metadata": {},
   "outputs": [
    {
     "name": "stderr",
     "output_type": "stream",
     "text": [
      "/Library/Frameworks/Python.framework/Versions/3.8/lib/python3.8/site-packages/plotnine/ggplot.py:727: PlotnineWarning: Saving 6.4 x 4.8 in image.\n",
      "  warn(\"Saving {0} x {1} {2} image.\".format(\n",
      "/Library/Frameworks/Python.framework/Versions/3.8/lib/python3.8/site-packages/plotnine/ggplot.py:730: PlotnineWarning: Filename: ../Figures/ExpPHa07_1_a/Annotations_Region_ID_Figure1.png\n",
      "  warn('Filename: {}'.format(filename), PlotnineWarning)\n"
     ]
    },
    {
     "data": {
      "image/png": "[encoded data removed]",
      "text/plain": [
       "<Figure size 640x480 with 1 Axes>"
      ]
     },
     "metadata": {},
     "output_type": "display_data"
    },
    {
     "data": {
      "text/plain": [
       "<ggplot: (308261383)>"
      ]
     },
     "execution_count": 25,
     "metadata": {},
     "output_type": "execute_result"
    }
   ],
   "source": [
    "d['Region_ID'] = d['Region_ID'].astype('category')\n",
    "\n",
    "colors_list = ['#01665e', '#1f78b4', '#b2df8a', '#fdbf6f','#33a02c', '#fb9a99', '#e31a1c', '#ff7f00','#d9d9d9']\n",
    "labels = [str(i) for i in d.Region_ID.unique().tolist()]\n",
    "i = len(d.Region_ID.unique())\n",
    "collist = colors_list[0:i]\n",
    "\n",
    "p = (\n",
    "    ggplot(d)\n",
    "    + geom_point(gg.aes(x='X', y='Y', color='Region_ID'), size = 0.5) \n",
    "    + xlab(\"X\") \n",
    "    + ylab(\"Y\")\n",
    "    + labs(title= 'Annotated Tissue')\n",
    "    + scale_colour_manual(name= \"Annotation_ID\", \n",
    "                           labels= labels, \n",
    "                           values = collist)\n",
    "    \n",
    ")\n",
    "ggsave(filename='Annotations_Region_ID_Figure1.png', plot = p, path = figpath)\n",
    "\n",
    "p\n",
    "\n"
   ]
  },
  {
   "cell_type": "markdown",
   "metadata": {},
   "source": [
    "### Function for Calculation proportion of Cells types"
   ]
  },
  {
   "cell_type": "code",
   "execution_count": 274,
   "metadata": {},
   "outputs": [
    {
     "name": "stderr",
     "output_type": "stream",
     "text": [
      "<ipython-input-274-c8d4a798eb9f>:26: SettingWithCopyWarning: \n",
      "A value is trying to be set on a copy of a slice from a DataFrame.\n",
      "Try using .loc[row_indexer,col_indexer] = value instead\n",
      "\n",
      "See the caveats in the documentation: http://pandas.pydata.org/pandas-docs/stable/user_guide/indexing.html#returning-a-view-versus-a-copy\n",
      "  cellprop['Cells Subtypes']=b['Cells Subtypes'].astype(\"category\")\n"
     ]
    },
    {
     "data": {
      "image/png": "[encoded data removed]",
      "text/plain": [
       "<Figure size 432x288 with 1 Axes>"
      ]
     },
     "metadata": {
      "needs_background": "light"
     },
     "output_type": "display_data"
    },
    {
     "data": {
      "image/png": "[encoded data removed]",
      "text/plain": [
       "<Figure size 432x288 with 1 Axes>"
      ]
     },
     "metadata": {
      "needs_background": "light"
     },
     "output_type": "display_data"
    }
   ],
   "source": [
    "def cellproportion(): \n",
    "    mask = ['Out', 'vessels', 'gloms']\n",
    "    finalprop = []\n",
    "    for j in mask:\n",
    "        \n",
    "        prf = final[final['mask'] == str(j)]\n",
    "        totalno = prf.shape[0]\n",
    "        pc = []\n",
    "        for i in prf['Classification'].unique():\n",
    "            gc = prf[prf['Classification'] == str(i)]\n",
    "            gc1 = gc.shape[0]\n",
    "            gc2 = gc1/totalno\n",
    "            pc.append(gc2)\n",
    "        prop = pd.DataFrame(pc, columns=['Proportion'])\n",
    "        subtypes = pd.DataFrame(prf['Classification'].unique(), columns=['Cells Subtypes'])\n",
    "        pp = pd.concat([subtypes, prop], axis=1)  \n",
    "        pp['mask'] = str(j)\n",
    "    \n",
    "        finalprop.append(pp)\n",
    "    test = pd.concat(finalprop)\n",
    "    return test\n",
    "                      \n",
    "        \n",
    "comp = cellproportion()\n",
    "cellprop = comp[comp['Cells Subtypes'] != \"NC\"]\n",
    "cellprop['Cells Subtypes']=b['Cells Subtypes'].astype(\"category\")        \n",
    "\n",
    "\n",
    "\n",
    "for i, p in enumerate (cellprop['mask'].unique()):\n",
    "    uu = cellprop[cellprop['mask'] == str(p)]\n",
    "    fig, ax = plt.subplots()\n",
    "    #plt.bar(uu['Cells Subtypes'],uu['Proportion'], color='coral')\n",
    "    sns.barplot(x='Cells Subtypes',y='Proportion', data=uu, palette='Spectral')\n",
    "    plt.xlabel('Cell Subtypes')\n",
    "    plt.ylabel('Proportion of Myleoid Cells subtypes \\n in Kidney tissue')\n",
    "    plt.title(str(p))\n",
    "    #plt.grid(True)\n",
    "    plt.savefig('CellProportion {0}.png'.format(i))\n",
    "  \n",
    "\n"
   ]
  },
  {
   "cell_type": "code",
   "execution_count": 276,
   "metadata": {},
   "outputs": [
    {
     "data": {
      "image/png": "[encoded data removed]",
      "text/plain": [
       "<Figure size 432x288 with 1 Axes>"
      ]
     },
     "metadata": {
      "needs_background": "light"
     },
     "output_type": "display_data"
    },
    {
     "data": {
      "image/png": "[encoded data removed]",
      "text/plain": [
       "<Figure size 432x288 with 1 Axes>"
      ]
     },
     "metadata": {
      "needs_background": "light"
     },
     "output_type": "display_data"
    },
    {
     "data": {
      "image/png": "[encoded data removed]",
      "text/plain": [
       "<Figure size 432x288 with 1 Axes>"
      ]
     },
     "metadata": {
      "needs_background": "light"
     },
     "output_type": "display_data"
    }
   ],
   "source": [
    "def cellproportion_Region_ID():\n",
    "    \n",
    "    ID = final['Region_ID'].unique().tolist()\n",
    "    finalprop = []\n",
    "    for j in ID:\n",
    "        \n",
    "        prf = final[final['Region_ID'] == j]\n",
    "        totalno = prf.shape[0]\n",
    "        pc = []\n",
    "        for i in prf['Classification'].unique():\n",
    "            gc = prf[prf['Classification'] == str(i)]\n",
    "            gc1 = gc.shape[0]\n",
    "            gc2 = gc1/totalno\n",
    "            pc.append(gc2)\n",
    "        prop = pd.DataFrame(pc, columns=['Proportion'])\n",
    "        subtypes = pd.DataFrame(prf['Classification'].unique(), columns=['Cells Subtypes'])\n",
    "        pp = pd.concat([subtypes, prop], axis=1)  \n",
    "        pp['Region_ID'] = j\n",
    "    \n",
    "        finalprop.append(pp)\n",
    "    test = pd.concat(finalprop)\n",
    "    return test\n",
    "                      \n",
    "        \n",
    "rid = cellproportion_Region_ID()\n",
    "rid = rid[rid['Cells Subtypes'] != \"NC\"]\n",
    "rid['Cells Subtypes']=rid['Cells Subtypes'].astype(\"category\")  \n",
    "\n",
    "## Plotting\n",
    "\n",
    "\n",
    "for i, p in enumerate (rid['Region_ID'].unique()):\n",
    "    uu = rid[rid['Region_ID'] == p]\n",
    "    fig, ax = plt.subplots()\n",
    "    #plt.bar(uu['Cells Subtypes'],uu['Proportion'], color='coral')\n",
    "    sns.barplot(x='Cells Subtypes',y='Proportion', data=uu, palette='Spectral')\n",
    "    plt.xlabel('Cell Subtypes')\n",
    "    plt.ylabel('Proportion of Myleoid Cells subtypes \\n in Kidney tissue')\n",
    "    plt.title(str(p))\n",
    "    #plt.grid(True)\n",
    "    plt.savefig('CellProportion_Region_ID {0}.png'.format(i))\n",
    "\n"
   ]
  },
  {
   "cell_type": "markdown",
   "metadata": {},
   "source": [
    "### Count of various cell types in a tissue"
   ]
  },
  {
   "cell_type": "code",
   "execution_count": 34,
   "metadata": {},
   "outputs": [
    {
     "name": "stderr",
     "output_type": "stream",
     "text": [
      "/Library/Frameworks/Python.framework/Versions/3.8/lib/python3.8/site-packages/plotnine/utils.py:634: FutureWarning: Sorting because non-concatenation axis is not aligned. A future version\n",
      "of pandas will change to not sort by default.\n",
      "\n",
      "To accept the future behavior, pass 'sort=False'.\n",
      "\n",
      "To retain the current behavior and silence the warning, pass 'sort=True'.\n",
      "\n",
      "  return pd.concat(lst, axis=axis, ignore_index=True)\n"
     ]
    },
    {
     "data": {
      "image/png": "[encoded data removed]",
      "text/plain": [
       "<Figure size 640x480 with 3 Axes>"
      ]
     },
     "metadata": {},
     "output_type": "display_data"
    },
    {
     "name": "stdout",
     "output_type": "stream",
     "text": [
      "<ggplot: (308284407)>\n"
     ]
    }
   ],
   "source": [
    "\n",
    "p = (ggplot(final, aes(x='Classification', fill = 'Classification'))\n",
    " + geom_bar()\n",
    " + geom_text(\n",
    "     aes(label='stat(count)'),\n",
    "     stat='count',\n",
    "     nudge_x=-0.0,\n",
    "     nudge_y=2,\n",
    "     va='top',\n",
    "     size=8)\n",
    " + xlab('Cell Types')\n",
    "    \n",
    " + geom_text(\n",
    "     aes(label='stat(prop)*100', group=1),\n",
    "     stat='count',\n",
    "     nudge_x=0.15,\n",
    "     nudge_y=0.125,\n",
    "     va='bottom',\n",
    "     size=6,\n",
    "     format_string='({:.1f}%)'\n",
    ")\n",
    "\n",
    " )\n",
    "g = p + facet_wrap('~ mask')\n",
    "print(g)\n",
    "\n",
    "\n",
    "#ggsave(filename='Cell_Count_various_compartments.png', plot = g, path = figpath)\n",
    "\n",
    "\n",
    "\n"
   ]
  },
  {
   "cell_type": "code",
   "execution_count": 199,
   "metadata": {},
   "outputs": [
    {
     "name": "stderr",
     "output_type": "stream",
     "text": [
      "/Library/Frameworks/Python.framework/Versions/3.8/lib/python3.8/site-packages/plotnine/utils.py:634: FutureWarning: Sorting because non-concatenation axis is not aligned. A future version\n",
      "of pandas will change to not sort by default.\n",
      "\n",
      "To accept the future behavior, pass 'sort=False'.\n",
      "\n",
      "To retain the current behavior and silence the warning, pass 'sort=True'.\n",
      "\n",
      "  return pd.concat(lst, axis=axis, ignore_index=True)\n"
     ]
    },
    {
     "data": {
      "image/png": "[encoded data removed]",
      "text/plain": [
       "<Figure size 640x480 with 4 Axes>"
      ]
     },
     "metadata": {},
     "output_type": "display_data"
    },
    {
     "name": "stdout",
     "output_type": "stream",
     "text": [
      "<ggplot: (318878934)>\n"
     ]
    },
    {
     "name": "stderr",
     "output_type": "stream",
     "text": [
      "/Library/Frameworks/Python.framework/Versions/3.8/lib/python3.8/site-packages/plotnine/ggplot.py:727: PlotnineWarning: Saving 6.4 x 4.8 in image.\n",
      "  warn(\"Saving {0} x {1} {2} image.\".format(\n",
      "/Library/Frameworks/Python.framework/Versions/3.8/lib/python3.8/site-packages/plotnine/ggplot.py:730: PlotnineWarning: Filename: ../Figures/ExpPHa07_1a/Cell_Count_various_Region_ID.png\n",
      "  warn('Filename: {}'.format(filename), PlotnineWarning)\n",
      "/Library/Frameworks/Python.framework/Versions/3.8/lib/python3.8/site-packages/plotnine/utils.py:634: FutureWarning: Sorting because non-concatenation axis is not aligned. A future version\n",
      "of pandas will change to not sort by default.\n",
      "\n",
      "To accept the future behavior, pass 'sort=False'.\n",
      "\n",
      "To retain the current behavior and silence the warning, pass 'sort=True'.\n",
      "\n",
      "  return pd.concat(lst, axis=axis, ignore_index=True)\n"
     ]
    }
   ],
   "source": [
    "p = (ggplot(final, aes(x='Classification', fill = 'Classification'))\n",
    " + geom_bar()\n",
    " + geom_text(\n",
    "     aes(label='stat(count)'),\n",
    "     stat='count',\n",
    "     nudge_x=-0.0,\n",
    "     nudge_y=2,\n",
    "     va='top',\n",
    "     size=8)\n",
    " + xlab('Cell Types')\n",
    "    \n",
    " + geom_text(\n",
    "     aes(label='stat(prop)*100', group=1),\n",
    "     stat='count',\n",
    "     nudge_x=0.15,\n",
    "     nudge_y=0.125,\n",
    "     va='bottom',\n",
    "     size=6,\n",
    "     format_string='({:.1f}%)'\n",
    ")\n",
    "\n",
    " )\n",
    "g = p + facet_wrap('~ Region_ID', nrow=3, scales=\"free_y\")\n",
    "print(g)\n",
    "\n",
    "\n",
    "ggsave(filename='Cell_Count_various_Region_ID.png', plot = g, path = figpath)"
   ]
  },
  {
   "cell_type": "markdown",
   "metadata": {},
   "source": [
    "### Plotting a Pie chart for total count of cell per tissue"
   ]
  },
  {
   "cell_type": "code",
   "execution_count": 307,
   "metadata": {},
   "outputs": [],
   "source": [
    "# for i, p in enumerate(final['mask'].unique()):\n",
    "#     comp = final.loc[final['mask'] == str(p)]\n",
    "#     comp.groupby('Classification').size()\n",
    "#     colors = [\"#8856a7\", \"#de2d26\", \"#addd8e\",'#43a2ca']\n",
    "#     labels = comp['Classification'].unique()\n",
    "#     values = comp['Classification'].value_counts(dropna=False)\n",
    "#     fig = go.Pie(labels=labels, values=values, marker=dict(colors=colors, line=dict(color='#FFF', width=2)),\n",
    "#                domain={'x': [0.0, 1], 'y': [0.0, 1]}, showlegend=False, name='Count of Cell types', textinfo='label+percent')\n",
    "    \n",
    "#     layout = go.Layout(height = 600,\n",
    "#                    width = 1000,\n",
    "#                    autosize = False,\n",
    "#                    title = str(p))\n",
    "    \n",
    "#     fig = go.Figure(data = fig, layout = layout)\n",
    "    \n",
    "#     fig\n",
    "\n",
    "\n",
    "    \n",
    "\n",
    "    \n",
    "\n"
   ]
  },
  {
   "cell_type": "markdown",
   "metadata": {},
   "source": [
    "### Plotting"
   ]
  },
  {
   "cell_type": "code",
   "execution_count": 296,
   "metadata": {},
   "outputs": [],
   "source": [
    "tissuelist = final['mask'].unique()\n",
    "\n",
    "\n",
    "for i, p in enumerate(tissuelist):\n",
    "    \n",
    "    dt = final.loc[final['mask'] == str(p)]\n",
    "    \n",
    "    g = gg.ggplot(dt, gg.aes(x='X', y='Y',color = \"Classification\")) + \\\n",
    "    gg.geom_point(size = 0.5) + \\\n",
    "    gg.xlab(\"X\") + \\\n",
    "    gg.ylab(\"Y\") #+ \\\n",
    "#     gg.scale_colour_manual(name= \"Cell types\", \n",
    "#                            labels=['CM0', 'CM1', 'CM4','all', 'NC'], \n",
    "#                            values = [\"#f03b20\", \"#31a354\", \"#3182bd\",\"#fee6ce\", '#bababa']) + \\\n",
    "    gg.labs(title= 'Distribution of Cell Types_' +  str(p)) \n",
    "    ggsave(filename=str(p)+'.png', plot = g, path = figpath)\n",
    "         \n",
    "    \n",
    "        \n",
    "\n",
    "\n",
    "\n"
   ]
  },
  {
   "cell_type": "code",
   "execution_count": 379,
   "metadata": {},
   "outputs": [],
   "source": [
    "# import plotly\n",
    "# import plotly.graph_objs as go\n",
    "# from plotly import tools\n",
    "# import psutil\n",
    "\n",
    "# d = data.loc[data['Image_Location'] == 'ExpPHa07_1_a']\n",
    "# d.groupby('Classification').size()\n",
    "\n",
    "# colors = ['#fc9272','#ffff99', '#7fcdbb', '#beaed4', '#7fc97f']\n",
    "# labels = d['Classification'].unique()\n",
    "# values = d['Classification'].value_counts(dropna=False)\n",
    "\n",
    "# fig = go.Pie(labels=labels, values=values, marker=dict(colors=colors, line=dict(color='#FFF', width=2)),\n",
    "#                domain={'x': [0.0, 1], 'y': [0.0, 1]}, showlegend=False, name='Count of Cell types', textinfo='label+percent')\n",
    "    \n",
    "\n",
    "# layout = go.Layout(height = 600,\n",
    "#                    width = 1000,\n",
    "#                    autosize = False,\n",
    "#                    title = 'ExpPHa07_1_a')\n",
    "\n",
    "\n",
    "\n",
    "\n",
    "# fig = go.Figure(data = fig, layout = layout)\n",
    "# fig\n"
   ]
  },
  {
   "cell_type": "code",
   "execution_count": 276,
   "metadata": {},
   "outputs": [],
   "source": [
    "final['Region_ID']= final['Region_ID'].astype(int)"
   ]
  },
  {
   "cell_type": "markdown",
   "metadata": {},
   "source": [
    "## Calculating Distances Glomerulus"
   ]
  },
  {
   "cell_type": "code",
   "execution_count": 277,
   "metadata": {},
   "outputs": [],
   "source": [
    "import math\n",
    "\n",
    "glom_id = sorted(final.loc[final['mask'] == \"gloms\"]['Region_ID'].unique().tolist())\n",
    "\n",
    "prf = []\n",
    "\n",
    "for p in glom_id:\n",
    "    df = final.loc[(final['mask'] == 'gloms') & (final['Region_ID'] == p)]\n",
    "    Classification = []\n",
    "    for i in df['Classification']:\n",
    "        for j in df['Classification']:\n",
    "            cl = [i, j]\n",
    "            Classification.append(cl)\n",
    "            \n",
    "    mask = []\n",
    "    for i in df['mask']:\n",
    "        for j in df['mask']:\n",
    "            m = [i, j]\n",
    "            mask.append(m)\n",
    "            \n",
    "    Region_ID = []\n",
    "    for i in df['Region_ID']:\n",
    "        for j in df['Region_ID']:\n",
    "            r = [i, j]\n",
    "            Region_ID.append(r)\n",
    "            \n",
    "    X = list(df.X)       \n",
    "    Y = list(df.Y)\n",
    "\n",
    "    distance = []  \n",
    "    for i in range(0, len(X)):\n",
    "        for j in range(0, len(X)):\n",
    "            dist = math.sqrt((X[j] - X[i])**2 + ((Y[j] - Y[i])**2)) * 0.495952562137432\n",
    "            distance.append(dist)\n",
    "\n",
    "       \n",
    "    coordinates = []        \n",
    "    for i in zip(df.X, df.Y):\n",
    "        for j in zip(df.X, df.Y):\n",
    "            cor = [i, j]\n",
    "            coordinates.append(cor)\n",
    "        \n",
    "    obj = []        \n",
    "    for i in range(0, len(df.Object_Id)):\n",
    "        for j in range(0, len(df.Object_Id)):\n",
    "            com_obj = [i, j]\n",
    "            obj.append(com_obj)\n",
    "        \n",
    "    obj_id = pd.DataFrame(obj, columns=['objID_1', 'objID_2'])\n",
    "    dist = pd.DataFrame(distance, columns=['Distance'])\n",
    "    meta = pd.DataFrame(Classification, columns=['idx_1', 'idx_2'])\n",
    "    cord = pd.DataFrame(coordinates, columns=['cord_1', 'cord_2'])\n",
    "    mask = pd.DataFrame(mask, columns=['mask_1', 'mask_2'])\n",
    "    RID = pd.DataFrame(Region_ID, columns=['RID_1', 'RID_2'])\n",
    "\n",
    "    pf = pd.concat([obj_id, cord, meta,mask, RID, dist], axis =1)\n",
    "    \n",
    "    prf.append(pf)\n",
    "    \n",
    "    \n",
    "prf = pd.concat(prf)     \n"
   ]
  },
  {
   "cell_type": "code",
   "execution_count": 278,
   "metadata": {},
   "outputs": [],
   "source": [
    "\n",
    "prf[['X1', 'Y1']] = pd.DataFrame(prf['cord_1'].tolist(), index=prf.index) \n",
    "prf[['X2', 'Y2']] = pd.DataFrame(prf['cord_2'].tolist(), index=prf.index) "
   ]
  },
  {
   "cell_type": "code",
   "execution_count": 253,
   "metadata": {},
   "outputs": [
    {
     "data": {
      "text/plain": [
       "(227082, 15)"
      ]
     },
     "execution_count": 253,
     "metadata": {},
     "output_type": "execute_result"
    }
   ],
   "source": [
    "prf.shape"
   ]
  },
  {
   "cell_type": "markdown",
   "metadata": {},
   "source": [
    "## Distance Calculation for Vessels"
   ]
  },
  {
   "cell_type": "code",
   "execution_count": 279,
   "metadata": {},
   "outputs": [],
   "source": [
    "import math\n",
    "\n",
    "\n",
    "vessel_id = sorted(final.loc[final['mask'] == \"vessels\"]['Region_ID'].unique().tolist())\n",
    "\n",
    "vrf = []\n",
    "\n",
    "for p in vessel_id:\n",
    "    df = final.loc[(final['mask'] == 'vessels') & (final['Region_ID'] == p)]\n",
    "    Classification = []\n",
    "    for i in df['Classification']:\n",
    "        for j in df['Classification']:\n",
    "            cl = [i, j]\n",
    "            Classification.append(cl)\n",
    "            \n",
    "    mask = []\n",
    "    for i in df['mask']:\n",
    "        for j in df['mask']:\n",
    "            m = [i, j]\n",
    "            mask.append(m)\n",
    "            \n",
    "    Region_ID = []\n",
    "    for i in df['Region_ID']:\n",
    "        for j in df['Region_ID']:\n",
    "            r = [i, j]\n",
    "            Region_ID.append(r)\n",
    "            \n",
    "    X = list(df.X)       \n",
    "    Y = list(df.Y)\n",
    "\n",
    "    distance = []  \n",
    "    for i in range(0, len(X)):\n",
    "        for j in range(0, len(X)):\n",
    "            dist = math.sqrt((X[j] - X[i])**2 + ((Y[j] - Y[i])**2)) * 0.495952562137432\n",
    "            distance.append(dist)\n",
    "\n",
    "       \n",
    "    coordinates = []        \n",
    "    for i in zip(df.X, df.Y):\n",
    "        for j in zip(df.X, df.Y):\n",
    "            cor = [i, j]\n",
    "            coordinates.append(cor)\n",
    "        \n",
    "    obj = []        \n",
    "    for i in range(0, len(df.Object_Id)):\n",
    "        for j in range(0, len(df.Object_Id)):\n",
    "            com_obj = [i, j]\n",
    "            obj.append(com_obj)\n",
    "        \n",
    "    obj_id = pd.DataFrame(obj, columns=['objID_1', 'objID_2'])\n",
    "    dist = pd.DataFrame(distance, columns=['Distance'])\n",
    "    meta = pd.DataFrame(Classification, columns=['idx_1', 'idx_2'])\n",
    "    cord = pd.DataFrame(coordinates, columns=['cord_1', 'cord_2'])\n",
    "    mask = pd.DataFrame(mask, columns=['mask_1', 'mask_2'])\n",
    "    RID = pd.DataFrame(Region_ID, columns=['RID_1', 'RID_2'])\n",
    "\n",
    "    vf = pd.concat([obj_id, cord, meta,mask, RID, dist], axis =1)\n",
    "    \n",
    "    vrf.append(vf)\n",
    "    \n",
    "    \n",
    "vrf = pd.concat(vrf)     \n",
    "\n"
   ]
  },
  {
   "cell_type": "code",
   "execution_count": 280,
   "metadata": {},
   "outputs": [],
   "source": [
    "\n",
    "vrf[['X1', 'Y1']] = pd.DataFrame(vrf['cord_1'].tolist(), index=vrf.index) \n",
    "vrf[['X2', 'Y2']] = pd.DataFrame(vrf['cord_2'].tolist(), index=vrf.index) "
   ]
  },
  {
   "cell_type": "markdown",
   "metadata": {},
   "source": [
    "### Distance is calculated for all cell subtypes excluding Non classified cells to reduce the computing time"
   ]
  },
  {
   "cell_type": "markdown",
   "metadata": {},
   "source": [
    "### Distance function for tissue Region (Except Glomerulus, Vessels)"
   ]
  },
  {
   "cell_type": "code",
   "execution_count": 281,
   "metadata": {},
   "outputs": [],
   "source": [
    "import math\n",
    "\n",
    "fout = final.loc[(final['Classification'] != \"NC\") & (final['mask'] == \"Out\")]\n",
    "\n",
    "out_id = sorted(fout.loc[final['mask'] == \"Out\"]['Region_ID'].unique().tolist())\n",
    "\n",
    "orf = []\n",
    "\n",
    "for p in out_id:\n",
    "    df = fout.loc[(fout['mask'] == 'Out') & (fout['Region_ID'] == p)]\n",
    "    Classification = []\n",
    "    for i in df['Classification']:\n",
    "        for j in df['Classification']:\n",
    "            cl = [i, j]\n",
    "            Classification.append(cl)\n",
    "            \n",
    "    mask = []\n",
    "    for i in df['mask']:\n",
    "        for j in df['mask']:\n",
    "            m = [i, j]\n",
    "            mask.append(m)\n",
    "            \n",
    "    Region_ID = []\n",
    "    for i in df['Region_ID']:\n",
    "        for j in df['Region_ID']:\n",
    "            r = [i, j]\n",
    "            Region_ID.append(r)\n",
    "            \n",
    "    X = list(df.X)       \n",
    "    Y = list(df.Y)\n",
    "\n",
    "    distance = []  \n",
    "    for i in range(0, len(X)):\n",
    "        for j in range(0, len(X)):\n",
    "            dist = math.sqrt((X[j] - X[i])**2 + ((Y[j] - Y[i])**2)) * 0.495952562137432\n",
    "            distance.append(dist)\n",
    "\n",
    "       \n",
    "    coordinates = []        \n",
    "    for i in zip(df.X, df.Y):\n",
    "        for j in zip(df.X, df.Y):\n",
    "            cor = [i, j]\n",
    "            coordinates.append(cor)\n",
    "        \n",
    "    obj = []        \n",
    "    for i in range(0, len(df.Object_Id)):\n",
    "        for j in range(0, len(df.Object_Id)):\n",
    "            com_obj = [i, j]\n",
    "            obj.append(com_obj)\n",
    "        \n",
    "    obj_id = pd.DataFrame(obj, columns=['objID_1', 'objID_2'])\n",
    "    dist = pd.DataFrame(distance, columns=['Distance'])\n",
    "    meta = pd.DataFrame(Classification, columns=['idx_1', 'idx_2'])\n",
    "    cord = pd.DataFrame(coordinates, columns=['cord_1', 'cord_2'])\n",
    "    mask = pd.DataFrame(mask, columns=['mask_1', 'mask_2'])\n",
    "    RID = pd.DataFrame(Region_ID, columns=['RID_1', 'RID_2'])\n",
    "\n",
    "    of = pd.concat([obj_id, cord, meta,mask, RID, dist], axis =1)\n",
    "    \n",
    "    orf.append(of)\n",
    "    \n",
    "    \n",
    "orf = pd.concat(orf)     "
   ]
  },
  {
   "cell_type": "code",
   "execution_count": 283,
   "metadata": {},
   "outputs": [],
   "source": [
    "\n",
    "orf[['X1', 'Y1']] = pd.DataFrame(orf['cord_1'].tolist(), index=orf.index) \n",
    "orf[['X2', 'Y2']] = pd.DataFrame(orf['cord_2'].tolist(), index=orf.index) "
   ]
  },
  {
   "cell_type": "code",
   "execution_count": 284,
   "metadata": {},
   "outputs": [
    {
     "data": {
      "text/html": [
       "<div>\n",
       "<style scoped>\n",
       "    .dataframe tbody tr th:only-of-type {\n",
       "        vertical-align: middle;\n",
       "    }\n",
       "\n",
       "    .dataframe tbody tr th {\n",
       "        vertical-align: top;\n",
       "    }\n",
       "\n",
       "    .dataframe thead th {\n",
       "        text-align: right;\n",
       "    }\n",
       "</style>\n",
       "<table border=\"1\" class=\"dataframe\">\n",
       "  <thead>\n",
       "    <tr style=\"text-align: right;\">\n",
       "      <th></th>\n",
       "      <th>objID_1</th>\n",
       "      <th>objID_2</th>\n",
       "      <th>cord_1</th>\n",
       "      <th>cord_2</th>\n",
       "      <th>idx_1</th>\n",
       "      <th>idx_2</th>\n",
       "      <th>mask_1</th>\n",
       "      <th>mask_2</th>\n",
       "      <th>RID_1</th>\n",
       "      <th>RID_2</th>\n",
       "      <th>Distance</th>\n",
       "      <th>X1</th>\n",
       "      <th>Y1</th>\n",
       "      <th>X2</th>\n",
       "      <th>Y2</th>\n",
       "    </tr>\n",
       "  </thead>\n",
       "  <tbody>\n",
       "    <tr>\n",
       "      <th>0</th>\n",
       "      <td>0</td>\n",
       "      <td>0</td>\n",
       "      <td>(27843, 506)</td>\n",
       "      <td>(27843, 506)</td>\n",
       "      <td>CM0</td>\n",
       "      <td>CM0</td>\n",
       "      <td>Out</td>\n",
       "      <td>Out</td>\n",
       "      <td>0</td>\n",
       "      <td>0</td>\n",
       "      <td>0.000000</td>\n",
       "      <td>27843</td>\n",
       "      <td>506</td>\n",
       "      <td>27843</td>\n",
       "      <td>506</td>\n",
       "    </tr>\n",
       "    <tr>\n",
       "      <th>1</th>\n",
       "      <td>0</td>\n",
       "      <td>1</td>\n",
       "      <td>(27843, 506)</td>\n",
       "      <td>(27803, 540)</td>\n",
       "      <td>CM0</td>\n",
       "      <td>CM0</td>\n",
       "      <td>Out</td>\n",
       "      <td>Out</td>\n",
       "      <td>0</td>\n",
       "      <td>0</td>\n",
       "      <td>26.036329</td>\n",
       "      <td>27843</td>\n",
       "      <td>506</td>\n",
       "      <td>27803</td>\n",
       "      <td>540</td>\n",
       "    </tr>\n",
       "    <tr>\n",
       "      <th>2</th>\n",
       "      <td>0</td>\n",
       "      <td>2</td>\n",
       "      <td>(27843, 506)</td>\n",
       "      <td>(27885, 561)</td>\n",
       "      <td>CM0</td>\n",
       "      <td>CM1</td>\n",
       "      <td>Out</td>\n",
       "      <td>Out</td>\n",
       "      <td>0</td>\n",
       "      <td>0</td>\n",
       "      <td>34.321207</td>\n",
       "      <td>27843</td>\n",
       "      <td>506</td>\n",
       "      <td>27885</td>\n",
       "      <td>561</td>\n",
       "    </tr>\n",
       "    <tr>\n",
       "      <th>3</th>\n",
       "      <td>0</td>\n",
       "      <td>3</td>\n",
       "      <td>(27843, 506)</td>\n",
       "      <td>(27220, 565)</td>\n",
       "      <td>CM0</td>\n",
       "      <td>CM1</td>\n",
       "      <td>Out</td>\n",
       "      <td>Out</td>\n",
       "      <td>0</td>\n",
       "      <td>0</td>\n",
       "      <td>310.360916</td>\n",
       "      <td>27843</td>\n",
       "      <td>506</td>\n",
       "      <td>27220</td>\n",
       "      <td>565</td>\n",
       "    </tr>\n",
       "    <tr>\n",
       "      <th>4</th>\n",
       "      <td>0</td>\n",
       "      <td>4</td>\n",
       "      <td>(27843, 506)</td>\n",
       "      <td>(27407, 564)</td>\n",
       "      <td>CM0</td>\n",
       "      <td>CM0</td>\n",
       "      <td>Out</td>\n",
       "      <td>Out</td>\n",
       "      <td>0</td>\n",
       "      <td>0</td>\n",
       "      <td>218.140212</td>\n",
       "      <td>27843</td>\n",
       "      <td>506</td>\n",
       "      <td>27407</td>\n",
       "      <td>564</td>\n",
       "    </tr>\n",
       "  </tbody>\n",
       "</table>\n",
       "</div>"
      ],
      "text/plain": [
       "   objID_1  objID_2        cord_1        cord_2 idx_1 idx_2 mask_1 mask_2  \\\n",
       "0        0        0  (27843, 506)  (27843, 506)   CM0   CM0    Out    Out   \n",
       "1        0        1  (27843, 506)  (27803, 540)   CM0   CM0    Out    Out   \n",
       "2        0        2  (27843, 506)  (27885, 561)   CM0   CM1    Out    Out   \n",
       "3        0        3  (27843, 506)  (27220, 565)   CM0   CM1    Out    Out   \n",
       "4        0        4  (27843, 506)  (27407, 564)   CM0   CM0    Out    Out   \n",
       "\n",
       "   RID_1  RID_2    Distance     X1   Y1     X2   Y2  \n",
       "0      0      0    0.000000  27843  506  27843  506  \n",
       "1      0      0   26.036329  27843  506  27803  540  \n",
       "2      0      0   34.321207  27843  506  27885  561  \n",
       "3      0      0  310.360916  27843  506  27220  565  \n",
       "4      0      0  218.140212  27843  506  27407  564  "
      ]
     },
     "execution_count": 284,
     "metadata": {},
     "output_type": "execute_result"
    }
   ],
   "source": [
    "orf.head()"
   ]
  },
  {
   "cell_type": "markdown",
   "metadata": {},
   "source": [
    "### Sorting pairwise subtypes distances"
   ]
  },
  {
   "cell_type": "code",
   "execution_count": null,
   "metadata": {},
   "outputs": [],
   "source": [
    "# def sorting_rows(row):\n",
    "#     if (row['idx_1'] == 'CM0') & (row['idx_2'] == 'CM1'):\n",
    "#         return \"CM0_CM1\"\n",
    "#     elif (row['idx_1'] == 'CM0') & (row['idx_2'] == 'CM4'):\n",
    "#         return \"CM0_CM4\"\n",
    "#     elif (row['idx_1'] == 'CM1') & (row['idx_2'] == 'CM4'):\n",
    "#         return \"CM1_CM4\"\n",
    "#     else:\n",
    "#         return \"Others\"\n",
    "    \n",
    "    \n",
    "# prf['Sorted'] = prf.apply(sorting_rows, axis=1)\n",
    "\n"
   ]
  },
  {
   "cell_type": "markdown",
   "metadata": {},
   "source": [
    "### Sorting pairwise subtypes distances"
   ]
  },
  {
   "cell_type": "markdown",
   "metadata": {},
   "source": [
    "### Sorting distances of FIBROBLAST and MYLEOID cells only"
   ]
  },
  {
   "cell_type": "code",
   "execution_count": null,
   "metadata": {},
   "outputs": [],
   "source": [
    "# def sorting_rows(row):\n",
    "#     if (row['idx_1'] == 'FIBROBLAST') & (row['idx_2'] == 'MYELOID'):\n",
    "#         return \"TRUE\"\n",
    "#     else:\n",
    "#         return \"FALSE\"\n",
    "    \n",
    "# final['Sorted'] = final.apply(sorting_rows, axis=1)\n"
   ]
  },
  {
   "cell_type": "markdown",
   "metadata": {},
   "source": [
    "## Density plot for Glomerulus cell subtypes paired distances "
   ]
  },
  {
   "cell_type": "code",
   "execution_count": 285,
   "metadata": {},
   "outputs": [
    {
     "data": {
      "text/plain": [
       "array(['NC', 'CM0', 'CM1', 'CM4'], dtype=object)"
      ]
     },
     "execution_count": 285,
     "metadata": {},
     "output_type": "execute_result"
    }
   ],
   "source": [
    "from adjustText import adjust_text\n",
    "prf.idx_1.unique()"
   ]
  },
  {
   "cell_type": "code",
   "execution_count": 295,
   "metadata": {},
   "outputs": [],
   "source": [
    "#listdf = [('CM0', 'CM1'), ('CM0', 'CM4'), ('CM1', 'CM4'), ('CM0', 'all'), ('CM1', 'all'), ('CM4', 'all')]\n",
    "listdf = [('CM0', 'CM1'), ('CM0', 'CM4'), ('CM1', 'CM4')]\n",
    "\n",
    "for p in listdf:\n",
    "    f = prf.loc[(prf['idx_1'] == p[0]) & (prf['idx_2'] == p[1])]\n",
    "    avg_dist = f['Distance'].mean()\n",
    "    g = ggplot(f, aes(x='Distance')) + \\\n",
    "    geom_histogram(color= '#5ab4ac', fill= '#d8b365', alpha=.2) + \\\n",
    "    geom_density() + \\\n",
    "    geom_vline(f, aes(xintercept='avg_dist'), color = '#ca0020') + \\\n",
    "    labs(title='Pair-wise [Glomerulus_' + str(p[0])+  \"_\" + str(p[1]) +  \"]\")\n",
    "    \n",
    "    ggsave(filename='Glomerulus'+  \"_\" + str(p[0])+ \"_\" + str(p[1]) + '.png', plot = g, \n",
    "       path = figpath)\n",
    "\n"
   ]
  },
  {
   "cell_type": "code",
   "execution_count": 61,
   "metadata": {},
   "outputs": [
    {
     "data": {
      "text/html": [
       "<div>\n",
       "<style scoped>\n",
       "    .dataframe tbody tr th:only-of-type {\n",
       "        vertical-align: middle;\n",
       "    }\n",
       "\n",
       "    .dataframe tbody tr th {\n",
       "        vertical-align: top;\n",
       "    }\n",
       "\n",
       "    .dataframe thead th {\n",
       "        text-align: right;\n",
       "    }\n",
       "</style>\n",
       "<table border=\"1\" class=\"dataframe\">\n",
       "  <thead>\n",
       "    <tr style=\"text-align: right;\">\n",
       "      <th></th>\n",
       "      <th>objID_1</th>\n",
       "      <th>objID_2</th>\n",
       "      <th>cord_1</th>\n",
       "      <th>cord_2</th>\n",
       "      <th>idx_1</th>\n",
       "      <th>idx_2</th>\n",
       "      <th>mask_1</th>\n",
       "      <th>mask_2</th>\n",
       "      <th>RID_1</th>\n",
       "      <th>RID_2</th>\n",
       "      <th>Distance</th>\n",
       "      <th>X1</th>\n",
       "      <th>Y1</th>\n",
       "      <th>X2</th>\n",
       "      <th>Y2</th>\n",
       "    </tr>\n",
       "  </thead>\n",
       "  <tbody>\n",
       "  </tbody>\n",
       "</table>\n",
       "</div>"
      ],
      "text/plain": [
       "Empty DataFrame\n",
       "Columns: [objID_1, objID_2, cord_1, cord_2, idx_1, idx_2, mask_1, mask_2, RID_1, RID_2, Distance, X1, Y1, X2, Y2]\n",
       "Index: []"
      ]
     },
     "execution_count": 61,
     "metadata": {},
     "output_type": "execute_result"
    }
   ],
   "source": [
    "glom_id = prf.RID_1.unique()\n",
    "#prf['idx_1'].unique()                      \n",
    "f = prf.loc[(prf['idx_1'] == 'CM1') & (prf['idx_2'] == 'CM4') & (prf['RID_1'] == 7)]\n",
    "f\n"
   ]
  },
  {
   "cell_type": "code",
   "execution_count": null,
   "metadata": {},
   "outputs": [],
   "source": [
    "RID_list = [3,4,5,6]\n",
    "\n",
    "for p in RID_list:\n",
    "    f = prf.loc[(prf['idx_1'] == 'CM1') & (prf['idx_2'] == 'CM4') & (prf['RID_1'] == p)]\n",
    "    avg_dist = f['Distance'].mean()\n",
    "    g = ggplot(f, aes(x='Distance')) + \\\n",
    "    geom_histogram(color= '#e9a3c9', fill= '#e9a3c9', alpha=.2) + \\\n",
    "    geom_density() + \\\n",
    "    geom_vline(f, aes(xintercept='avg_dist'), color = '#ca0020') + \\\n",
    "    labs(title='Pair-wise CM1_CM4 distances [Glomerulus + Region_ID_' + str(p) + \"]\")\n",
    "    \n",
    "    ggsave(filename='Glomerulus_CM1_CM4_'+str(p)+'.png', plot = g, \n",
    "       path = figpath)\n",
    "\n"
   ]
  },
  {
   "cell_type": "code",
   "execution_count": 294,
   "metadata": {},
   "outputs": [],
   "source": [
    "RID_list = [3,4,5,6]\n",
    "\n",
    "for p in RID_list:\n",
    "    f = prf.loc[(prf['idx_1'] == 'CM1') & (prf['idx_2'] == 'CM4') & (prf['RID_1'] == p)]\n",
    "    avg_dist = f['Distance'].mean()\n",
    "    g = ggplot(f, aes(x='Distance')) + \\\n",
    "    geom_histogram(color= '#e9a3c9', fill= '#e9a3c9', alpha=.2) + \\\n",
    "    geom_density() + \\\n",
    "    geom_vline(f, aes(xintercept='avg_dist'), color = '#ca0020') + \\\n",
    "    labs(title='Pair-wise CM1_CM4 distances [Glomerulus + Region_ID_' + str(p) + \"]\")\n",
    "    \n",
    "    ggsave(filename='Glomerulus_CM1_CM4_'+str(p)+'.png', plot = g, \n",
    "       path = figpath)\n"
   ]
  },
  {
   "cell_type": "code",
   "execution_count": 74,
   "metadata": {},
   "outputs": [
    {
     "data": {
      "text/html": [
       "<div>\n",
       "<style scoped>\n",
       "    .dataframe tbody tr th:only-of-type {\n",
       "        vertical-align: middle;\n",
       "    }\n",
       "\n",
       "    .dataframe tbody tr th {\n",
       "        vertical-align: top;\n",
       "    }\n",
       "\n",
       "    .dataframe thead th {\n",
       "        text-align: right;\n",
       "    }\n",
       "</style>\n",
       "<table border=\"1\" class=\"dataframe\">\n",
       "  <thead>\n",
       "    <tr style=\"text-align: right;\">\n",
       "      <th></th>\n",
       "      <th>objID_1</th>\n",
       "      <th>objID_2</th>\n",
       "      <th>cord_1</th>\n",
       "      <th>cord_2</th>\n",
       "      <th>idx_1</th>\n",
       "      <th>idx_2</th>\n",
       "      <th>mask_1</th>\n",
       "      <th>mask_2</th>\n",
       "      <th>RID_1</th>\n",
       "      <th>RID_2</th>\n",
       "      <th>Distance</th>\n",
       "      <th>X1</th>\n",
       "      <th>Y1</th>\n",
       "      <th>X2</th>\n",
       "      <th>Y2</th>\n",
       "    </tr>\n",
       "  </thead>\n",
       "  <tbody>\n",
       "    <tr>\n",
       "      <th>2880</th>\n",
       "      <td>18</td>\n",
       "      <td>72</td>\n",
       "      <td>(21083, 1888)</td>\n",
       "      <td>(20840, 2016)</td>\n",
       "      <td>CM1</td>\n",
       "      <td>CM4</td>\n",
       "      <td>vessels</td>\n",
       "      <td>vessels</td>\n",
       "      <td>9</td>\n",
       "      <td>9</td>\n",
       "      <td>136.213712</td>\n",
       "      <td>21083</td>\n",
       "      <td>1888</td>\n",
       "      <td>20840</td>\n",
       "      <td>2016</td>\n",
       "    </tr>\n",
       "    <tr>\n",
       "      <th>2904</th>\n",
       "      <td>18</td>\n",
       "      <td>96</td>\n",
       "      <td>(21083, 1888)</td>\n",
       "      <td>(21037, 2075)</td>\n",
       "      <td>CM1</td>\n",
       "      <td>CM4</td>\n",
       "      <td>vessels</td>\n",
       "      <td>vessels</td>\n",
       "      <td>9</td>\n",
       "      <td>9</td>\n",
       "      <td>95.507896</td>\n",
       "      <td>21083</td>\n",
       "      <td>1888</td>\n",
       "      <td>21037</td>\n",
       "      <td>2075</td>\n",
       "    </tr>\n",
       "    <tr>\n",
       "      <th>23472</th>\n",
       "      <td>150</td>\n",
       "      <td>72</td>\n",
       "      <td>(21160, 2223)</td>\n",
       "      <td>(20840, 2016)</td>\n",
       "      <td>CM1</td>\n",
       "      <td>CM4</td>\n",
       "      <td>vessels</td>\n",
       "      <td>vessels</td>\n",
       "      <td>9</td>\n",
       "      <td>9</td>\n",
       "      <td>189.015193</td>\n",
       "      <td>21160</td>\n",
       "      <td>2223</td>\n",
       "      <td>20840</td>\n",
       "      <td>2016</td>\n",
       "    </tr>\n",
       "    <tr>\n",
       "      <th>23496</th>\n",
       "      <td>150</td>\n",
       "      <td>96</td>\n",
       "      <td>(21160, 2223)</td>\n",
       "      <td>(21037, 2075)</td>\n",
       "      <td>CM1</td>\n",
       "      <td>CM4</td>\n",
       "      <td>vessels</td>\n",
       "      <td>vessels</td>\n",
       "      <td>9</td>\n",
       "      <td>9</td>\n",
       "      <td>95.440913</td>\n",
       "      <td>21160</td>\n",
       "      <td>2223</td>\n",
       "      <td>21037</td>\n",
       "      <td>2075</td>\n",
       "    </tr>\n",
       "  </tbody>\n",
       "</table>\n",
       "</div>"
      ],
      "text/plain": [
       "       objID_1  objID_2         cord_1         cord_2 idx_1 idx_2   mask_1  \\\n",
       "2880        18       72  (21083, 1888)  (20840, 2016)   CM1   CM4  vessels   \n",
       "2904        18       96  (21083, 1888)  (21037, 2075)   CM1   CM4  vessels   \n",
       "23472      150       72  (21160, 2223)  (20840, 2016)   CM1   CM4  vessels   \n",
       "23496      150       96  (21160, 2223)  (21037, 2075)   CM1   CM4  vessels   \n",
       "\n",
       "        mask_2  RID_1  RID_2    Distance     X1    Y1     X2    Y2  \n",
       "2880   vessels      9      9  136.213712  21083  1888  20840  2016  \n",
       "2904   vessels      9      9   95.507896  21083  1888  21037  2075  \n",
       "23472  vessels      9      9  189.015193  21160  2223  20840  2016  \n",
       "23496  vessels      9      9   95.440913  21160  2223  21037  2075  "
      ]
     },
     "execution_count": 74,
     "metadata": {},
     "output_type": "execute_result"
    }
   ],
   "source": [
    "vessel_id = vrf.RID_1.unique().tolist()\n",
    "vessel_id\n",
    "f = vrf.loc[(vrf['idx_1'] == 'CM1') & (vrf['idx_2'] == 'CM4') & (vrf['RID_1'] == 9)]\n",
    "f"
   ]
  },
  {
   "cell_type": "markdown",
   "metadata": {},
   "source": [
    "\n",
    "## Density plot for Vessels cell subtypes paired distances\n",
    "    \n",
    "    \n",
    "  "
   ]
  },
  {
   "cell_type": "code",
   "execution_count": 293,
   "metadata": {},
   "outputs": [],
   "source": [
    "#RID_list = vrf.RID_1.unique().tolist()\n",
    "RID_list = [9]\n",
    "for p in RID_list:\n",
    "    f = vrf.loc[(vrf['idx_1'] == 'CM1') & (vrf['idx_2'] == 'CM4') & (vrf['RID_1'] == p)]\n",
    "    avg_dist = f['Distance'].mean()\n",
    "    g = ggplot(f, aes(x='Distance')) + \\\n",
    "    geom_histogram(color= '#e9a3c9', fill= '#e9a3c9', alpha=.2) + \\\n",
    "    geom_density() + \\\n",
    "    geom_vline(f, aes(xintercept='avg_dist'), color = '#ca0020') + \\\n",
    "    labs(title='Pair-wise CM1_CM4 distances [Vessels + Region_ID_' + str(p) + \"]\")\n",
    "    \n",
    "    ggsave(filename='Vessels_CM1_CM4_'+str(p)+'.png', plot = g, \n",
    "       path = figpath)\n",
    "\n"
   ]
  },
  {
   "cell_type": "code",
   "execution_count": 287,
   "metadata": {},
   "outputs": [
    {
     "data": {
      "text/plain": [
       "array(['NC', 'CM0', 'CM1', 'CM4'], dtype=object)"
      ]
     },
     "execution_count": 287,
     "metadata": {},
     "output_type": "execute_result"
    }
   ],
   "source": [
    "vrf.idx_1.unique()"
   ]
  },
  {
   "cell_type": "markdown",
   "metadata": {},
   "source": [
    "## Vessels Average Distances"
   ]
  },
  {
   "cell_type": "code",
   "execution_count": 292,
   "metadata": {},
   "outputs": [],
   "source": [
    "#listdf = [('CM0', 'CM1'), ('CM0', 'CM4'), ('CM1', 'CM4'), ('CM0', 'all'), ('CM1', 'all'), ('CM4', 'all')]\n",
    "listdf = [('CM0', 'CM1'), ('CM0', 'CM4'), ('CM1', 'CM4')]\n",
    "\n",
    "for p in listdf:\n",
    "    f = vrf.loc[(vrf['idx_1'] == p[0]) & (vrf['idx_2'] == p[1])]\n",
    "    avg_dist = f['Distance'].mean()\n",
    "    g = ggplot(f, aes(x='Distance')) + \\\n",
    "    geom_histogram(color= '#dd1c77', fill= '#c994c7', alpha=.2) + \\\n",
    "    geom_density() + \\\n",
    "    geom_vline(f, aes(xintercept='avg_dist'), color = '#ca0020') + \\\n",
    "    labs(title='Pair-wise [Vessels_' + str(p[0])+  \"_\" + str(p[1]) +  \"]\")\n",
    "    \n",
    "    ggsave(filename='Vessels'+  \"_\" + str(p[0])+ \"_\" + str(p[1]) + '.png', plot = g, \n",
    "       path = figpath)\n",
    "\n",
    "\n"
   ]
  },
  {
   "cell_type": "markdown",
   "metadata": {},
   "source": [
    "### Density Plot of Outside tissue subtypes paired distances"
   ]
  },
  {
   "cell_type": "code",
   "execution_count": 29,
   "metadata": {},
   "outputs": [
    {
     "data": {
      "text/html": [
       "<div>\n",
       "<style scoped>\n",
       "    .dataframe tbody tr th:only-of-type {\n",
       "        vertical-align: middle;\n",
       "    }\n",
       "\n",
       "    .dataframe tbody tr th {\n",
       "        vertical-align: top;\n",
       "    }\n",
       "\n",
       "    .dataframe thead th {\n",
       "        text-align: right;\n",
       "    }\n",
       "</style>\n",
       "<table border=\"1\" class=\"dataframe\">\n",
       "  <thead>\n",
       "    <tr style=\"text-align: right;\">\n",
       "      <th></th>\n",
       "      <th>objID_1</th>\n",
       "      <th>objID_2</th>\n",
       "      <th>cord_1</th>\n",
       "      <th>cord_2</th>\n",
       "      <th>idx_1</th>\n",
       "      <th>idx_2</th>\n",
       "      <th>mask_1</th>\n",
       "      <th>mask_2</th>\n",
       "      <th>RID_1</th>\n",
       "      <th>RID_2</th>\n",
       "      <th>Distance</th>\n",
       "      <th>X1</th>\n",
       "      <th>Y1</th>\n",
       "      <th>X2</th>\n",
       "      <th>Y2</th>\n",
       "    </tr>\n",
       "  </thead>\n",
       "  <tbody>\n",
       "    <tr>\n",
       "      <th>13136</th>\n",
       "      <td>7</td>\n",
       "      <td>389</td>\n",
       "      <td>(27617, 638)</td>\n",
       "      <td>(15932, 1435)</td>\n",
       "      <td>CM4</td>\n",
       "      <td>all</td>\n",
       "      <td>Out</td>\n",
       "      <td>Out</td>\n",
       "      <td>0</td>\n",
       "      <td>0</td>\n",
       "      <td>5808.670300</td>\n",
       "      <td>27617</td>\n",
       "      <td>638</td>\n",
       "      <td>15932</td>\n",
       "      <td>1435</td>\n",
       "    </tr>\n",
       "    <tr>\n",
       "      <th>13971</th>\n",
       "      <td>7</td>\n",
       "      <td>1224</td>\n",
       "      <td>(27617, 638)</td>\n",
       "      <td>(10460, 2149)</td>\n",
       "      <td>CM4</td>\n",
       "      <td>all</td>\n",
       "      <td>Out</td>\n",
       "      <td>Out</td>\n",
       "      <td>0</td>\n",
       "      <td>0</td>\n",
       "      <td>8541.993137</td>\n",
       "      <td>27617</td>\n",
       "      <td>638</td>\n",
       "      <td>10460</td>\n",
       "      <td>2149</td>\n",
       "    </tr>\n",
       "    <tr>\n",
       "      <th>14031</th>\n",
       "      <td>7</td>\n",
       "      <td>1284</td>\n",
       "      <td>(27617, 638)</td>\n",
       "      <td>(8786, 2365)</td>\n",
       "      <td>CM4</td>\n",
       "      <td>all</td>\n",
       "      <td>Out</td>\n",
       "      <td>Out</td>\n",
       "      <td>0</td>\n",
       "      <td>0</td>\n",
       "      <td>9378.475932</td>\n",
       "      <td>27617</td>\n",
       "      <td>638</td>\n",
       "      <td>8786</td>\n",
       "      <td>2365</td>\n",
       "    </tr>\n",
       "    <tr>\n",
       "      <th>14087</th>\n",
       "      <td>7</td>\n",
       "      <td>1340</td>\n",
       "      <td>(27617, 638)</td>\n",
       "      <td>(11693, 2654)</td>\n",
       "      <td>CM4</td>\n",
       "      <td>all</td>\n",
       "      <td>Out</td>\n",
       "      <td>Out</td>\n",
       "      <td>0</td>\n",
       "      <td>0</td>\n",
       "      <td>7960.587581</td>\n",
       "      <td>27617</td>\n",
       "      <td>638</td>\n",
       "      <td>11693</td>\n",
       "      <td>2654</td>\n",
       "    </tr>\n",
       "    <tr>\n",
       "      <th>14343</th>\n",
       "      <td>7</td>\n",
       "      <td>1596</td>\n",
       "      <td>(27617, 638)</td>\n",
       "      <td>(8664, 3153)</td>\n",
       "      <td>CM4</td>\n",
       "      <td>all</td>\n",
       "      <td>Out</td>\n",
       "      <td>Out</td>\n",
       "      <td>0</td>\n",
       "      <td>0</td>\n",
       "      <td>9482.185427</td>\n",
       "      <td>27617</td>\n",
       "      <td>638</td>\n",
       "      <td>8664</td>\n",
       "      <td>3153</td>\n",
       "    </tr>\n",
       "    <tr>\n",
       "      <th>...</th>\n",
       "      <td>...</td>\n",
       "      <td>...</td>\n",
       "      <td>...</td>\n",
       "      <td>...</td>\n",
       "      <td>...</td>\n",
       "      <td>...</td>\n",
       "      <td>...</td>\n",
       "      <td>...</td>\n",
       "      <td>...</td>\n",
       "      <td>...</td>\n",
       "      <td>...</td>\n",
       "      <td>...</td>\n",
       "      <td>...</td>\n",
       "      <td>...</td>\n",
       "      <td>...</td>\n",
       "    </tr>\n",
       "    <tr>\n",
       "      <th>3315828</th>\n",
       "      <td>1820</td>\n",
       "      <td>1608</td>\n",
       "      <td>(19594, 2569)</td>\n",
       "      <td>(6880, 3321)</td>\n",
       "      <td>CM4</td>\n",
       "      <td>all</td>\n",
       "      <td>Out</td>\n",
       "      <td>Out</td>\n",
       "      <td>0</td>\n",
       "      <td>0</td>\n",
       "      <td>6316.560943</td>\n",
       "      <td>19594</td>\n",
       "      <td>2569</td>\n",
       "      <td>6880</td>\n",
       "      <td>3321</td>\n",
       "    </tr>\n",
       "    <tr>\n",
       "      <th>3315829</th>\n",
       "      <td>1820</td>\n",
       "      <td>1609</td>\n",
       "      <td>(19594, 2569)</td>\n",
       "      <td>(6897, 3320)</td>\n",
       "      <td>CM4</td>\n",
       "      <td>all</td>\n",
       "      <td>Out</td>\n",
       "      <td>Out</td>\n",
       "      <td>0</td>\n",
       "      <td>0</td>\n",
       "      <td>6308.115176</td>\n",
       "      <td>19594</td>\n",
       "      <td>2569</td>\n",
       "      <td>6897</td>\n",
       "      <td>3320</td>\n",
       "    </tr>\n",
       "    <tr>\n",
       "      <th>3315830</th>\n",
       "      <td>1820</td>\n",
       "      <td>1610</td>\n",
       "      <td>(19594, 2569)</td>\n",
       "      <td>(6895, 3338)</td>\n",
       "      <td>CM4</td>\n",
       "      <td>all</td>\n",
       "      <td>Out</td>\n",
       "      <td>Out</td>\n",
       "      <td>0</td>\n",
       "      <td>0</td>\n",
       "      <td>6309.638661</td>\n",
       "      <td>19594</td>\n",
       "      <td>2569</td>\n",
       "      <td>6895</td>\n",
       "      <td>3338</td>\n",
       "    </tr>\n",
       "    <tr>\n",
       "      <th>3315973</th>\n",
       "      <td>1820</td>\n",
       "      <td>1753</td>\n",
       "      <td>(19594, 2569)</td>\n",
       "      <td>(6975, 3374)</td>\n",
       "      <td>CM4</td>\n",
       "      <td>all</td>\n",
       "      <td>Out</td>\n",
       "      <td>Out</td>\n",
       "      <td>0</td>\n",
       "      <td>0</td>\n",
       "      <td>6271.146808</td>\n",
       "      <td>19594</td>\n",
       "      <td>2569</td>\n",
       "      <td>6975</td>\n",
       "      <td>3374</td>\n",
       "    </tr>\n",
       "    <tr>\n",
       "      <th>3316034</th>\n",
       "      <td>1820</td>\n",
       "      <td>1814</td>\n",
       "      <td>(19594, 2569)</td>\n",
       "      <td>(18165, 2598)</td>\n",
       "      <td>CM4</td>\n",
       "      <td>all</td>\n",
       "      <td>Out</td>\n",
       "      <td>Out</td>\n",
       "      <td>0</td>\n",
       "      <td>0</td>\n",
       "      <td>708.862136</td>\n",
       "      <td>19594</td>\n",
       "      <td>2569</td>\n",
       "      <td>18165</td>\n",
       "      <td>2598</td>\n",
       "    </tr>\n",
       "  </tbody>\n",
       "</table>\n",
       "<p>4697 rows × 15 columns</p>\n",
       "</div>"
      ],
      "text/plain": [
       "         objID_1  objID_2         cord_1         cord_2 idx_1 idx_2 mask_1  \\\n",
       "13136          7      389   (27617, 638)  (15932, 1435)   CM4   all    Out   \n",
       "13971          7     1224   (27617, 638)  (10460, 2149)   CM4   all    Out   \n",
       "14031          7     1284   (27617, 638)   (8786, 2365)   CM4   all    Out   \n",
       "14087          7     1340   (27617, 638)  (11693, 2654)   CM4   all    Out   \n",
       "14343          7     1596   (27617, 638)   (8664, 3153)   CM4   all    Out   \n",
       "...          ...      ...            ...            ...   ...   ...    ...   \n",
       "3315828     1820     1608  (19594, 2569)   (6880, 3321)   CM4   all    Out   \n",
       "3315829     1820     1609  (19594, 2569)   (6897, 3320)   CM4   all    Out   \n",
       "3315830     1820     1610  (19594, 2569)   (6895, 3338)   CM4   all    Out   \n",
       "3315973     1820     1753  (19594, 2569)   (6975, 3374)   CM4   all    Out   \n",
       "3316034     1820     1814  (19594, 2569)  (18165, 2598)   CM4   all    Out   \n",
       "\n",
       "        mask_2  RID_1  RID_2     Distance     X1    Y1     X2    Y2  \n",
       "13136      Out      0      0  5808.670300  27617   638  15932  1435  \n",
       "13971      Out      0      0  8541.993137  27617   638  10460  2149  \n",
       "14031      Out      0      0  9378.475932  27617   638   8786  2365  \n",
       "14087      Out      0      0  7960.587581  27617   638  11693  2654  \n",
       "14343      Out      0      0  9482.185427  27617   638   8664  3153  \n",
       "...        ...    ...    ...          ...    ...   ...    ...   ...  \n",
       "3315828    Out      0      0  6316.560943  19594  2569   6880  3321  \n",
       "3315829    Out      0      0  6308.115176  19594  2569   6897  3320  \n",
       "3315830    Out      0      0  6309.638661  19594  2569   6895  3338  \n",
       "3315973    Out      0      0  6271.146808  19594  2569   6975  3374  \n",
       "3316034    Out      0      0   708.862136  19594  2569  18165  2598  \n",
       "\n",
       "[4697 rows x 15 columns]"
      ]
     },
     "execution_count": 29,
     "metadata": {},
     "output_type": "execute_result"
    }
   ],
   "source": [
    "out_id = orf.RID_1.unique()\n",
    "            \n",
    "f = orf.loc[(orf['idx_1'] == 'CM4') & (orf['idx_2'] == 'all') & (orf['RID_1'] == int(out_id))]\n",
    "f\n",
    "\n"
   ]
  },
  {
   "cell_type": "code",
   "execution_count": 290,
   "metadata": {},
   "outputs": [],
   "source": [
    "#RID_list = vrf.RID_1.unique().tolist()\n",
    "RID_list = orf.RID_1.unique().tolist()\n",
    "for p in RID_list:\n",
    "    f = orf.loc[(orf['idx_1'] == 'CM4') & (orf['idx_2'] == 'all') & (orf['RID_1'] == p)]\n",
    "    avg_dist = f['Distance'].mean()\n",
    "    g = ggplot(f, aes(x='Distance')) + \\\n",
    "    geom_histogram(color= '#3182bd', fill= '#3182bd', alpha=.2) + \\\n",
    "    geom_density() + \\\n",
    "    geom_vline(f, aes(xintercept='avg_dist'), color = '#ca0020') + \\\n",
    "    labs(title='Pair-wise CM4_all distances [Outside tissue + Region_ID_' + str(p) + \"]\")\n",
    "    \n",
    "    ggsave(filename='Outside-tissue_CM4_all_'+str(p)+'.png', plot = g, \n",
    "       path = figpath)\n",
    "\n"
   ]
  },
  {
   "cell_type": "markdown",
   "metadata": {},
   "source": [
    "## Outside Average Distances"
   ]
  },
  {
   "cell_type": "code",
   "execution_count": 291,
   "metadata": {},
   "outputs": [],
   "source": [
    "listdf = [('CM0', 'CM1'), ('CM0', 'CM4'), ('CM1', 'CM4'), ('CM0', 'all'), ('CM1', 'all'), ('CM4', 'all')]\n",
    "\n",
    "for p in listdf:\n",
    "    f = orf.loc[(orf['idx_1'] == p[0]) & (orf['idx_2'] == p[1])]\n",
    "    avg_dist = f['Distance'].mean()\n",
    "    g = ggplot(f, aes(x='Distance')) + \\\n",
    "    geom_histogram(color= '#af8dc3', fill= '#7fbf7b', alpha=.2) + \\\n",
    "    geom_density() + \\\n",
    "    geom_vline(f, aes(xintercept='avg_dist'), color = '#ca0020') + \\\n",
    "    labs(title='Pair-wise [Ouside_' + str(p[0])+  \"_\" + str(p[1]) +  \"]\")\n",
    "    \n",
    "    ggsave(filename='Outside'+  \"_\" + str(p[0])+ \"_\" + str(p[1]) + '.png', plot = g, \n",
    "       path = figpath)\n",
    "\n",
    "\n"
   ]
  },
  {
   "cell_type": "code",
   "execution_count": null,
   "metadata": {},
   "outputs": [],
   "source": [
    "\n",
    "p = gg.ggplot(f) + \\\n",
    "    gg.geom_point(gg.aes(x='X1', y='Y1'), size = 0.5, color = \"#9ecae1\") + \\\n",
    "    gg.xlab(\"X\") + \\\n",
    "    gg.ylab(\"Y\") + \\\n",
    "    gg.ggtitle(\"Distribution of Cell types in a tissue space\") + \\\n",
    "    gg.geom_point(gg.aes(x='X2', y='Y2'), size = 0.5, color = \"#de2d26\")\n",
    "   \n",
    "\n",
    "\n",
    "    \n",
    "\n",
    "#ggsave(filename='cell_classification.png', plot = p, \n",
    "       #path = '/Users/habbasi/Desktop/012120_Halo_outputs/Figures')\n",
    "\n"
   ]
  },
  {
   "cell_type": "code",
   "execution_count": null,
   "metadata": {},
   "outputs": [],
   "source": [
    "distlist = [15, 25, 50, 100, 250, 500, 1000, 2000]\n",
    "\n",
    "for i, p in enumerate(distlist):\n",
    "    \n",
    "    f2 = f.loc[final['Distance'] <= p]\n",
    "    g = gg.ggplot(f2) + \\\n",
    "    gg.geom_point(gg.aes(x='X1', y='Y1'), size = 0.5, color = \"#9ecae1\") + \\\n",
    "    gg.xlab(\"X\") + \\\n",
    "    gg.ylab(\"Y\") + \\\n",
    "    gg.labs(title= 'Distance_' +  str(p) + 'um') + \\\n",
    "    gg.geom_point(gg.aes(x='X2', y='Y2'), size = 0.5, color = \"#de2d26\") \n",
    "    ggsave(filename=str(p)+'.png', plot = g, \n",
    "       path = '../Figures/')\n",
    "    \n",
    "   \n",
    "\n",
    "\n",
    "    \n",
    "\n",
    "\n",
    "\n",
    "\n",
    "\n"
   ]
  },
  {
   "cell_type": "code",
   "execution_count": null,
   "metadata": {},
   "outputs": [],
   "source": [
    "# %reload_ext rpy2.ipython\n",
    "# %R -i new"
   ]
  },
  {
   "cell_type": "code",
   "execution_count": null,
   "metadata": {},
   "outputs": [],
   "source": [
    "# %reload_ext rpy2.ipython\n",
    "# %R -i data\n",
    "\n",
    "# from rpy2.robjects.packages import importr\n",
    "# import rpy2.robjects as ro\n",
    "\n",
    "# stats = importr('stats')\n",
    "# base = importr('base')\n",
    "# tidy = importr('tidyverse')\n",
    "# akima = importr('akima')\n",
    "\n",
    "\n",
    "# data.to_csv('../Data/data.csv')"
   ]
  },
  {
   "cell_type": "code",
   "execution_count": null,
   "metadata": {},
   "outputs": [],
   "source": [
    "# data_anno = \n",
    "\n",
    "# for i, p in enumerate(labels):\n",
    "#         poly = d[d.Annotation == str(p)]\n",
    "#         row, col = polygon(np.array(poly.X), np.array(poly.Y))\n",
    "# #         plt.plot(row, col)\n",
    "# #         plt.show()\n",
    "#         mask = [m for m in zip(row, col)]\n",
    "#         dt = [t for t in zip(data.X, data.Y)]\n",
    "#         d_mask = Intersection(dt,mask)\n",
    "#         dt_mask = pd.DataFrame(d_mask, columns=['X', 'Y'])\n",
    "#         dt_mask['Mask'] = str(p)\n",
    "#         data_anno.append(dt_mask)"
   ]
  }
 ],
 "metadata": {
  "kernelspec": {
   "display_name": "Python 3",
   "language": "python",
   "name": "python3"
  },
  "language_info": {
   "codemirror_mode": {
    "name": "ipython",
    "version": 3
   },
   "file_extension": ".py",
   "mimetype": "text/x-python",
   "name": "python",
   "nbconvert_exporter": "python",
   "pygments_lexer": "ipython3",
   "version": "3.7.6"
  }
 },
 "nbformat": 4,
 "nbformat_minor": 2
}
