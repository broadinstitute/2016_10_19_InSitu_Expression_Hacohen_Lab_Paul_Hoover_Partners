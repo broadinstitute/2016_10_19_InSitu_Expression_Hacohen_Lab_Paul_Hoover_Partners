{
 "cells": [
  {
   "cell_type": "code",
   "execution_count": 13,
   "metadata": {},
   "outputs": [],
   "source": [
    "\n",
    "import os\n",
    "import pandas as pd\n",
    "import numpy as np\n",
    "import glob\n",
    "import plotnine as gg\n",
    "import re\n",
    "from plotnine import *\n",
    "import matplotlib.pyplot as plt\n",
    "\n",
    "\n"
   ]
  },
  {
   "cell_type": "code",
   "execution_count": 14,
   "metadata": {},
   "outputs": [],
   "source": [
    "figpath = '../Figures/ExpPHa07_1d/'"
   ]
  },
  {
   "cell_type": "markdown",
   "metadata": {},
   "source": [
    "## Loading data"
   ]
  },
  {
   "cell_type": "markdown",
   "metadata": {},
   "source": [
    "### Tissue data csv"
   ]
  },
  {
   "cell_type": "code",
   "execution_count": 17,
   "metadata": {},
   "outputs": [],
   "source": [
    "data = pd.read_csv('../data/ExpPHa07_1/ExpPHa07_1_d.tif_2583_job2995.object_results.csv')\n",
    "\n",
    "# Renaming of column names\n",
    "\n",
    "data.columns = [col.replace(' ', '_') for col in data.columns]\n",
    "\n",
    "## Extracting tissue image names from filenames\n",
    "\n",
    "data['Image_Location'] = pd.DataFrame(data.loc[:, 'Image_Location']\n",
    "                                      .str.split('\\\\')\n",
    "                                      .str.get(9)\n",
    "                                      .str.replace('.tif', ''))\n",
    "\n",
    "data = (data\n",
    "        .rename(columns={'Image_Location': 'Image_ID'})\n",
    "        .drop(columns = ['Analysis_Region', 'Analysis_Inputs'])  \n",
    "       )"
   ]
  },
  {
   "cell_type": "markdown",
   "metadata": {},
   "source": [
    "### Annotations csv file"
   ]
  },
  {
   "cell_type": "code",
   "execution_count": 18,
   "metadata": {},
   "outputs": [],
   "source": [
    "\n",
    "anno = pd.read_csv('../data/ExpPHa07_1/annotations/ExpPHa07_1_d_2583.csv', skiprows=[0])\n",
    "\n",
    "skipcolumns = [0,2,4,5,6]\n",
    "\n",
    "d = (anno.drop(anno.columns[skipcolumns], axis=1)\n",
    "     .rename(columns={'/Annotation/@Name': 'Annotation',\n",
    "                      '/Annotation/#id': 'Id',\n",
    "                      '/Annotation/Regions/Region/#id': 'Region_ID',\n",
    "                      '/Annotation/Regions/Region/Vertices/V/@X': 'X',\n",
    "                      '/Annotation/Regions/Region/Vertices/V/@Y': 'Y'})\n",
    "    )\n",
    "\n",
    "\n",
    "\n",
    "d['Image_ID'] = data.Image_ID[0]\n",
    "\n",
    "d = d[['Image_ID','Region_ID','Annotation', 'X', 'Y']]\n"
   ]
  },
  {
   "cell_type": "code",
   "execution_count": 19,
   "metadata": {},
   "outputs": [
    {
     "data": {
      "text/html": [
       "<div>\n",
       "<style scoped>\n",
       "    .dataframe tbody tr th:only-of-type {\n",
       "        vertical-align: middle;\n",
       "    }\n",
       "\n",
       "    .dataframe tbody tr th {\n",
       "        vertical-align: top;\n",
       "    }\n",
       "\n",
       "    .dataframe thead th {\n",
       "        text-align: right;\n",
       "    }\n",
       "</style>\n",
       "<table border=\"1\" class=\"dataframe\">\n",
       "  <thead>\n",
       "    <tr style=\"text-align: right;\">\n",
       "      <th></th>\n",
       "      <th>Image_ID</th>\n",
       "      <th>Region_ID</th>\n",
       "      <th>Annotation</th>\n",
       "      <th>X</th>\n",
       "      <th>Y</th>\n",
       "    </tr>\n",
       "  </thead>\n",
       "  <tbody>\n",
       "    <tr>\n",
       "      <th>0</th>\n",
       "      <td>ExpPHa07_1_d</td>\n",
       "      <td>1</td>\n",
       "      <td>outline</td>\n",
       "      <td>29114</td>\n",
       "      <td>162</td>\n",
       "    </tr>\n",
       "    <tr>\n",
       "      <th>1</th>\n",
       "      <td>ExpPHa07_1_d</td>\n",
       "      <td>1</td>\n",
       "      <td>outline</td>\n",
       "      <td>29120</td>\n",
       "      <td>165</td>\n",
       "    </tr>\n",
       "    <tr>\n",
       "      <th>2</th>\n",
       "      <td>ExpPHa07_1_d</td>\n",
       "      <td>1</td>\n",
       "      <td>outline</td>\n",
       "      <td>29086</td>\n",
       "      <td>232</td>\n",
       "    </tr>\n",
       "    <tr>\n",
       "      <th>3</th>\n",
       "      <td>ExpPHa07_1_d</td>\n",
       "      <td>1</td>\n",
       "      <td>outline</td>\n",
       "      <td>29086</td>\n",
       "      <td>238</td>\n",
       "    </tr>\n",
       "    <tr>\n",
       "      <th>4</th>\n",
       "      <td>ExpPHa07_1_d</td>\n",
       "      <td>1</td>\n",
       "      <td>outline</td>\n",
       "      <td>29132</td>\n",
       "      <td>326</td>\n",
       "    </tr>\n",
       "  </tbody>\n",
       "</table>\n",
       "</div>"
      ],
      "text/plain": [
       "       Image_ID  Region_ID Annotation      X    Y\n",
       "0  ExpPHa07_1_d          1    outline  29114  162\n",
       "1  ExpPHa07_1_d          1    outline  29120  165\n",
       "2  ExpPHa07_1_d          1    outline  29086  232\n",
       "3  ExpPHa07_1_d          1    outline  29086  238\n",
       "4  ExpPHa07_1_d          1    outline  29132  326"
      ]
     },
     "execution_count": 19,
     "metadata": {},
     "output_type": "execute_result"
    }
   ],
   "source": [
    "d.head()"
   ]
  },
  {
   "cell_type": "markdown",
   "metadata": {},
   "source": [
    "### Function to Calculate Centroids of the rectangular bounding boxes"
   ]
  },
  {
   "cell_type": "markdown",
   "metadata": {},
   "source": [
    "### Note:\n",
    "### 1st step: calculating center of detected objects by calculating center of bounding boxes"
   ]
  },
  {
   "cell_type": "code",
   "execution_count": 20,
   "metadata": {},
   "outputs": [],
   "source": [
    "# Use the height and width to calculate the area\n",
    "def X_centroid(row):\n",
    "    X = int(row['XMin'] + row['XMax'])/2\n",
    "\n",
    "    return int(X)\n",
    "\n",
    "def Y_centroid(row):\n",
    "    Y = int(row['YMin'] + row['YMax'])/2\n",
    "    return int(Y)\n",
    "\n",
    "data['X'] = data.apply(X_centroid, axis=1)\n",
    "data['Y'] = data.apply(Y_centroid, axis=1)\n"
   ]
  },
  {
   "cell_type": "markdown",
   "metadata": {},
   "source": [
    "### Function of Cell Classification"
   ]
  },
  {
   "cell_type": "code",
   "execution_count": 21,
   "metadata": {},
   "outputs": [],
   "source": [
    "def classification(row):\n",
    "    \n",
    "    if (row['Opal_520_Classification'] >= 3) & (row['Opal_570_Classification'] < 2) & (row['Opal_620_Classification'] < 2) & (row['Opal_690_Classification'] < 2):\n",
    "        return 'CM0'\n",
    "    elif (row['Opal_520_Classification'] < 2) & (row['Opal_570_Classification'] >= 3) & (row['Opal_620_Classification'] < 2) & (row['Opal_690_Classification'] < 2):\n",
    "        return 'CM4'\n",
    "    elif (row['Opal_520_Classification'] == 0) & (row['Opal_570_Classification'] == 0) & (row['Opal_620_Classification'] >= 3) & (row['Opal_690_Classification'] == 0):\n",
    "        return 'all'\n",
    "    elif (row['Opal_520_Classification'] < 2) & (row['Opal_570_Classification'] < 2) & (row['Opal_620_Classification'] < 2) & (row['Opal_690_Classification'] >= 3):\n",
    "        return 'CM1'\n",
    "    else:\n",
    "        return 'NC'\n",
    "    \n",
    "    "
   ]
  },
  {
   "cell_type": "markdown",
   "metadata": {},
   "source": [
    "### Applying Classification Function"
   ]
  },
  {
   "cell_type": "code",
   "execution_count": 22,
   "metadata": {},
   "outputs": [
    {
     "data": {
      "text/plain": [
       "array(['NC', 'CM0', 'CM1', 'CM4', 'all'], dtype=object)"
      ]
     },
     "execution_count": 22,
     "metadata": {},
     "output_type": "execute_result"
    }
   ],
   "source": [
    "data['Classification'] = data.apply(classification, axis=1)\n",
    "\n",
    "data['Classification'].unique()"
   ]
  },
  {
   "cell_type": "markdown",
   "metadata": {},
   "source": [
    "## Creating Mask "
   ]
  },
  {
   "cell_type": "markdown",
   "metadata": {},
   "source": [
    "### Note:\n",
    "1) Annotated regions are filled using polygon function(Skimage)\n",
    "\n",
    "2) Cell coordinates were matched with masked region and separate dataframe is generated"
   ]
  },
  {
   "cell_type": "code",
   "execution_count": 23,
   "metadata": {},
   "outputs": [],
   "source": [
    "from skimage.draw import polygon\n",
    "\n",
    "\n",
    "def Intersection(data, mask): \n",
    "    return set(dt).intersection(set(mask))\n",
    "\n",
    "fmask = []\n",
    "\n",
    "## Glomerulus Mask\n",
    "\n",
    "glom_id = d.loc[d['Annotation'] == \"gloms\"]['Region_ID'].unique().tolist()\n",
    "glom_label = ['gloms'] * len(glom_id)\n",
    "\n",
    "gf = []\n",
    "for p in glom_id:\n",
    "    poly = d[(d.Annotation == 'gloms') & (d.Region_ID == p)]\n",
    "    row, col = polygon(np.array(poly.X),\n",
    "                         np.array(poly.Y))\n",
    "    mask = [m for m in zip(row, col)]\n",
    "    dt = [t for t in zip(data.X, data.Y)]\n",
    "    d_mask = Intersection(dt,mask)\n",
    "    g = pd.DataFrame(d_mask, columns=['X', 'Y'])\n",
    "    g['mask'] = 'gloms'\n",
    "    g['Region_ID'] = p\n",
    "        \n",
    "    gf.append(g)\n",
    "gmask = pd.concat(gf)\n",
    "    \n",
    "\n",
    "\n",
    "\n",
    "### Vessels Mask\n",
    "\n",
    "vessel_id = d.loc[d['Annotation'] == \"vessels\"]['Region_ID'].unique().tolist()\n",
    "vessel_label = ['vessels'] * len(vessel_id)\n",
    "vf = []\n",
    "\n",
    "for p in vessel_id:\n",
    "   \n",
    "    poly = d[(d.Annotation == 'vessels') & (d.Region_ID == p)]\n",
    "    row, col = polygon(np.array(poly.X),\n",
    "                         np.array(poly.Y))\n",
    "    mask = [m for m in zip(row, col)]\n",
    "    dt = [t for t in zip(data.X, data.Y)]\n",
    "    d_mask = Intersection(dt,mask)\n",
    "    v = pd.DataFrame(d_mask, columns=['X', 'Y'])\n",
    "    v['mask'] = 'vessels'\n",
    "    v['Region_ID'] = p\n",
    "        \n",
    "    vf.append(v)\n",
    "vmask= pd.concat(vf)\n",
    "\n",
    "\n",
    "fmask = pd.DataFrame(gmask.append(vmask))    \n"
   ]
  },
  {
   "cell_type": "code",
   "execution_count": 24,
   "metadata": {},
   "outputs": [
    {
     "data": {
      "text/plain": [
       "(1619, 4)"
      ]
     },
     "execution_count": 24,
     "metadata": {},
     "output_type": "execute_result"
    }
   ],
   "source": []
  },
  {
   "cell_type": "code",
   "execution_count": 11,
   "metadata": {},
   "outputs": [],
   "source": [
    "# from skimage.draw import polygon\n",
    "\n",
    "\n",
    "# def Intersection(data, mask): \n",
    "#     return set(dt).intersection(set(mask))\n",
    "\n",
    "\n",
    "# labels = ['vessels', 'gloms', 'gloms']\n",
    "# ID = [4,2,3]\n",
    "\n",
    "      \n",
    "# fmask = []\n",
    "          \n",
    "\n",
    "# for p, j in zip(labels, ID):\n",
    "#     if p == \"vessels\" and j == 4:\n",
    "#         poly = d[(d.Annotation == str(p)) & (d.Region_ID == j)]\n",
    "#         row, col = polygon(np.array(poly.X),\n",
    "#                          np.array(poly.Y))\n",
    "#         mask = [m for m in zip(row, col)]\n",
    "#         dt = [t for t in zip(data.X, data.Y)]\n",
    "#         d_mask = Intersection(dt,mask)\n",
    "#         v = pd.DataFrame(d_mask, columns=['X', 'Y'])\n",
    "#         v['mask'] = str(p)\n",
    "#         v['Region_ID'] = j\n",
    "        \n",
    "#     elif p == \"gloms\" and j == 2:\n",
    "#         poly = d[(d.Annotation == str(p)) & (d.Region_ID == j)]\n",
    "#         row, col = polygon(np.array(poly.X),\n",
    "#                          np.array(poly.Y))\n",
    "#         mask = [m for m in zip(row, col)]\n",
    "#         dt = [t for t in zip(data.X, data.Y)]\n",
    "#         d_mask = Intersection(dt,mask)\n",
    "#         g1 = pd.DataFrame(d_mask, columns=['X', 'Y'])\n",
    "#         g1['mask'] = str(p)\n",
    "#         g1['Region_ID'] = j\n",
    "    \n",
    "#     elif p == \"gloms\" and j == 3:\n",
    "#         poly = d[(d.Annotation == str(p))& (d.Region_ID == j)]\n",
    "#         row, col = polygon(np.array(poly.X),\n",
    "#                          np.array(poly.Y))\n",
    "#         mask = [m for m in zip(row, col)]\n",
    "#         dt = [t for t in zip(data.X, data.Y)]\n",
    "#         d_mask = Intersection(dt,mask)\n",
    "#         g2 = pd.DataFrame(d_mask, columns=['X', 'Y'])\n",
    "#         g2['mask'] = str(p)\n",
    "#         g2['Region_ID'] = j\n",
    "        \n",
    "  \n",
    "# fmask = pd.DataFrame(v.append([g1, g2]))\n",
    "\n",
    "\n",
    "\n"
   ]
  },
  {
   "cell_type": "markdown",
   "metadata": {},
   "source": [
    "### Merging of Dataframes and replacing NaN values with \"Out\" for mask column  and 0 for Region_ID columns"
   ]
  },
  {
   "cell_type": "code",
   "execution_count": 25,
   "metadata": {},
   "outputs": [],
   "source": [
    "\n",
    "final =  data.merge(fmask,how='left', on=['X', 'Y'])\n",
    "(final['mask']\n",
    " .fillna('Out', inplace=True)\n",
    ")\n",
    "(final['Region_ID']\n",
    " .fillna(0, inplace=True)\n",
    ")\n",
    "\n",
    "final['Region_ID'] = final['Region_ID'].astype(int)\n"
   ]
  },
  {
   "cell_type": "code",
   "execution_count": 26,
   "metadata": {},
   "outputs": [
    {
     "data": {
      "text/plain": [
       "array(['Out', 'gloms', 'vessels'], dtype=object)"
      ]
     },
     "execution_count": 26,
     "metadata": {},
     "output_type": "execute_result"
    }
   ],
   "source": [
    "final['mask'].unique()"
   ]
  },
  {
   "cell_type": "markdown",
   "metadata": {},
   "source": [
    "### Plotting with unique annotation label ID\n",
    "      "
   ]
  },
  {
   "cell_type": "code",
   "execution_count": 27,
   "metadata": {
    "scrolled": true
   },
   "outputs": [
    {
     "name": "stderr",
     "output_type": "stream",
     "text": [
      "/Library/Frameworks/Python.framework/Versions/3.8/lib/python3.8/site-packages/plotnine/ggplot.py:727: PlotnineWarning: Saving 6.4 x 4.8 in image.\n",
      "  warn(\"Saving {0} x {1} {2} image.\".format(\n",
      "/Library/Frameworks/Python.framework/Versions/3.8/lib/python3.8/site-packages/plotnine/ggplot.py:730: PlotnineWarning: Filename: ../Figures/ExpPHa07_1d/Masked_tissue_Figure1.png\n",
      "  warn('Filename: {}'.format(filename), PlotnineWarning)\n"
     ]
    }
   ],
   "source": [
    "\n",
    "\n",
    "p = (\n",
    "    ggplot(final)\n",
    "    + geom_point(gg.aes(x='X', y='Y', color = 'Region_ID'), size = 0.5) \n",
    "    + xlab(\"X\") \n",
    "    + ylab(\"Y\")\n",
    "    + labs(title= 'Annotated tissue regions')\n",
    "#     + scale_colour_manual(name= \"Tissue compartment\", \n",
    "#                            labels=['Outside','Glomerulus_2', 'Glomerulus_3', 'Glomerulus_3',], \n",
    "#                            values = [\"#fde0ef\",\"#e41a1c\", \"#984ea3\",\"#1f78b4\"])\n",
    "    \n",
    ")\n",
    "\n",
    "ggsave(filename='Masked_tissue_Figure1.png', plot = p, path = figpath)\n",
    "\n",
    "\n"
   ]
  },
  {
   "cell_type": "markdown",
   "metadata": {},
   "source": [
    "### Plotting with unique compartments"
   ]
  },
  {
   "cell_type": "code",
   "execution_count": 28,
   "metadata": {},
   "outputs": [
    {
     "name": "stderr",
     "output_type": "stream",
     "text": [
      "/Library/Frameworks/Python.framework/Versions/3.8/lib/python3.8/site-packages/plotnine/ggplot.py:727: PlotnineWarning: Saving 6.4 x 4.8 in image.\n",
      "  warn(\"Saving {0} x {1} {2} image.\".format(\n",
      "/Library/Frameworks/Python.framework/Versions/3.8/lib/python3.8/site-packages/plotnine/ggplot.py:730: PlotnineWarning: Filename: ../Figures/ExpPHa07_1d/Masked_tissue_Figure2.png\n",
      "  warn('Filename: {}'.format(filename), PlotnineWarning)\n"
     ]
    }
   ],
   "source": [
    "p = (\n",
    "    ggplot(final)\n",
    "    + geom_point(gg.aes(x='X', y='Y', color = 'mask'), size = 0.5) \n",
    "    + xlab(\"X\") \n",
    "    + ylab(\"Y\")\n",
    "    + labs(title= 'Annotated tissue regions')\n",
    "#     + scale_colour_manual(name= \"Tissue compartment\", \n",
    "#                            labels=['Outside','Glomerulus_2', 'Glomerulus_3', 'Glomerulus_3',], \n",
    "#                            values = [\"#fde0ef\",\"#e41a1c\", \"#984ea3\",\"#1f78b4\"])\n",
    "    \n",
    ")\n",
    "\n",
    "ggsave(filename='Masked_tissue_Figure2.png', plot = p, path = figpath)"
   ]
  },
  {
   "cell_type": "markdown",
   "metadata": {},
   "source": [
    "### Plotting of annotations"
   ]
  },
  {
   "cell_type": "code",
   "execution_count": 29,
   "metadata": {},
   "outputs": [
    {
     "name": "stderr",
     "output_type": "stream",
     "text": [
      "/Library/Frameworks/Python.framework/Versions/3.8/lib/python3.8/site-packages/plotnine/ggplot.py:727: PlotnineWarning: Saving 6.4 x 4.8 in image.\n",
      "  warn(\"Saving {0} x {1} {2} image.\".format(\n",
      "/Library/Frameworks/Python.framework/Versions/3.8/lib/python3.8/site-packages/plotnine/ggplot.py:730: PlotnineWarning: Filename: ../Figures/ExpPHa07_1d/Annotations_Figure1.png\n",
      "  warn('Filename: {}'.format(filename), PlotnineWarning)\n"
     ]
    },
    {
     "data": {
      "image/png": "[encoded data removed]",
      "text/plain": [
       "<Figure size 640x480 with 1 Axes>"
      ]
     },
     "metadata": {},
     "output_type": "display_data"
    },
    {
     "data": {
      "text/plain": [
       "<ggplot: (349388593)>"
      ]
     },
     "execution_count": 29,
     "metadata": {},
     "output_type": "execute_result"
    }
   ],
   "source": [
    "\n",
    "\n",
    "p = (\n",
    "    ggplot(d)\n",
    "    + geom_point(gg.aes(x='X', y='Y', color='Annotation' ), size = 0.5) \n",
    "    + xlab(\"X\") \n",
    "    + ylab(\"Y\")\n",
    "    + labs(title= 'Annotated Tissue')\n",
    "    + scale_colour_manual(name= \"Tissue compartment\", \n",
    "                           labels=['Glomerulus', 'Outline', 'Vessels'], \n",
    "                           values = [\"#f03b20\", \"#31a354\", \"#3182bd\"])\n",
    "    \n",
    ")\n",
    "ggsave(filename='Annotations_Figure1.png', plot = p, path = figpath)\n",
    "\n",
    "p\n",
    "\n"
   ]
  },
  {
   "cell_type": "code",
   "execution_count": 30,
   "metadata": {},
   "outputs": [
    {
     "data": {
      "text/html": [
       "<div>\n",
       "<style scoped>\n",
       "    .dataframe tbody tr th:only-of-type {\n",
       "        vertical-align: middle;\n",
       "    }\n",
       "\n",
       "    .dataframe tbody tr th {\n",
       "        vertical-align: top;\n",
       "    }\n",
       "\n",
       "    .dataframe thead th {\n",
       "        text-align: right;\n",
       "    }\n",
       "</style>\n",
       "<table border=\"1\" class=\"dataframe\">\n",
       "  <thead>\n",
       "    <tr style=\"text-align: right;\">\n",
       "      <th></th>\n",
       "      <th>Image_ID</th>\n",
       "      <th>Object_Id</th>\n",
       "      <th>XMin</th>\n",
       "      <th>XMax</th>\n",
       "      <th>YMin</th>\n",
       "      <th>YMax</th>\n",
       "      <th>Opal_520_Copies</th>\n",
       "      <th>Opal_520_Area_(µm²)</th>\n",
       "      <th>Opal_520_Classification</th>\n",
       "      <th>Opal_520_Cell_Intensity</th>\n",
       "      <th>...</th>\n",
       "      <th>Cell_Area_(µm²)</th>\n",
       "      <th>Cytoplasm_Area_(µm²)</th>\n",
       "      <th>Nucleus_Area_(µm²)</th>\n",
       "      <th>Nucleus_Perimeter_(µm)</th>\n",
       "      <th>Nucleus_Roundness</th>\n",
       "      <th>X</th>\n",
       "      <th>Y</th>\n",
       "      <th>Classification</th>\n",
       "      <th>mask</th>\n",
       "      <th>Region_ID</th>\n",
       "    </tr>\n",
       "  </thead>\n",
       "  <tbody>\n",
       "    <tr>\n",
       "      <th>0</th>\n",
       "      <td>ExpPHa07_1_d</td>\n",
       "      <td>0</td>\n",
       "      <td>27795</td>\n",
       "      <td>27819</td>\n",
       "      <td>407</td>\n",
       "      <td>432</td>\n",
       "      <td>2</td>\n",
       "      <td>0.491938</td>\n",
       "      <td>1</td>\n",
       "      <td>0.124638</td>\n",
       "      <td>...</td>\n",
       "      <td>112.40780</td>\n",
       "      <td>77.48022</td>\n",
       "      <td>34.92759</td>\n",
       "      <td>24.79763</td>\n",
       "      <td>0.806687</td>\n",
       "      <td>27807</td>\n",
       "      <td>419</td>\n",
       "      <td>NC</td>\n",
       "      <td>Out</td>\n",
       "      <td>0</td>\n",
       "    </tr>\n",
       "    <tr>\n",
       "      <th>1</th>\n",
       "      <td>ExpPHa07_1_d</td>\n",
       "      <td>1</td>\n",
       "      <td>27780</td>\n",
       "      <td>27797</td>\n",
       "      <td>423</td>\n",
       "      <td>440</td>\n",
       "      <td>3</td>\n",
       "      <td>0.491938</td>\n",
       "      <td>1</td>\n",
       "      <td>0.695621</td>\n",
       "      <td>...</td>\n",
       "      <td>62.72208</td>\n",
       "      <td>46.98007</td>\n",
       "      <td>15.74201</td>\n",
       "      <td>16.86239</td>\n",
       "      <td>0.722899</td>\n",
       "      <td>27788</td>\n",
       "      <td>431</td>\n",
       "      <td>NC</td>\n",
       "      <td>Out</td>\n",
       "      <td>0</td>\n",
       "    </tr>\n",
       "    <tr>\n",
       "      <th>2</th>\n",
       "      <td>ExpPHa07_1_d</td>\n",
       "      <td>2</td>\n",
       "      <td>27762</td>\n",
       "      <td>27779</td>\n",
       "      <td>426</td>\n",
       "      <td>446</td>\n",
       "      <td>9</td>\n",
       "      <td>4.427441</td>\n",
       "      <td>2</td>\n",
       "      <td>2.067134</td>\n",
       "      <td>...</td>\n",
       "      <td>62.72208</td>\n",
       "      <td>45.01232</td>\n",
       "      <td>17.70976</td>\n",
       "      <td>16.86239</td>\n",
       "      <td>0.799013</td>\n",
       "      <td>27770</td>\n",
       "      <td>436</td>\n",
       "      <td>NC</td>\n",
       "      <td>Out</td>\n",
       "      <td>0</td>\n",
       "    </tr>\n",
       "    <tr>\n",
       "      <th>3</th>\n",
       "      <td>ExpPHa07_1_d</td>\n",
       "      <td>3</td>\n",
       "      <td>27823</td>\n",
       "      <td>27844</td>\n",
       "      <td>433</td>\n",
       "      <td>456</td>\n",
       "      <td>0</td>\n",
       "      <td>0.000000</td>\n",
       "      <td>0</td>\n",
       "      <td>0.000000</td>\n",
       "      <td>...</td>\n",
       "      <td>94.69804</td>\n",
       "      <td>69.11727</td>\n",
       "      <td>25.58077</td>\n",
       "      <td>20.83001</td>\n",
       "      <td>0.860511</td>\n",
       "      <td>27833</td>\n",
       "      <td>444</td>\n",
       "      <td>NC</td>\n",
       "      <td>Out</td>\n",
       "      <td>0</td>\n",
       "    </tr>\n",
       "    <tr>\n",
       "      <th>4</th>\n",
       "      <td>ExpPHa07_1_d</td>\n",
       "      <td>4</td>\n",
       "      <td>27684</td>\n",
       "      <td>27719</td>\n",
       "      <td>436</td>\n",
       "      <td>458</td>\n",
       "      <td>1</td>\n",
       "      <td>0.491938</td>\n",
       "      <td>1</td>\n",
       "      <td>0.153903</td>\n",
       "      <td>...</td>\n",
       "      <td>138.23450</td>\n",
       "      <td>88.30285</td>\n",
       "      <td>49.93169</td>\n",
       "      <td>33.22882</td>\n",
       "      <td>0.583449</td>\n",
       "      <td>27701</td>\n",
       "      <td>447</td>\n",
       "      <td>NC</td>\n",
       "      <td>Out</td>\n",
       "      <td>0</td>\n",
       "    </tr>\n",
       "  </tbody>\n",
       "</table>\n",
       "<p>5 rows × 36 columns</p>\n",
       "</div>"
      ],
      "text/plain": [
       "       Image_ID  Object_Id   XMin   XMax  YMin  YMax  Opal_520_Copies  \\\n",
       "0  ExpPHa07_1_d          0  27795  27819   407   432                2   \n",
       "1  ExpPHa07_1_d          1  27780  27797   423   440                3   \n",
       "2  ExpPHa07_1_d          2  27762  27779   426   446                9   \n",
       "3  ExpPHa07_1_d          3  27823  27844   433   456                0   \n",
       "4  ExpPHa07_1_d          4  27684  27719   436   458                1   \n",
       "\n",
       "   Opal_520_Area_(µm²)  Opal_520_Classification  Opal_520_Cell_Intensity  ...  \\\n",
       "0             0.491938                        1                 0.124638  ...   \n",
       "1             0.491938                        1                 0.695621  ...   \n",
       "2             4.427441                        2                 2.067134  ...   \n",
       "3             0.000000                        0                 0.000000  ...   \n",
       "4             0.491938                        1                 0.153903  ...   \n",
       "\n",
       "   Cell_Area_(µm²)  Cytoplasm_Area_(µm²)  Nucleus_Area_(µm²)  \\\n",
       "0        112.40780              77.48022            34.92759   \n",
       "1         62.72208              46.98007            15.74201   \n",
       "2         62.72208              45.01232            17.70976   \n",
       "3         94.69804              69.11727            25.58077   \n",
       "4        138.23450              88.30285            49.93169   \n",
       "\n",
       "   Nucleus_Perimeter_(µm)  Nucleus_Roundness      X    Y  Classification  \\\n",
       "0                24.79763           0.806687  27807  419              NC   \n",
       "1                16.86239           0.722899  27788  431              NC   \n",
       "2                16.86239           0.799013  27770  436              NC   \n",
       "3                20.83001           0.860511  27833  444              NC   \n",
       "4                33.22882           0.583449  27701  447              NC   \n",
       "\n",
       "   mask  Region_ID  \n",
       "0   Out          0  \n",
       "1   Out          0  \n",
       "2   Out          0  \n",
       "3   Out          0  \n",
       "4   Out          0  \n",
       "\n",
       "[5 rows x 36 columns]"
      ]
     },
     "execution_count": 30,
     "metadata": {},
     "output_type": "execute_result"
    }
   ],
   "source": [
    "final.head()"
   ]
  },
  {
   "cell_type": "markdown",
   "metadata": {},
   "source": [
    "### Count of various cell types in a tissue"
   ]
  },
  {
   "cell_type": "code",
   "execution_count": 31,
   "metadata": {},
   "outputs": [
    {
     "data": {
      "image/png": "[encoded data removed]",
      "text/plain": [
       "<Figure size 640x480 with 3 Axes>"
      ]
     },
     "metadata": {},
     "output_type": "display_data"
    },
    {
     "name": "stdout",
     "output_type": "stream",
     "text": [
      "<ggplot: (304528327)>\n"
     ]
    },
    {
     "name": "stderr",
     "output_type": "stream",
     "text": [
      "/Library/Frameworks/Python.framework/Versions/3.8/lib/python3.8/site-packages/plotnine/ggplot.py:727: PlotnineWarning: Saving 6.4 x 4.8 in image.\n",
      "  warn(\"Saving {0} x {1} {2} image.\".format(\n",
      "/Library/Frameworks/Python.framework/Versions/3.8/lib/python3.8/site-packages/plotnine/ggplot.py:730: PlotnineWarning: Filename: ../Figures/ExpPHa07_1d/Cell_Count_various_compartments.png\n",
      "  warn('Filename: {}'.format(filename), PlotnineWarning)\n"
     ]
    }
   ],
   "source": [
    "\n",
    "p = (ggplot(final, aes(x='Classification', fill = 'Classification'))\n",
    " + geom_bar()\n",
    " + geom_text(\n",
    "     aes(label='stat(count)'),\n",
    "     stat='count',\n",
    "     nudge_x=-0.0,\n",
    "     nudge_y=2,\n",
    "     va='top',\n",
    "     size=8)\n",
    " + xlab('Cell Types')\n",
    "    \n",
    " + geom_text(\n",
    "     aes(label='stat(prop)*100', group=1),\n",
    "     stat='count',\n",
    "     nudge_x=0.15,\n",
    "     nudge_y=0.125,\n",
    "     va='bottom',\n",
    "     size=6,\n",
    "     format_string='({:.1f}%)'\n",
    ")\n",
    "\n",
    " )\n",
    "g = p + facet_wrap('~ mask')\n",
    "print(g)\n",
    "\n",
    "\n",
    "ggsave(filename='Cell_Count_various_compartments.png', plot = g, path = figpath)\n"
   ]
  },
  {
   "cell_type": "code",
   "execution_count": 32,
   "metadata": {},
   "outputs": [
    {
     "name": "stderr",
     "output_type": "stream",
     "text": [
      "/Library/Frameworks/Python.framework/Versions/3.8/lib/python3.8/site-packages/plotnine/utils.py:634: FutureWarning: Sorting because non-concatenation axis is not aligned. A future version\n",
      "of pandas will change to not sort by default.\n",
      "\n",
      "To accept the future behavior, pass 'sort=False'.\n",
      "\n",
      "To retain the current behavior and silence the warning, pass 'sort=True'.\n",
      "\n",
      "  return pd.concat(lst, axis=axis, ignore_index=True)\n"
     ]
    },
    {
     "data": {
      "image/png": "[encoded data removed]",
      "text/plain": [
       "<Figure size 640x480 with 9 Axes>"
      ]
     },
     "metadata": {},
     "output_type": "display_data"
    },
    {
     "name": "stdout",
     "output_type": "stream",
     "text": [
      "<ggplot: (304528138)>\n"
     ]
    },
    {
     "name": "stderr",
     "output_type": "stream",
     "text": [
      "/Library/Frameworks/Python.framework/Versions/3.8/lib/python3.8/site-packages/plotnine/ggplot.py:727: PlotnineWarning: Saving 6.4 x 4.8 in image.\n",
      "  warn(\"Saving {0} x {1} {2} image.\".format(\n",
      "/Library/Frameworks/Python.framework/Versions/3.8/lib/python3.8/site-packages/plotnine/ggplot.py:730: PlotnineWarning: Filename: ../Figures/ExpPHa07_1d/Cell_Count_various_Region_ID.png\n",
      "  warn('Filename: {}'.format(filename), PlotnineWarning)\n",
      "/Library/Frameworks/Python.framework/Versions/3.8/lib/python3.8/site-packages/plotnine/utils.py:634: FutureWarning: Sorting because non-concatenation axis is not aligned. A future version\n",
      "of pandas will change to not sort by default.\n",
      "\n",
      "To accept the future behavior, pass 'sort=False'.\n",
      "\n",
      "To retain the current behavior and silence the warning, pass 'sort=True'.\n",
      "\n",
      "  return pd.concat(lst, axis=axis, ignore_index=True)\n"
     ]
    }
   ],
   "source": [
    "p = (ggplot(final, aes(x='Classification', fill = 'Classification'))\n",
    " + geom_bar()\n",
    " + geom_text(\n",
    "     aes(label='stat(count)'),\n",
    "     stat='count',\n",
    "     nudge_x=-0.0,\n",
    "     nudge_y=2,\n",
    "     va='top',\n",
    "     size=8)\n",
    " + xlab('Cell Types')\n",
    "    \n",
    " + geom_text(\n",
    "     aes(label='stat(prop)*100', group=1),\n",
    "     stat='count',\n",
    "     nudge_x=0.15,\n",
    "     nudge_y=0.125,\n",
    "     va='bottom',\n",
    "     size=6,\n",
    "     format_string='({:.1f}%)'\n",
    ")\n",
    "\n",
    " )\n",
    "g = p + facet_wrap('~ Region_ID', nrow=5, scales=\"free_y\")\n",
    "print(g)\n",
    "\n",
    "\n",
    "ggsave(filename='Cell_Count_various_Region_ID.png', plot = g, path = figpath)"
   ]
  },
  {
   "cell_type": "markdown",
   "metadata": {},
   "source": [
    "### Plotting a Pie chart for total count of cell per tissue"
   ]
  },
  {
   "cell_type": "code",
   "execution_count": 307,
   "metadata": {},
   "outputs": [],
   "source": [
    "# for i, p in enumerate(final['mask'].unique()):\n",
    "#     comp = final.loc[final['mask'] == str(p)]\n",
    "#     comp.groupby('Classification').size()\n",
    "#     colors = [\"#8856a7\", \"#de2d26\", \"#addd8e\",'#43a2ca']\n",
    "#     labels = comp['Classification'].unique()\n",
    "#     values = comp['Classification'].value_counts(dropna=False)\n",
    "#     fig = go.Pie(labels=labels, values=values, marker=dict(colors=colors, line=dict(color='#FFF', width=2)),\n",
    "#                domain={'x': [0.0, 1], 'y': [0.0, 1]}, showlegend=False, name='Count of Cell types', textinfo='label+percent')\n",
    "    \n",
    "#     layout = go.Layout(height = 600,\n",
    "#                    width = 1000,\n",
    "#                    autosize = False,\n",
    "#                    title = str(p))\n",
    "    \n",
    "#     fig = go.Figure(data = fig, layout = layout)\n",
    "    \n",
    "#     fig\n",
    "\n",
    "\n",
    "    \n",
    "\n",
    "    \n",
    "\n"
   ]
  },
  {
   "cell_type": "markdown",
   "metadata": {},
   "source": [
    "### Plotting"
   ]
  },
  {
   "cell_type": "code",
   "execution_count": 117,
   "metadata": {},
   "outputs": [
    {
     "name": "stderr",
     "output_type": "stream",
     "text": [
      "/Library/Frameworks/Python.framework/Versions/3.8/lib/python3.8/site-packages/plotnine/ggplot.py:727: PlotnineWarning: Saving 6.4 x 4.8 in image.\n",
      "  warn(\"Saving {0} x {1} {2} image.\".format(\n",
      "/Library/Frameworks/Python.framework/Versions/3.8/lib/python3.8/site-packages/plotnine/ggplot.py:730: PlotnineWarning: Filename: ../Figures/ExpPHa07_1b/Out.png\n",
      "  warn('Filename: {}'.format(filename), PlotnineWarning)\n",
      "/Library/Frameworks/Python.framework/Versions/3.8/lib/python3.8/site-packages/plotnine/ggplot.py:727: PlotnineWarning: Saving 6.4 x 4.8 in image.\n",
      "  warn(\"Saving {0} x {1} {2} image.\".format(\n",
      "/Library/Frameworks/Python.framework/Versions/3.8/lib/python3.8/site-packages/plotnine/ggplot.py:730: PlotnineWarning: Filename: ../Figures/ExpPHa07_1b/gloms.png\n",
      "  warn('Filename: {}'.format(filename), PlotnineWarning)\n",
      "/Library/Frameworks/Python.framework/Versions/3.8/lib/python3.8/site-packages/plotnine/ggplot.py:727: PlotnineWarning: Saving 6.4 x 4.8 in image.\n",
      "  warn(\"Saving {0} x {1} {2} image.\".format(\n",
      "/Library/Frameworks/Python.framework/Versions/3.8/lib/python3.8/site-packages/plotnine/ggplot.py:730: PlotnineWarning: Filename: ../Figures/ExpPHa07_1b/vessels.png\n",
      "  warn('Filename: {}'.format(filename), PlotnineWarning)\n"
     ]
    }
   ],
   "source": [
    "tissuelist = final['mask'].unique()\n",
    "\n",
    "\n",
    "for i, p in enumerate(tissuelist):\n",
    "    \n",
    "    dt = final.loc[final['mask'] == str(p)]\n",
    "    \n",
    "    g = gg.ggplot(dt, gg.aes(x='X', y='Y',color = \"Classification\")) + \\\n",
    "    gg.geom_point(size = 0.5) + \\\n",
    "    gg.xlab(\"X\") + \\\n",
    "    gg.ylab(\"Y\") #+ \\\n",
    "#     gg.scale_colour_manual(name= \"Cell types\", \n",
    "#                            labels=['CM0', 'CM1', 'CM4','all', 'NC'], \n",
    "#                            values = [\"#f03b20\", \"#31a354\", \"#3182bd\",\"#fee6ce\", '#bababa']) + \\\n",
    "    gg.labs(title= 'Distribution of Cell Types_' +  str(p)) \n",
    "    ggsave(filename=str(p)+'.png', plot = g, path = figpath)\n",
    "         \n",
    "    \n",
    "        \n",
    "\n",
    "\n",
    "\n"
   ]
  },
  {
   "cell_type": "code",
   "execution_count": 379,
   "metadata": {},
   "outputs": [],
   "source": [
    "# import plotly\n",
    "# import plotly.graph_objs as go\n",
    "# from plotly import tools\n",
    "# import psutil\n",
    "\n",
    "# d = data.loc[data['Image_Location'] == 'ExpPHa07_1_a']\n",
    "# d.groupby('Classification').size()\n",
    "\n",
    "# colors = ['#fc9272','#ffff99', '#7fcdbb', '#beaed4', '#7fc97f']\n",
    "# labels = d['Classification'].unique()\n",
    "# values = d['Classification'].value_counts(dropna=False)\n",
    "\n",
    "# fig = go.Pie(labels=labels, values=values, marker=dict(colors=colors, line=dict(color='#FFF', width=2)),\n",
    "#                domain={'x': [0.0, 1], 'y': [0.0, 1]}, showlegend=False, name='Count of Cell types', textinfo='label+percent')\n",
    "    \n",
    "\n",
    "# layout = go.Layout(height = 600,\n",
    "#                    width = 1000,\n",
    "#                    autosize = False,\n",
    "#                    title = 'ExpPHa07_1_a')\n",
    "\n",
    "\n",
    "\n",
    "\n",
    "# fig = go.Figure(data = fig, layout = layout)\n",
    "# fig\n"
   ]
  },
  {
   "cell_type": "code",
   "execution_count": 33,
   "metadata": {},
   "outputs": [],
   "source": [
    "final['Region_ID']= final['Region_ID'].astype(int)"
   ]
  },
  {
   "cell_type": "markdown",
   "metadata": {},
   "source": [
    "## Calculating Distances Glomerulus"
   ]
  },
  {
   "cell_type": "code",
   "execution_count": 34,
   "metadata": {},
   "outputs": [],
   "source": [
    "import math\n",
    "\n",
    "\n",
    "glom_id = sorted(final.loc[final['mask'] == \"gloms\"]['Region_ID'].unique().tolist())\n",
    "\n",
    "prf = []\n",
    "\n",
    "for p in glom_id:\n",
    "    df = final.loc[(final['mask'] == 'gloms') & (final['Region_ID'] == p)]\n",
    "    Classification = []\n",
    "    for i in df['Classification']:\n",
    "        for j in df['Classification']:\n",
    "            cl = [i, j]\n",
    "            Classification.append(cl)\n",
    "            \n",
    "    mask = []\n",
    "    for i in df['mask']:\n",
    "        for j in df['mask']:\n",
    "            m = [i, j]\n",
    "            mask.append(m)\n",
    "            \n",
    "    Region_ID = []\n",
    "    for i in df['Region_ID']:\n",
    "        for j in df['Region_ID']:\n",
    "            r = [i, j]\n",
    "            Region_ID.append(r)\n",
    "            \n",
    "    X = list(df.X)       \n",
    "    Y = list(df.Y)\n",
    "\n",
    "    distance = []  \n",
    "    for i in range(0, len(X)):\n",
    "        for j in range(0, len(X)):\n",
    "            dist = math.sqrt((X[j] - X[i])**2 + ((Y[j] - Y[i])**2)) * 0.495952562137432\n",
    "            distance.append(dist)\n",
    "\n",
    "       \n",
    "    coordinates = []        \n",
    "    for i in zip(df.X, df.Y):\n",
    "        for j in zip(df.X, df.Y):\n",
    "            cor = [i, j]\n",
    "            coordinates.append(cor)\n",
    "        \n",
    "    obj = []        \n",
    "    for i in range(0, len(df.Object_Id)):\n",
    "        for j in range(0, len(df.Object_Id)):\n",
    "            com_obj = [i, j]\n",
    "            obj.append(com_obj)\n",
    "        \n",
    "    obj_id = pd.DataFrame(obj, columns=['objID_1', 'objID_2'])\n",
    "    dist = pd.DataFrame(distance, columns=['Distance'])\n",
    "    meta = pd.DataFrame(Classification, columns=['idx_1', 'idx_2'])\n",
    "    cord = pd.DataFrame(coordinates, columns=['cord_1', 'cord_2'])\n",
    "    mask = pd.DataFrame(mask, columns=['mask_1', 'mask_2'])\n",
    "    RID = pd.DataFrame(Region_ID, columns=['RID_1', 'RID_2'])\n",
    "\n",
    "    pf = pd.concat([obj_id, cord, meta,mask, RID, dist], axis =1)\n",
    "    \n",
    "    prf.append(pf)\n",
    "    \n",
    "    \n",
    "prf = pd.concat(prf)     \n"
   ]
  },
  {
   "cell_type": "code",
   "execution_count": 35,
   "metadata": {},
   "outputs": [],
   "source": [
    "\n",
    "prf[['X1', 'Y1']] = pd.DataFrame(prf['cord_1'].tolist(), index=prf.index) \n",
    "prf[['X2', 'Y2']] = pd.DataFrame(prf['cord_2'].tolist(), index=prf.index) "
   ]
  },
  {
   "cell_type": "markdown",
   "metadata": {},
   "source": [
    "## Distance Calculation for Vessels"
   ]
  },
  {
   "cell_type": "code",
   "execution_count": 36,
   "metadata": {},
   "outputs": [],
   "source": [
    "import math\n",
    "\n",
    "\n",
    "vessel_id = sorted(final.loc[final['mask'] == \"vessels\"]['Region_ID'].unique().tolist())\n",
    "\n",
    "vrf = []\n",
    "\n",
    "for p in vessel_id:\n",
    "    df = final.loc[(final['mask'] == 'vessels') & (final['Region_ID'] == p)]\n",
    "    Classification = []\n",
    "    for i in df['Classification']:\n",
    "        for j in df['Classification']:\n",
    "            cl = [i, j]\n",
    "            Classification.append(cl)\n",
    "            \n",
    "    mask = []\n",
    "    for i in df['mask']:\n",
    "        for j in df['mask']:\n",
    "            m = [i, j]\n",
    "            mask.append(m)\n",
    "            \n",
    "    Region_ID = []\n",
    "    for i in df['Region_ID']:\n",
    "        for j in df['Region_ID']:\n",
    "            r = [i, j]\n",
    "            Region_ID.append(r)\n",
    "            \n",
    "    X = list(df.X)       \n",
    "    Y = list(df.Y)\n",
    "\n",
    "    distance = []  \n",
    "    for i in range(0, len(X)):\n",
    "        for j in range(0, len(X)):\n",
    "            dist = math.sqrt((X[j] - X[i])**2 + ((Y[j] - Y[i])**2)) * 0.495952562137432\n",
    "            distance.append(dist)\n",
    "\n",
    "       \n",
    "    coordinates = []        \n",
    "    for i in zip(df.X, df.Y):\n",
    "        for j in zip(df.X, df.Y):\n",
    "            cor = [i, j]\n",
    "            coordinates.append(cor)\n",
    "        \n",
    "    obj = []        \n",
    "    for i in range(0, len(df.Object_Id)):\n",
    "        for j in range(0, len(df.Object_Id)):\n",
    "            com_obj = [i, j]\n",
    "            obj.append(com_obj)\n",
    "        \n",
    "    obj_id = pd.DataFrame(obj, columns=['objID_1', 'objID_2'])\n",
    "    dist = pd.DataFrame(distance, columns=['Distance'])\n",
    "    meta = pd.DataFrame(Classification, columns=['idx_1', 'idx_2'])\n",
    "    cord = pd.DataFrame(coordinates, columns=['cord_1', 'cord_2'])\n",
    "    mask = pd.DataFrame(mask, columns=['mask_1', 'mask_2'])\n",
    "    RID = pd.DataFrame(Region_ID, columns=['RID_1', 'RID_2'])\n",
    "\n",
    "    vf = pd.concat([obj_id, cord, meta,mask, RID, dist], axis =1)\n",
    "    \n",
    "    vrf.append(vf)\n",
    "    \n",
    "    \n",
    "vrf = pd.concat(vrf)     \n",
    "\n"
   ]
  },
  {
   "cell_type": "code",
   "execution_count": 37,
   "metadata": {},
   "outputs": [],
   "source": [
    "\n",
    "vrf[['X1', 'Y1']] = pd.DataFrame(vrf['cord_1'].tolist(), index=vrf.index) \n",
    "vrf[['X2', 'Y2']] = pd.DataFrame(vrf['cord_2'].tolist(), index=vrf.index) "
   ]
  },
  {
   "cell_type": "markdown",
   "metadata": {},
   "source": [
    "### Distance function for tissue Region (Except Glomerulus, Vessels)"
   ]
  },
  {
   "cell_type": "code",
   "execution_count": null,
   "metadata": {},
   "outputs": [],
   "source": [
    "import math\n",
    "\n",
    "\n",
    "out_id = sorted(final.loc[final['mask'] == \"Out\"]['Region_ID'].unique().tolist())\n",
    "\n",
    "orf = []\n",
    "\n",
    "for p in out_id:\n",
    "    df = final.loc[(final['mask'] == 'Out') & (final['Region_ID'] == p)]\n",
    "    Classification = []\n",
    "    for i in df['Classification']:\n",
    "        for j in df['Classification']:\n",
    "            cl = [i, j]\n",
    "            Classification.append(cl)\n",
    "            \n",
    "    mask = []\n",
    "    for i in df['mask']:\n",
    "        for j in df['mask']:\n",
    "            m = [i, j]\n",
    "            mask.append(m)\n",
    "            \n",
    "    Region_ID = []\n",
    "    for i in df['Region_ID']:\n",
    "        for j in df['Region_ID']:\n",
    "            r = [i, j]\n",
    "            Region_ID.append(r)\n",
    "            \n",
    "    X = list(df.X)       \n",
    "    Y = list(df.Y)\n",
    "\n",
    "    distance = []  \n",
    "    for i in range(0, len(X)):\n",
    "        for j in range(0, len(X)):\n",
    "            dist = math.sqrt((X[j] - X[i])**2 + ((Y[j] - Y[i])**2)) * 0.495952562137432\n",
    "            distance.append(dist)\n",
    "\n",
    "       \n",
    "    coordinates = []        \n",
    "    for i in zip(df.X, df.Y):\n",
    "        for j in zip(df.X, df.Y):\n",
    "            cor = [i, j]\n",
    "            coordinates.append(cor)\n",
    "        \n",
    "    obj = []        \n",
    "    for i in range(0, len(df.Object_Id)):\n",
    "        for j in range(0, len(df.Object_Id)):\n",
    "            com_obj = [i, j]\n",
    "            obj.append(com_obj)\n",
    "        \n",
    "    obj_id = pd.DataFrame(obj, columns=['objID_1', 'objID_2'])\n",
    "    dist = pd.DataFrame(distance, columns=['Distance'])\n",
    "    meta = pd.DataFrame(Classification, columns=['idx_1', 'idx_2'])\n",
    "    cord = pd.DataFrame(coordinates, columns=['cord_1', 'cord_2'])\n",
    "    mask = pd.DataFrame(mask, columns=['mask_1', 'mask_2'])\n",
    "    RID = pd.DataFrame(Region_ID, columns=['RID_1', 'RID_2'])\n",
    "\n",
    "    of = pd.concat([obj_id, cord, meta,mask, RID, dist], axis =1)\n",
    "    \n",
    "    orf.append(of)\n",
    "    \n",
    "    \n",
    "orf = pd.concat(orf)     "
   ]
  },
  {
   "cell_type": "markdown",
   "metadata": {},
   "source": [
    "### Sorting pairwise subtypes distances"
   ]
  },
  {
   "cell_type": "code",
   "execution_count": null,
   "metadata": {},
   "outputs": [],
   "source": [
    "# def sorting_rows(row):\n",
    "#     if (row['idx_1'] == 'CM0') & (row['idx_2'] == 'CM1'):\n",
    "#         return \"CM0_CM1\"\n",
    "#     elif (row['idx_1'] == 'CM0') & (row['idx_2'] == 'CM4'):\n",
    "#         return \"CM0_CM4\"\n",
    "#     elif (row['idx_1'] == 'CM1') & (row['idx_2'] == 'CM4'):\n",
    "#         return \"CM1_CM4\"\n",
    "#     else:\n",
    "#         return \"Others\"\n",
    "    \n",
    "    \n",
    "# prf['Sorted'] = prf.apply(sorting_rows, axis=1)\n",
    "\n"
   ]
  },
  {
   "cell_type": "code",
   "execution_count": 39,
   "metadata": {},
   "outputs": [
    {
     "data": {
      "text/plain": [
       "(433614, 15)"
      ]
     },
     "execution_count": 39,
     "metadata": {},
     "output_type": "execute_result"
    }
   ],
   "source": [
    "prf.shape"
   ]
  },
  {
   "cell_type": "markdown",
   "metadata": {},
   "source": [
    "### Sorting pairwise subtypes distances"
   ]
  },
  {
   "cell_type": "markdown",
   "metadata": {},
   "source": [
    "### Sorting distances of FIBROBLAST and MYLEOID cells only"
   ]
  },
  {
   "cell_type": "code",
   "execution_count": null,
   "metadata": {},
   "outputs": [],
   "source": [
    "# def sorting_rows(row):\n",
    "#     if (row['idx_1'] == 'FIBROBLAST') & (row['idx_2'] == 'MYELOID'):\n",
    "#         return \"TRUE\"\n",
    "#     else:\n",
    "#         return \"FALSE\"\n",
    "    \n",
    "# final['Sorted'] = final.apply(sorting_rows, axis=1)\n"
   ]
  },
  {
   "cell_type": "markdown",
   "metadata": {},
   "source": [
    "## Density plot for Glomerulus cell subtypes paired distances"
   ]
  },
  {
   "cell_type": "code",
   "execution_count": 60,
   "metadata": {},
   "outputs": [],
   "source": [
    "from adjustText import adjust_text\n",
    "2 7"
   ]
  },
  {
   "cell_type": "code",
   "execution_count": 61,
   "metadata": {},
   "outputs": [
    {
     "data": {
      "text/html": [
       "<div>\n",
       "<style scoped>\n",
       "    .dataframe tbody tr th:only-of-type {\n",
       "        vertical-align: middle;\n",
       "    }\n",
       "\n",
       "    .dataframe tbody tr th {\n",
       "        vertical-align: top;\n",
       "    }\n",
       "\n",
       "    .dataframe thead th {\n",
       "        text-align: right;\n",
       "    }\n",
       "</style>\n",
       "<table border=\"1\" class=\"dataframe\">\n",
       "  <thead>\n",
       "    <tr style=\"text-align: right;\">\n",
       "      <th></th>\n",
       "      <th>objID_1</th>\n",
       "      <th>objID_2</th>\n",
       "      <th>cord_1</th>\n",
       "      <th>cord_2</th>\n",
       "      <th>idx_1</th>\n",
       "      <th>idx_2</th>\n",
       "      <th>mask_1</th>\n",
       "      <th>mask_2</th>\n",
       "      <th>RID_1</th>\n",
       "      <th>RID_2</th>\n",
       "      <th>Distance</th>\n",
       "      <th>X1</th>\n",
       "      <th>Y1</th>\n",
       "      <th>X2</th>\n",
       "      <th>Y2</th>\n",
       "    </tr>\n",
       "  </thead>\n",
       "  <tbody>\n",
       "  </tbody>\n",
       "</table>\n",
       "</div>"
      ],
      "text/plain": [
       "Empty DataFrame\n",
       "Columns: [objID_1, objID_2, cord_1, cord_2, idx_1, idx_2, mask_1, mask_2, RID_1, RID_2, Distance, X1, Y1, X2, Y2]\n",
       "Index: []"
      ]
     },
     "execution_count": 61,
     "metadata": {},
     "output_type": "execute_result"
    }
   ],
   "source": [
    "glom_id = prf.RID_1.unique()\n",
    "#prf['idx_1'].unique()                      \n",
    "f = prf.loc[(prf['idx_1'] == 'CM1') & (prf['idx_2'] == 'CM4') & (prf['RID_1'] == 7)]\n",
    "f\n"
   ]
  },
  {
   "cell_type": "code",
   "execution_count": 63,
   "metadata": {},
   "outputs": [
    {
     "name": "stderr",
     "output_type": "stream",
     "text": [
      "/Library/Frameworks/Python.framework/Versions/3.8/lib/python3.8/site-packages/plotnine/ggplot.py:727: PlotnineWarning: Saving 6.4 x 4.8 in image.\n",
      "  warn(\"Saving {0} x {1} {2} image.\".format(\n",
      "/Library/Frameworks/Python.framework/Versions/3.8/lib/python3.8/site-packages/plotnine/ggplot.py:730: PlotnineWarning: Filename: ../Figures/ExpPHa07_1d/Glomerulus_CM1_CM4_3.png\n",
      "  warn('Filename: {}'.format(filename), PlotnineWarning)\n",
      "/Library/Frameworks/Python.framework/Versions/3.8/lib/python3.8/site-packages/plotnine/stats/stat_bin.py:93: PlotnineWarning: 'stat_bin()' using 'bins = 3'. Pick better value with 'binwidth'.\n",
      "  warn(msg.format(params['bins']), PlotnineWarning)\n",
      "/Library/Frameworks/Python.framework/Versions/3.8/lib/python3.8/site-packages/plotnine/ggplot.py:727: PlotnineWarning: Saving 6.4 x 4.8 in image.\n",
      "  warn(\"Saving {0} x {1} {2} image.\".format(\n",
      "/Library/Frameworks/Python.framework/Versions/3.8/lib/python3.8/site-packages/plotnine/ggplot.py:730: PlotnineWarning: Filename: ../Figures/ExpPHa07_1d/Glomerulus_CM1_CM4_4.png\n",
      "  warn('Filename: {}'.format(filename), PlotnineWarning)\n",
      "/Library/Frameworks/Python.framework/Versions/3.8/lib/python3.8/site-packages/plotnine/stats/stat_bin.py:93: PlotnineWarning: 'stat_bin()' using 'bins = 2'. Pick better value with 'binwidth'.\n",
      "  warn(msg.format(params['bins']), PlotnineWarning)\n",
      "/Library/Frameworks/Python.framework/Versions/3.8/lib/python3.8/site-packages/plotnine/ggplot.py:727: PlotnineWarning: Saving 6.4 x 4.8 in image.\n",
      "  warn(\"Saving {0} x {1} {2} image.\".format(\n",
      "/Library/Frameworks/Python.framework/Versions/3.8/lib/python3.8/site-packages/plotnine/ggplot.py:730: PlotnineWarning: Filename: ../Figures/ExpPHa07_1d/Glomerulus_CM1_CM4_5.png\n",
      "  warn('Filename: {}'.format(filename), PlotnineWarning)\n",
      "/Library/Frameworks/Python.framework/Versions/3.8/lib/python3.8/site-packages/plotnine/stats/stat_bin.py:93: PlotnineWarning: 'stat_bin()' using 'bins = 5'. Pick better value with 'binwidth'.\n",
      "  warn(msg.format(params['bins']), PlotnineWarning)\n",
      "/Library/Frameworks/Python.framework/Versions/3.8/lib/python3.8/site-packages/plotnine/ggplot.py:727: PlotnineWarning: Saving 6.4 x 4.8 in image.\n",
      "  warn(\"Saving {0} x {1} {2} image.\".format(\n",
      "/Library/Frameworks/Python.framework/Versions/3.8/lib/python3.8/site-packages/plotnine/ggplot.py:730: PlotnineWarning: Filename: ../Figures/ExpPHa07_1d/Glomerulus_CM1_CM4_6.png\n",
      "  warn('Filename: {}'.format(filename), PlotnineWarning)\n",
      "/Library/Frameworks/Python.framework/Versions/3.8/lib/python3.8/site-packages/plotnine/stats/stat_bin.py:93: PlotnineWarning: 'stat_bin()' using 'bins = 4'. Pick better value with 'binwidth'.\n",
      "  warn(msg.format(params['bins']), PlotnineWarning)\n"
     ]
    }
   ],
   "source": [
    "RID_list = [3,4,5,6]\n",
    "\n",
    "for p in RID_list:\n",
    "    f = prf.loc[(prf['idx_1'] == 'CM1') & (prf['idx_2'] == 'CM4') & (prf['RID_1'] == p)]\n",
    "    avg_dist = f['Distance'].mean()\n",
    "    g = ggplot(f, aes(x='Distance')) + \\\n",
    "    geom_histogram(color= '#e9a3c9', fill= '#e9a3c9', alpha=.2) + \\\n",
    "    geom_density() + \\\n",
    "    geom_vline(f, aes(xintercept='avg_dist'), color = '#ca0020') + \\\n",
    "    labs(title='Pair-wise CM1_CM4 distances [Glomerulus + Region_ID_' + str(p) + \"]\")\n",
    "    \n",
    "    ggsave(filename='Glomerulus_CM1_CM4_'+str(p)+'.png', plot = g, \n",
    "       path = figpath)\n"
   ]
  },
  {
   "cell_type": "code",
   "execution_count": 74,
   "metadata": {},
   "outputs": [
    {
     "data": {
      "text/html": [
       "<div>\n",
       "<style scoped>\n",
       "    .dataframe tbody tr th:only-of-type {\n",
       "        vertical-align: middle;\n",
       "    }\n",
       "\n",
       "    .dataframe tbody tr th {\n",
       "        vertical-align: top;\n",
       "    }\n",
       "\n",
       "    .dataframe thead th {\n",
       "        text-align: right;\n",
       "    }\n",
       "</style>\n",
       "<table border=\"1\" class=\"dataframe\">\n",
       "  <thead>\n",
       "    <tr style=\"text-align: right;\">\n",
       "      <th></th>\n",
       "      <th>objID_1</th>\n",
       "      <th>objID_2</th>\n",
       "      <th>cord_1</th>\n",
       "      <th>cord_2</th>\n",
       "      <th>idx_1</th>\n",
       "      <th>idx_2</th>\n",
       "      <th>mask_1</th>\n",
       "      <th>mask_2</th>\n",
       "      <th>RID_1</th>\n",
       "      <th>RID_2</th>\n",
       "      <th>Distance</th>\n",
       "      <th>X1</th>\n",
       "      <th>Y1</th>\n",
       "      <th>X2</th>\n",
       "      <th>Y2</th>\n",
       "    </tr>\n",
       "  </thead>\n",
       "  <tbody>\n",
       "    <tr>\n",
       "      <th>2880</th>\n",
       "      <td>18</td>\n",
       "      <td>72</td>\n",
       "      <td>(21083, 1888)</td>\n",
       "      <td>(20840, 2016)</td>\n",
       "      <td>CM1</td>\n",
       "      <td>CM4</td>\n",
       "      <td>vessels</td>\n",
       "      <td>vessels</td>\n",
       "      <td>9</td>\n",
       "      <td>9</td>\n",
       "      <td>136.213712</td>\n",
       "      <td>21083</td>\n",
       "      <td>1888</td>\n",
       "      <td>20840</td>\n",
       "      <td>2016</td>\n",
       "    </tr>\n",
       "    <tr>\n",
       "      <th>2904</th>\n",
       "      <td>18</td>\n",
       "      <td>96</td>\n",
       "      <td>(21083, 1888)</td>\n",
       "      <td>(21037, 2075)</td>\n",
       "      <td>CM1</td>\n",
       "      <td>CM4</td>\n",
       "      <td>vessels</td>\n",
       "      <td>vessels</td>\n",
       "      <td>9</td>\n",
       "      <td>9</td>\n",
       "      <td>95.507896</td>\n",
       "      <td>21083</td>\n",
       "      <td>1888</td>\n",
       "      <td>21037</td>\n",
       "      <td>2075</td>\n",
       "    </tr>\n",
       "    <tr>\n",
       "      <th>23472</th>\n",
       "      <td>150</td>\n",
       "      <td>72</td>\n",
       "      <td>(21160, 2223)</td>\n",
       "      <td>(20840, 2016)</td>\n",
       "      <td>CM1</td>\n",
       "      <td>CM4</td>\n",
       "      <td>vessels</td>\n",
       "      <td>vessels</td>\n",
       "      <td>9</td>\n",
       "      <td>9</td>\n",
       "      <td>189.015193</td>\n",
       "      <td>21160</td>\n",
       "      <td>2223</td>\n",
       "      <td>20840</td>\n",
       "      <td>2016</td>\n",
       "    </tr>\n",
       "    <tr>\n",
       "      <th>23496</th>\n",
       "      <td>150</td>\n",
       "      <td>96</td>\n",
       "      <td>(21160, 2223)</td>\n",
       "      <td>(21037, 2075)</td>\n",
       "      <td>CM1</td>\n",
       "      <td>CM4</td>\n",
       "      <td>vessels</td>\n",
       "      <td>vessels</td>\n",
       "      <td>9</td>\n",
       "      <td>9</td>\n",
       "      <td>95.440913</td>\n",
       "      <td>21160</td>\n",
       "      <td>2223</td>\n",
       "      <td>21037</td>\n",
       "      <td>2075</td>\n",
       "    </tr>\n",
       "  </tbody>\n",
       "</table>\n",
       "</div>"
      ],
      "text/plain": [
       "       objID_1  objID_2         cord_1         cord_2 idx_1 idx_2   mask_1  \\\n",
       "2880        18       72  (21083, 1888)  (20840, 2016)   CM1   CM4  vessels   \n",
       "2904        18       96  (21083, 1888)  (21037, 2075)   CM1   CM4  vessels   \n",
       "23472      150       72  (21160, 2223)  (20840, 2016)   CM1   CM4  vessels   \n",
       "23496      150       96  (21160, 2223)  (21037, 2075)   CM1   CM4  vessels   \n",
       "\n",
       "        mask_2  RID_1  RID_2    Distance     X1    Y1     X2    Y2  \n",
       "2880   vessels      9      9  136.213712  21083  1888  20840  2016  \n",
       "2904   vessels      9      9   95.507896  21083  1888  21037  2075  \n",
       "23472  vessels      9      9  189.015193  21160  2223  20840  2016  \n",
       "23496  vessels      9      9   95.440913  21160  2223  21037  2075  "
      ]
     },
     "execution_count": 74,
     "metadata": {},
     "output_type": "execute_result"
    }
   ],
   "source": [
    "vessel_id = vrf.RID_1.unique().tolist()\n",
    "vessel_id\n",
    "f = vrf.loc[(vrf['idx_1'] == 'CM1') & (vrf['idx_2'] == 'CM4') & (vrf['RID_1'] == 9)]\n",
    "f"
   ]
  },
  {
   "cell_type": "markdown",
   "metadata": {},
   "source": [
    "\n",
    "## Density plot for Vessels cell subtypes paired distances\n",
    "    \n",
    "    \n",
    "  "
   ]
  },
  {
   "cell_type": "code",
   "execution_count": 75,
   "metadata": {},
   "outputs": [
    {
     "name": "stderr",
     "output_type": "stream",
     "text": [
      "/Library/Frameworks/Python.framework/Versions/3.8/lib/python3.8/site-packages/plotnine/ggplot.py:727: PlotnineWarning: Saving 6.4 x 4.8 in image.\n",
      "  warn(\"Saving {0} x {1} {2} image.\".format(\n",
      "/Library/Frameworks/Python.framework/Versions/3.8/lib/python3.8/site-packages/plotnine/ggplot.py:730: PlotnineWarning: Filename: ../Figures/ExpPHa07_1d/Vessels_CM1_CM4_9.png\n",
      "  warn('Filename: {}'.format(filename), PlotnineWarning)\n",
      "/Library/Frameworks/Python.framework/Versions/3.8/lib/python3.8/site-packages/plotnine/stats/stat_bin.py:93: PlotnineWarning: 'stat_bin()' using 'bins = 2'. Pick better value with 'binwidth'.\n",
      "  warn(msg.format(params['bins']), PlotnineWarning)\n"
     ]
    }
   ],
   "source": [
    "#RID_list = vrf.RID_1.unique().tolist()\n",
    "RID_list = [9]\n",
    "for p in RID_list:\n",
    "    f = vrf.loc[(vrf['idx_1'] == 'CM1') & (vrf['idx_2'] == 'CM4') & (vrf['RID_1'] == p)]\n",
    "    avg_dist = f['Distance'].mean()\n",
    "    g = ggplot(f, aes(x='Distance')) + \\\n",
    "    geom_histogram(color= '#e9a3c9', fill= '#e9a3c9', alpha=.2) + \\\n",
    "    geom_density() + \\\n",
    "    geom_vline(f, aes(xintercept='avg_dist'), color = '#ca0020') + \\\n",
    "    labs(title='Pair-wise CM1_CM4 distances [Vessels + Region_ID_' + str(p) + \"]\")\n",
    "    \n",
    "    ggsave(filename='Vessels_CM1_CM4_'+str(p)+'.png', plot = g, \n",
    "       path = figpath)\n",
    "\n"
   ]
  },
  {
   "cell_type": "code",
   "execution_count": null,
   "metadata": {},
   "outputs": [],
   "source": [
    "### Density Plot of Outside tissue subtypes paired distances"
   ]
  },
  {
   "cell_type": "code",
   "execution_count": null,
   "metadata": {},
   "outputs": [],
   "source": [
    "out_id = orf.RID_1.unique()\n",
    "#prf['idx_1'].unique()                      \n",
    "f = orf.loc[(orf['idx_1'] == 'CM1') & (orf['idx_2'] == 'CM4') & (orf['RID_1'] == out_id)]\n",
    "f\n",
    "\n"
   ]
  },
  {
   "cell_type": "code",
   "execution_count": null,
   "metadata": {},
   "outputs": [],
   "source": [
    "#RID_list = vrf.RID_1.unique().tolist()\n",
    "RID_list = [9]\n",
    "for p in RID_list:\n",
    "    f = vrf.loc[(vrf['idx_1'] == 'CM1') & (vrf['idx_2'] == 'CM4') & (vrf['RID_1'] == p)]\n",
    "    avg_dist = f['Distance'].mean()\n",
    "    g = ggplot(f, aes(x='Distance')) + \\\n",
    "    geom_histogram(color= '#e9a3c9', fill= '#e9a3c9', alpha=.2) + \\\n",
    "    geom_density() + \\\n",
    "    geom_vline(f, aes(xintercept='avg_dist'), color = '#ca0020') + \\\n",
    "    labs(title='Pair-wise CM1_CM4 distances [Vessels + Region_ID_' + str(p) + \"]\")\n",
    "    \n",
    "    ggsave(filename='Vessels_CM1_CM4_'+str(p)+'.png', plot = g, \n",
    "       path = figpath)\n",
    "\n"
   ]
  },
  {
   "cell_type": "code",
   "execution_count": null,
   "metadata": {},
   "outputs": [],
   "source": [
    "\n",
    "p = gg.ggplot(f) + \\\n",
    "    gg.geom_point(gg.aes(x='X1', y='Y1'), size = 0.5, color = \"#9ecae1\") + \\\n",
    "    gg.xlab(\"X\") + \\\n",
    "    gg.ylab(\"Y\") + \\\n",
    "    gg.ggtitle(\"Distribution of Cell types in a tissue space\") + \\\n",
    "    gg.geom_point(gg.aes(x='X2', y='Y2'), size = 0.5, color = \"#de2d26\")\n",
    "   \n",
    "\n",
    "\n",
    "    \n",
    "\n",
    "#ggsave(filename='cell_classification.png', plot = p, \n",
    "       #path = '/Users/habbasi/Desktop/012120_Halo_outputs/Figures')\n",
    "\n"
   ]
  },
  {
   "cell_type": "code",
   "execution_count": null,
   "metadata": {},
   "outputs": [],
   "source": [
    "distlist = [15, 25, 50, 100, 250, 500, 1000, 2000]\n",
    "\n",
    "for i, p in enumerate(distlist):\n",
    "    \n",
    "    f2 = f.loc[final['Distance'] <= p]\n",
    "    g = gg.ggplot(f2) + \\\n",
    "    gg.geom_point(gg.aes(x='X1', y='Y1'), size = 0.5, color = \"#9ecae1\") + \\\n",
    "    gg.xlab(\"X\") + \\\n",
    "    gg.ylab(\"Y\") + \\\n",
    "    gg.labs(title= 'Distance_' +  str(p) + 'um') + \\\n",
    "    gg.geom_point(gg.aes(x='X2', y='Y2'), size = 0.5, color = \"#de2d26\") \n",
    "    ggsave(filename=str(p)+'.png', plot = g, \n",
    "       path = '../Figures/')\n",
    "    \n",
    "   \n",
    "\n",
    "\n",
    "    \n",
    "\n",
    "\n",
    "\n",
    "\n",
    "\n"
   ]
  },
  {
   "cell_type": "code",
   "execution_count": null,
   "metadata": {},
   "outputs": [],
   "source": [
    "# %reload_ext rpy2.ipython\n",
    "# %R -i new"
   ]
  },
  {
   "cell_type": "code",
   "execution_count": null,
   "metadata": {},
   "outputs": [],
   "source": [
    "# %reload_ext rpy2.ipython\n",
    "# %R -i data\n",
    "\n",
    "# from rpy2.robjects.packages import importr\n",
    "# import rpy2.robjects as ro\n",
    "\n",
    "# stats = importr('stats')\n",
    "# base = importr('base')\n",
    "# tidy = importr('tidyverse')\n",
    "# akima = importr('akima')\n",
    "\n",
    "\n",
    "# data.to_csv('../Data/data.csv')"
   ]
  },
  {
   "cell_type": "code",
   "execution_count": null,
   "metadata": {},
   "outputs": [],
   "source": [
    "# data_anno = \n",
    "\n",
    "# for i, p in enumerate(labels):\n",
    "#         poly = d[d.Annotation == str(p)]\n",
    "#         row, col = polygon(np.array(poly.X), np.array(poly.Y))\n",
    "# #         plt.plot(row, col)\n",
    "# #         plt.show()\n",
    "#         mask = [m for m in zip(row, col)]\n",
    "#         dt = [t for t in zip(data.X, data.Y)]\n",
    "#         d_mask = Intersection(dt,mask)\n",
    "#         dt_mask = pd.DataFrame(d_mask, columns=['X', 'Y'])\n",
    "#         dt_mask['Mask'] = str(p)\n",
    "#         data_anno.append(dt_mask)"
   ]
  }
 ],
 "metadata": {
  "kernelspec": {
   "display_name": "Python 3",
   "language": "python",
   "name": "python3"
  },
  "language_info": {
   "codemirror_mode": {
    "name": "ipython",
    "version": 3
   },
   "file_extension": ".py",
   "mimetype": "text/x-python",
   "name": "python",
   "nbconvert_exporter": "python",
   "pygments_lexer": "ipython3",
   "version": "3.8.0"
  }
 },
 "nbformat": 4,
 "nbformat_minor": 2
}
